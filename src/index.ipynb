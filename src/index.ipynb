{
 "cells": [
  {
   "cell_type": "code",
   "execution_count": 1,
   "metadata": {},
   "outputs": [],
   "source": [
    "# Importamos las librerias\n",
    "import numpy as np\n",
    "import pandas as pd\n",
    "import matplotlib.pyplot as plt\n",
    "import seaborn as sb"
   ]
  },
  {
   "cell_type": "code",
   "execution_count": 2,
   "metadata": {},
   "outputs": [],
   "source": [
    "# Esta linea permite que los graficos sean renderizados directamente en nuestro Notebook\n",
    "## Carguemos en un pandas dataframe nuestra base de datos\n",
    "%matplotlib inline"
   ]
  },
  {
   "cell_type": "code",
   "execution_count": 3,
   "metadata": {},
   "outputs": [],
   "source": [
    "# Carguemos en un pandas dataframe nuestra base de datos\n",
    "## pd.read_csv es el metodo que nos permite importar los datos desde un CSV y cargarlo en un DATAFRAME, que es el estructura de base de datos de pandas"
   ]
  },
  {
   "cell_type": "code",
   "execution_count": 4,
   "metadata": {},
   "outputs": [],
   "source": [
    "fish = pd.read_csv('../dataset/Seguimiento_PlayaPez.csv', encoding='utf-8')"
   ]
  },
  {
   "cell_type": "code",
   "execution_count": 5,
   "metadata": {},
   "outputs": [
    {
     "data": {
      "text/plain": [
       "pandas.core.frame.DataFrame"
      ]
     },
     "execution_count": 5,
     "metadata": {},
     "output_type": "execute_result"
    }
   ],
   "source": [
    "type(fish)"
   ]
  },
  {
   "cell_type": "code",
   "execution_count": 6,
   "metadata": {},
   "outputs": [
    {
     "data": {
      "text/html": [
       "<div>\n",
       "<style scoped>\n",
       "    .dataframe tbody tr th:only-of-type {\n",
       "        vertical-align: middle;\n",
       "    }\n",
       "\n",
       "    .dataframe tbody tr th {\n",
       "        vertical-align: top;\n",
       "    }\n",
       "\n",
       "    .dataframe thead th {\n",
       "        text-align: right;\n",
       "    }\n",
       "</style>\n",
       "<table border=\"1\" class=\"dataframe\">\n",
       "  <thead>\n",
       "    <tr style=\"text-align: right;\">\n",
       "      <th></th>\n",
       "      <th>Producto</th>\n",
       "      <th>Numero_Peces</th>\n",
       "      <th>Semana</th>\n",
       "      <th>Peso_Desde</th>\n",
       "      <th>Peso_Hasta</th>\n",
       "      <th>Ganacia _Semanla(g)</th>\n",
       "      <th>Tasa_Alimentacion(%)</th>\n",
       "      <th>N_Alimentacion_Dia</th>\n",
       "      <th>Alimento_diario(kg/dia)</th>\n",
       "      <th>Alimento_Semanal</th>\n",
       "      <th>Comsumo_Acumulado</th>\n",
       "      <th>Kilos_alimento_Producto</th>\n",
       "      <th>Conversion_Acumulada</th>\n",
       "      <th>Bultos</th>\n",
       "    </tr>\n",
       "  </thead>\n",
       "  <tbody>\n",
       "    <tr>\n",
       "      <th>0</th>\n",
       "      <td>40%Harina</td>\n",
       "      <td>1000</td>\n",
       "      <td>1</td>\n",
       "      <td>1.0</td>\n",
       "      <td>2.0</td>\n",
       "      <td>1.0</td>\n",
       "      <td>8.0</td>\n",
       "      <td>10</td>\n",
       "      <td>120,000</td>\n",
       "      <td>0.84</td>\n",
       "      <td>0.840</td>\n",
       "      <td>840,00</td>\n",
       "      <td>0.00</td>\n",
       "      <td>0.0</td>\n",
       "    </tr>\n",
       "    <tr>\n",
       "      <th>1</th>\n",
       "      <td>40%Harina</td>\n",
       "      <td>970</td>\n",
       "      <td>2</td>\n",
       "      <td>2.0</td>\n",
       "      <td>4.5</td>\n",
       "      <td>2.5</td>\n",
       "      <td>7.8</td>\n",
       "      <td>10</td>\n",
       "      <td>246</td>\n",
       "      <td>40.00</td>\n",
       "      <td>40.840</td>\n",
       "      <td>41.680,00</td>\n",
       "      <td>0.00</td>\n",
       "      <td>0.0</td>\n",
       "    </tr>\n",
       "    <tr>\n",
       "      <th>2</th>\n",
       "      <td>40%Harina</td>\n",
       "      <td>39</td>\n",
       "      <td>3</td>\n",
       "      <td>4.5</td>\n",
       "      <td>8.0</td>\n",
       "      <td>3.5</td>\n",
       "      <td>7.5</td>\n",
       "      <td>9</td>\n",
       "      <td>18</td>\n",
       "      <td>0.13</td>\n",
       "      <td>40.969</td>\n",
       "      <td>82.649,00</td>\n",
       "      <td>5.85</td>\n",
       "      <td>2.1</td>\n",
       "    </tr>\n",
       "    <tr>\n",
       "      <th>3</th>\n",
       "      <td>40%Harina</td>\n",
       "      <td>38</td>\n",
       "      <td>4</td>\n",
       "      <td>8.0</td>\n",
       "      <td>14.0</td>\n",
       "      <td>6.0</td>\n",
       "      <td>7.8</td>\n",
       "      <td>9</td>\n",
       "      <td>32</td>\n",
       "      <td>0.23</td>\n",
       "      <td>40.355</td>\n",
       "      <td>40.355,00</td>\n",
       "      <td>3.36</td>\n",
       "      <td>0.0</td>\n",
       "    </tr>\n",
       "    <tr>\n",
       "      <th>4</th>\n",
       "      <td>40%Harina</td>\n",
       "      <td>37</td>\n",
       "      <td>5</td>\n",
       "      <td>14.0</td>\n",
       "      <td>20.0</td>\n",
       "      <td>6.0</td>\n",
       "      <td>5.6</td>\n",
       "      <td>8</td>\n",
       "      <td>35</td>\n",
       "      <td>0.25</td>\n",
       "      <td>600.000</td>\n",
       "      <td>40.955,00</td>\n",
       "      <td>0.04</td>\n",
       "      <td>0.0</td>\n",
       "    </tr>\n",
       "  </tbody>\n",
       "</table>\n",
       "</div>"
      ],
      "text/plain": [
       "    Producto  Numero_Peces  Semana  Peso_Desde  Peso_Hasta  \\\n",
       "0  40%Harina          1000       1         1.0         2.0   \n",
       "1  40%Harina           970       2         2.0         4.5   \n",
       "2  40%Harina            39       3         4.5         8.0   \n",
       "3  40%Harina            38       4         8.0        14.0   \n",
       "4  40%Harina            37       5        14.0        20.0   \n",
       "\n",
       "   Ganacia _Semanla(g)  Tasa_Alimentacion(%)  N_Alimentacion_Dia  \\\n",
       "0                  1.0                   8.0                  10   \n",
       "1                  2.5                   7.8                  10   \n",
       "2                  3.5                   7.5                   9   \n",
       "3                  6.0                   7.8                   9   \n",
       "4                  6.0                   5.6                   8   \n",
       "\n",
       "  Alimento_diario(kg/dia)  Alimento_Semanal  Comsumo_Acumulado  \\\n",
       "0                 120,000              0.84              0.840   \n",
       "1                     246             40.00             40.840   \n",
       "2                      18              0.13             40.969   \n",
       "3                      32              0.23             40.355   \n",
       "4                      35              0.25            600.000   \n",
       "\n",
       "  Kilos_alimento_Producto  Conversion_Acumulada  Bultos  \n",
       "0                  840,00                  0.00     0.0  \n",
       "1               41.680,00                  0.00     0.0  \n",
       "2               82.649,00                  5.85     2.1  \n",
       "3               40.355,00                  3.36     0.0  \n",
       "4               40.955,00                  0.04     0.0  "
      ]
     },
     "execution_count": 6,
     "metadata": {},
     "output_type": "execute_result"
    }
   ],
   "source": [
    "fish.head()"
   ]
  },
  {
   "cell_type": "code",
   "execution_count": 7,
   "metadata": {},
   "outputs": [
    {
     "data": {
      "text/plain": [
       "(19, 14)"
      ]
     },
     "execution_count": 7,
     "metadata": {},
     "output_type": "execute_result"
    }
   ],
   "source": [
    "# Cuantas lineas y columnas tiene nuestro dataframe\n",
    "## Un dataframe es una estructura de datos que se compone de los elementos siguientes\n",
    "fish.shape"
   ]
  },
  {
   "cell_type": "code",
   "execution_count": 8,
   "metadata": {},
   "outputs": [
    {
     "data": {
      "text/plain": [
       "Index(['Producto', 'Numero_Peces', 'Semana', 'Peso_Desde', 'Peso_Hasta',\n",
       "       'Ganacia _Semanla(g)', 'Tasa_Alimentacion(%)', 'N_Alimentacion_Dia',\n",
       "       'Alimento_diario(kg/dia)', 'Alimento_Semanal', 'Comsumo_Acumulado',\n",
       "       'Kilos_alimento_Producto', 'Conversion_Acumulada', 'Bultos'],\n",
       "      dtype='object')"
      ]
     },
     "execution_count": 8,
     "metadata": {},
     "output_type": "execute_result"
    }
   ],
   "source": [
    "# visualizemos las columnas\n",
    "fish.columns"
   ]
  },
  {
   "cell_type": "code",
   "execution_count": 9,
   "metadata": {},
   "outputs": [
    {
     "data": {
      "text/plain": [
       "RangeIndex(start=0, stop=19, step=1)"
      ]
     },
     "execution_count": 9,
     "metadata": {},
     "output_type": "execute_result"
    }
   ],
   "source": [
    "fish.index"
   ]
  },
  {
   "cell_type": "code",
   "execution_count": 10,
   "metadata": {},
   "outputs": [
    {
     "data": {
      "text/plain": [
       "0    40%Harina\n",
       "1    40%Harina\n",
       "2    40%Harina\n",
       "3    40%Harina\n",
       "4    40%Harina\n",
       "Name: Producto, dtype: object"
      ]
     },
     "execution_count": 10,
     "metadata": {},
     "output_type": "execute_result"
    }
   ],
   "source": [
    "columna1 = fish['Producto']\n",
    "columna1.head()"
   ]
  },
  {
   "cell_type": "code",
   "execution_count": 11,
   "metadata": {},
   "outputs": [
    {
     "data": {
      "text/plain": [
       "Producto                   34%Harina\n",
       "Numero_Peces                      34\n",
       "Semana                            11\n",
       "Peso_Desde                      68.0\n",
       "Peso_Hasta                      80.0\n",
       "Ganacia _Semanla(g)             12.0\n",
       "Tasa_Alimentacion(%)             3.2\n",
       "N_Alimentacion_Dia                 6\n",
       "Alimento_diario(kg/dia)          0.1\n",
       "Alimento_Semanal                0.56\n",
       "Comsumo_Acumulado              1.519\n",
       "Kilos_alimento_Producto     2.372,00\n",
       "Conversion_Acumulada            0.05\n",
       "Bultos                           0.0\n",
       "Name: 10, dtype: object"
      ]
     },
     "execution_count": 11,
     "metadata": {},
     "output_type": "execute_result"
    }
   ],
   "source": [
    "linea = fish.loc[10,:]\n",
    "linea"
   ]
  },
  {
   "cell_type": "code",
   "execution_count": 12,
   "metadata": {},
   "outputs": [
    {
     "data": {
      "text/plain": [
       "0     40%Harina\n",
       "1     40%Harina\n",
       "2     40%Harina\n",
       "3     40%Harina\n",
       "4     40%Harina\n",
       "5     40%Harina\n",
       "6     34%Harina\n",
       "7     34%Harina\n",
       "8     34%Harina\n",
       "9     34%Harina\n",
       "10    34%Harina\n",
       "11    34%Harina\n",
       "12    34%Harina\n",
       "13    30%Harina\n",
       "14    30%Harina\n",
       "15    30%Harina\n",
       "16    30%Harina\n",
       "17    30%Harina\n",
       "18    30%Harina\n",
       "Name: Producto, dtype: object"
      ]
     },
     "execution_count": 12,
     "metadata": {},
     "output_type": "execute_result"
    }
   ],
   "source": [
    "fish['Producto']"
   ]
  },
  {
   "cell_type": "code",
   "execution_count": 13,
   "metadata": {},
   "outputs": [
    {
     "data": {
      "text/plain": [
       "0     40%Harina\n",
       "1     40%Harina\n",
       "2     40%Harina\n",
       "3     40%Harina\n",
       "4     40%Harina\n",
       "5     40%Harina\n",
       "6     34%Harina\n",
       "7     34%Harina\n",
       "8     34%Harina\n",
       "9     34%Harina\n",
       "10    34%Harina\n",
       "11    34%Harina\n",
       "12    34%Harina\n",
       "13    30%Harina\n",
       "14    30%Harina\n",
       "15    30%Harina\n",
       "16    30%Harina\n",
       "17    30%Harina\n",
       "18    30%Harina\n",
       "Name: Producto, dtype: object"
      ]
     },
     "execution_count": 13,
     "metadata": {},
     "output_type": "execute_result"
    }
   ],
   "source": [
    "fish.loc[:,'Producto']"
   ]
  },
  {
   "cell_type": "code",
   "execution_count": 14,
   "metadata": {},
   "outputs": [],
   "source": [
    "# A diferencia de Numpy, Pandas permiten cargar no solo datos numericos pero tambien datos de texto que vemos por ejemplo en las columnas de actores y mezclar distintos tipos de datos\n",
    "### . int64 y float64 corresponden a los mismos dtypes de Numpy\n",
    "### . Object es el object que permite manaejar datos textos de texto\n",
    "\n",
    "#### Columnas numericas y columnas de texto"
   ]
  },
  {
   "cell_type": "code",
   "execution_count": 15,
   "metadata": {},
   "outputs": [
    {
     "data": {
      "text/plain": [
       "Producto                    object\n",
       "Numero_Peces                 int64\n",
       "Semana                       int64\n",
       "Peso_Desde                 float64\n",
       "Peso_Hasta                 float64\n",
       "Ganacia _Semanla(g)        float64\n",
       "Tasa_Alimentacion(%)       float64\n",
       "N_Alimentacion_Dia           int64\n",
       "Alimento_diario(kg/dia)     object\n",
       "Alimento_Semanal           float64\n",
       "Comsumo_Acumulado          float64\n",
       "Kilos_alimento_Producto     object\n",
       "Conversion_Acumulada       float64\n",
       "Bultos                     float64\n",
       "dtype: object"
      ]
     },
     "execution_count": 15,
     "metadata": {},
     "output_type": "execute_result"
    }
   ],
   "source": [
    "fish.dtypes"
   ]
  },
  {
   "cell_type": "code",
   "execution_count": 16,
   "metadata": {},
   "outputs": [
    {
     "data": {
      "text/plain": [
       "pandas.core.series.Series"
      ]
     },
     "execution_count": 16,
     "metadata": {},
     "output_type": "execute_result"
    }
   ],
   "source": [
    "type(fish.dtypes)"
   ]
  },
  {
   "cell_type": "code",
   "execution_count": 17,
   "metadata": {},
   "outputs": [
    {
     "data": {
      "text/plain": [
       "Producto                   False\n",
       "Numero_Peces                True\n",
       "Semana                      True\n",
       "Peso_Desde                  True\n",
       "Peso_Hasta                  True\n",
       "Ganacia _Semanla(g)         True\n",
       "Tasa_Alimentacion(%)        True\n",
       "N_Alimentacion_Dia          True\n",
       "Alimento_diario(kg/dia)    False\n",
       "Alimento_Semanal            True\n",
       "Comsumo_Acumulado           True\n",
       "Kilos_alimento_Producto    False\n",
       "Conversion_Acumulada        True\n",
       "Bultos                      True\n",
       "dtype: bool"
      ]
     },
     "execution_count": 17,
     "metadata": {},
     "output_type": "execute_result"
    }
   ],
   "source": [
    "(fish.dtypes == int) | (fish.dtypes == float)"
   ]
  },
  {
   "cell_type": "code",
   "execution_count": 18,
   "metadata": {},
   "outputs": [
    {
     "data": {
      "text/plain": [
       "Producto                    True\n",
       "Numero_Peces               False\n",
       "Semana                     False\n",
       "Peso_Desde                 False\n",
       "Peso_Hasta                 False\n",
       "Ganacia _Semanla(g)        False\n",
       "Tasa_Alimentacion(%)       False\n",
       "N_Alimentacion_Dia         False\n",
       "Alimento_diario(kg/dia)     True\n",
       "Alimento_Semanal           False\n",
       "Comsumo_Acumulado          False\n",
       "Kilos_alimento_Producto     True\n",
       "Conversion_Acumulada       False\n",
       "Bultos                     False\n",
       "dtype: bool"
      ]
     },
     "execution_count": 18,
     "metadata": {},
     "output_type": "execute_result"
    }
   ],
   "source": [
    "fish.dtypes == object"
   ]
  },
  {
   "cell_type": "code",
   "execution_count": 19,
   "metadata": {},
   "outputs": [
    {
     "data": {
      "text/plain": [
       "Producto                   False\n",
       "Numero_Peces                True\n",
       "Semana                      True\n",
       "Peso_Desde                  True\n",
       "Peso_Hasta                  True\n",
       "Ganacia _Semanla(g)         True\n",
       "Tasa_Alimentacion(%)        True\n",
       "N_Alimentacion_Dia          True\n",
       "Alimento_diario(kg/dia)    False\n",
       "Alimento_Semanal            True\n",
       "Comsumo_Acumulado           True\n",
       "Kilos_alimento_Producto    False\n",
       "Conversion_Acumulada        True\n",
       "Bultos                      True\n",
       "dtype: bool"
      ]
     },
     "execution_count": 19,
     "metadata": {},
     "output_type": "execute_result"
    }
   ],
   "source": [
    "num = (fish.dtypes == float) | (fish.dtypes == int)\n",
    "num"
   ]
  },
  {
   "cell_type": "code",
   "execution_count": 20,
   "metadata": {},
   "outputs": [
    {
     "data": {
      "text/plain": [
       "Index(['Producto', 'Numero_Peces', 'Semana', 'Peso_Desde', 'Peso_Hasta',\n",
       "       'Ganacia _Semanla(g)', 'Tasa_Alimentacion(%)', 'N_Alimentacion_Dia',\n",
       "       'Alimento_diario(kg/dia)', 'Alimento_Semanal', 'Comsumo_Acumulado',\n",
       "       'Kilos_alimento_Producto', 'Conversion_Acumulada', 'Bultos'],\n",
       "      dtype='object')"
      ]
     },
     "execution_count": 20,
     "metadata": {},
     "output_type": "execute_result"
    }
   ],
   "source": [
    "num.index"
   ]
  },
  {
   "cell_type": "code",
   "execution_count": 21,
   "metadata": {},
   "outputs": [
    {
     "name": "stdout",
     "output_type": "stream",
     "text": [
      "Producto\n",
      "Numero_Peces\n",
      "Semana\n",
      "Peso_Desde\n",
      "Peso_Hasta\n",
      "Ganacia _Semanla(g)\n",
      "Tasa_Alimentacion(%)\n",
      "N_Alimentacion_Dia\n",
      "Alimento_diario(kg/dia)\n",
      "Alimento_Semanal\n",
      "Comsumo_Acumulado\n",
      "Kilos_alimento_Producto\n",
      "Conversion_Acumulada\n",
      "Bultos\n"
     ]
    }
   ],
   "source": [
    "for el in num.index:\n",
    "    print(el)"
   ]
  },
  {
   "cell_type": "code",
   "execution_count": 22,
   "metadata": {},
   "outputs": [],
   "source": [
    "num_cols = [c for c in num.index if num[c]]"
   ]
  },
  {
   "cell_type": "code",
   "execution_count": 23,
   "metadata": {},
   "outputs": [
    {
     "data": {
      "text/plain": [
       "['Numero_Peces',\n",
       " 'Semana',\n",
       " 'Peso_Desde',\n",
       " 'Peso_Hasta',\n",
       " 'Ganacia _Semanla(g)',\n",
       " 'Tasa_Alimentacion(%)',\n",
       " 'N_Alimentacion_Dia',\n",
       " 'Alimento_Semanal',\n",
       " 'Comsumo_Acumulado',\n",
       " 'Conversion_Acumulada',\n",
       " 'Bultos']"
      ]
     },
     "execution_count": 23,
     "metadata": {},
     "output_type": "execute_result"
    }
   ],
   "source": [
    "num_cols"
   ]
  },
  {
   "cell_type": "code",
   "execution_count": 24,
   "metadata": {},
   "outputs": [
    {
     "data": {
      "text/plain": [
       "Producto                    True\n",
       "Numero_Peces               False\n",
       "Semana                     False\n",
       "Peso_Desde                 False\n",
       "Peso_Hasta                 False\n",
       "Ganacia _Semanla(g)        False\n",
       "Tasa_Alimentacion(%)       False\n",
       "N_Alimentacion_Dia         False\n",
       "Alimento_diario(kg/dia)     True\n",
       "Alimento_Semanal           False\n",
       "Comsumo_Acumulado          False\n",
       "Kilos_alimento_Producto     True\n",
       "Conversion_Acumulada       False\n",
       "Bultos                     False\n",
       "dtype: bool"
      ]
     },
     "execution_count": 24,
     "metadata": {},
     "output_type": "execute_result"
    }
   ],
   "source": [
    "fish.dtypes == object"
   ]
  },
  {
   "cell_type": "code",
   "execution_count": 25,
   "metadata": {},
   "outputs": [],
   "source": [
    "obj = (fish.dtypes == object)\n",
    "obj_cols = [c for c in obj.index if obj[c]]"
   ]
  },
  {
   "cell_type": "code",
   "execution_count": 26,
   "metadata": {},
   "outputs": [
    {
     "data": {
      "text/plain": [
       "['Producto', 'Alimento_diario(kg/dia)', 'Kilos_alimento_Producto']"
      ]
     },
     "execution_count": 26,
     "metadata": {},
     "output_type": "execute_result"
    }
   ],
   "source": [
    "obj_cols"
   ]
  },
  {
   "cell_type": "code",
   "execution_count": 27,
   "metadata": {},
   "outputs": [
    {
     "data": {
      "text/plain": [
       "['Numero_Peces',\n",
       " 'Semana',\n",
       " 'Peso_Desde',\n",
       " 'Peso_Hasta',\n",
       " 'Ganacia _Semanla(g)',\n",
       " 'Tasa_Alimentacion(%)',\n",
       " 'N_Alimentacion_Dia',\n",
       " 'Alimento_Semanal',\n",
       " 'Comsumo_Acumulado',\n",
       " 'Conversion_Acumulada',\n",
       " 'Bultos']"
      ]
     },
     "execution_count": 27,
     "metadata": {},
     "output_type": "execute_result"
    }
   ],
   "source": [
    "num_cols"
   ]
  },
  {
   "cell_type": "code",
   "execution_count": 28,
   "metadata": {},
   "outputs": [
    {
     "data": {
      "text/html": [
       "<div>\n",
       "<style scoped>\n",
       "    .dataframe tbody tr th:only-of-type {\n",
       "        vertical-align: middle;\n",
       "    }\n",
       "\n",
       "    .dataframe tbody tr th {\n",
       "        vertical-align: top;\n",
       "    }\n",
       "\n",
       "    .dataframe thead th {\n",
       "        text-align: right;\n",
       "    }\n",
       "</style>\n",
       "<table border=\"1\" class=\"dataframe\">\n",
       "  <thead>\n",
       "    <tr style=\"text-align: right;\">\n",
       "      <th></th>\n",
       "      <th>Numero_Peces</th>\n",
       "      <th>Semana</th>\n",
       "      <th>Peso_Desde</th>\n",
       "      <th>Peso_Hasta</th>\n",
       "      <th>Ganacia _Semanla(g)</th>\n",
       "      <th>Tasa_Alimentacion(%)</th>\n",
       "      <th>N_Alimentacion_Dia</th>\n",
       "      <th>Alimento_Semanal</th>\n",
       "      <th>Comsumo_Acumulado</th>\n",
       "      <th>Conversion_Acumulada</th>\n",
       "      <th>Bultos</th>\n",
       "    </tr>\n",
       "  </thead>\n",
       "  <tbody>\n",
       "    <tr>\n",
       "      <th>0</th>\n",
       "      <td>1000</td>\n",
       "      <td>1</td>\n",
       "      <td>1.0</td>\n",
       "      <td>2.0</td>\n",
       "      <td>1.0</td>\n",
       "      <td>8.0</td>\n",
       "      <td>10</td>\n",
       "      <td>0.84</td>\n",
       "      <td>0.840</td>\n",
       "      <td>0.00</td>\n",
       "      <td>0.0</td>\n",
       "    </tr>\n",
       "    <tr>\n",
       "      <th>1</th>\n",
       "      <td>970</td>\n",
       "      <td>2</td>\n",
       "      <td>2.0</td>\n",
       "      <td>4.5</td>\n",
       "      <td>2.5</td>\n",
       "      <td>7.8</td>\n",
       "      <td>10</td>\n",
       "      <td>40.00</td>\n",
       "      <td>40.840</td>\n",
       "      <td>0.00</td>\n",
       "      <td>0.0</td>\n",
       "    </tr>\n",
       "    <tr>\n",
       "      <th>2</th>\n",
       "      <td>39</td>\n",
       "      <td>3</td>\n",
       "      <td>4.5</td>\n",
       "      <td>8.0</td>\n",
       "      <td>3.5</td>\n",
       "      <td>7.5</td>\n",
       "      <td>9</td>\n",
       "      <td>0.13</td>\n",
       "      <td>40.969</td>\n",
       "      <td>5.85</td>\n",
       "      <td>2.1</td>\n",
       "    </tr>\n",
       "    <tr>\n",
       "      <th>3</th>\n",
       "      <td>38</td>\n",
       "      <td>4</td>\n",
       "      <td>8.0</td>\n",
       "      <td>14.0</td>\n",
       "      <td>6.0</td>\n",
       "      <td>7.8</td>\n",
       "      <td>9</td>\n",
       "      <td>0.23</td>\n",
       "      <td>40.355</td>\n",
       "      <td>3.36</td>\n",
       "      <td>0.0</td>\n",
       "    </tr>\n",
       "    <tr>\n",
       "      <th>4</th>\n",
       "      <td>37</td>\n",
       "      <td>5</td>\n",
       "      <td>14.0</td>\n",
       "      <td>20.0</td>\n",
       "      <td>6.0</td>\n",
       "      <td>5.6</td>\n",
       "      <td>8</td>\n",
       "      <td>0.25</td>\n",
       "      <td>600.000</td>\n",
       "      <td>0.04</td>\n",
       "      <td>0.0</td>\n",
       "    </tr>\n",
       "    <tr>\n",
       "      <th>5</th>\n",
       "      <td>37</td>\n",
       "      <td>6</td>\n",
       "      <td>20.0</td>\n",
       "      <td>28.0</td>\n",
       "      <td>8.0</td>\n",
       "      <td>5.3</td>\n",
       "      <td>8</td>\n",
       "      <td>0.33</td>\n",
       "      <td>797.000</td>\n",
       "      <td>0.04</td>\n",
       "      <td>1.0</td>\n",
       "    </tr>\n",
       "    <tr>\n",
       "      <th>6</th>\n",
       "      <td>35</td>\n",
       "      <td>7</td>\n",
       "      <td>28.0</td>\n",
       "      <td>38.0</td>\n",
       "      <td>10.0</td>\n",
       "      <td>5.2</td>\n",
       "      <td>7</td>\n",
       "      <td>0.42</td>\n",
       "      <td>1.000</td>\n",
       "      <td>0.04</td>\n",
       "      <td>0.0</td>\n",
       "    </tr>\n",
       "    <tr>\n",
       "      <th>7</th>\n",
       "      <td>35</td>\n",
       "      <td>8</td>\n",
       "      <td>38.0</td>\n",
       "      <td>48.0</td>\n",
       "      <td>10.0</td>\n",
       "      <td>4.2</td>\n",
       "      <td>7</td>\n",
       "      <td>0.44</td>\n",
       "      <td>1.178</td>\n",
       "      <td>0.04</td>\n",
       "      <td>0.0</td>\n",
       "    </tr>\n",
       "    <tr>\n",
       "      <th>8</th>\n",
       "      <td>34</td>\n",
       "      <td>9</td>\n",
       "      <td>48.0</td>\n",
       "      <td>58.0</td>\n",
       "      <td>10.0</td>\n",
       "      <td>3.6</td>\n",
       "      <td>6</td>\n",
       "      <td>0.46</td>\n",
       "      <td>1.312</td>\n",
       "      <td>0.04</td>\n",
       "      <td>0.0</td>\n",
       "    </tr>\n",
       "    <tr>\n",
       "      <th>9</th>\n",
       "      <td>34</td>\n",
       "      <td>10</td>\n",
       "      <td>58.0</td>\n",
       "      <td>68.0</td>\n",
       "      <td>10.0</td>\n",
       "      <td>3.3</td>\n",
       "      <td>6</td>\n",
       "      <td>0.50</td>\n",
       "      <td>1.392</td>\n",
       "      <td>0.05</td>\n",
       "      <td>0.0</td>\n",
       "    </tr>\n",
       "    <tr>\n",
       "      <th>10</th>\n",
       "      <td>34</td>\n",
       "      <td>11</td>\n",
       "      <td>68.0</td>\n",
       "      <td>80.0</td>\n",
       "      <td>12.0</td>\n",
       "      <td>3.2</td>\n",
       "      <td>6</td>\n",
       "      <td>0.56</td>\n",
       "      <td>1.519</td>\n",
       "      <td>0.05</td>\n",
       "      <td>0.0</td>\n",
       "    </tr>\n",
       "    <tr>\n",
       "      <th>11</th>\n",
       "      <td>34</td>\n",
       "      <td>12</td>\n",
       "      <td>80.0</td>\n",
       "      <td>100.0</td>\n",
       "      <td>20.0</td>\n",
       "      <td>3.0</td>\n",
       "      <td>6</td>\n",
       "      <td>0.64</td>\n",
       "      <td>1.700</td>\n",
       "      <td>0.04</td>\n",
       "      <td>0.0</td>\n",
       "    </tr>\n",
       "    <tr>\n",
       "      <th>12</th>\n",
       "      <td>34</td>\n",
       "      <td>13</td>\n",
       "      <td>100.0</td>\n",
       "      <td>120.0</td>\n",
       "      <td>20.0</td>\n",
       "      <td>2.9</td>\n",
       "      <td>6</td>\n",
       "      <td>0.75</td>\n",
       "      <td>1.954</td>\n",
       "      <td>0.04</td>\n",
       "      <td>0.1</td>\n",
       "    </tr>\n",
       "    <tr>\n",
       "      <th>13</th>\n",
       "      <td>32</td>\n",
       "      <td>14</td>\n",
       "      <td>120.0</td>\n",
       "      <td>140.0</td>\n",
       "      <td>20.0</td>\n",
       "      <td>2.9</td>\n",
       "      <td>5</td>\n",
       "      <td>0.84</td>\n",
       "      <td>2.235</td>\n",
       "      <td>0.04</td>\n",
       "      <td>0.0</td>\n",
       "    </tr>\n",
       "    <tr>\n",
       "      <th>14</th>\n",
       "      <td>32</td>\n",
       "      <td>15</td>\n",
       "      <td>140.0</td>\n",
       "      <td>160.0</td>\n",
       "      <td>20.0</td>\n",
       "      <td>2.6</td>\n",
       "      <td>5</td>\n",
       "      <td>0.87</td>\n",
       "      <td>2.466</td>\n",
       "      <td>0.04</td>\n",
       "      <td>0.0</td>\n",
       "    </tr>\n",
       "    <tr>\n",
       "      <th>15</th>\n",
       "      <td>32</td>\n",
       "      <td>16</td>\n",
       "      <td>160.0</td>\n",
       "      <td>180.0</td>\n",
       "      <td>20.0</td>\n",
       "      <td>2.4</td>\n",
       "      <td>5</td>\n",
       "      <td>0.91</td>\n",
       "      <td>2.622</td>\n",
       "      <td>0.04</td>\n",
       "      <td>0.0</td>\n",
       "    </tr>\n",
       "    <tr>\n",
       "      <th>16</th>\n",
       "      <td>32</td>\n",
       "      <td>17</td>\n",
       "      <td>180.0</td>\n",
       "      <td>200.0</td>\n",
       "      <td>20.0</td>\n",
       "      <td>2.2</td>\n",
       "      <td>5</td>\n",
       "      <td>0.93</td>\n",
       "      <td>2.705</td>\n",
       "      <td>0.05</td>\n",
       "      <td>0.0</td>\n",
       "    </tr>\n",
       "    <tr>\n",
       "      <th>17</th>\n",
       "      <td>32</td>\n",
       "      <td>18</td>\n",
       "      <td>200.0</td>\n",
       "      <td>220.0</td>\n",
       "      <td>20.0</td>\n",
       "      <td>2.1</td>\n",
       "      <td>5</td>\n",
       "      <td>0.98</td>\n",
       "      <td>2.810</td>\n",
       "      <td>0.05</td>\n",
       "      <td>0.0</td>\n",
       "    </tr>\n",
       "    <tr>\n",
       "      <th>18</th>\n",
       "      <td>31</td>\n",
       "      <td>19</td>\n",
       "      <td>220.0</td>\n",
       "      <td>245.0</td>\n",
       "      <td>25.0</td>\n",
       "      <td>1.9</td>\n",
       "      <td>5</td>\n",
       "      <td>0.97</td>\n",
       "      <td>2.876</td>\n",
       "      <td>0.04</td>\n",
       "      <td>0.1</td>\n",
       "    </tr>\n",
       "  </tbody>\n",
       "</table>\n",
       "</div>"
      ],
      "text/plain": [
       "    Numero_Peces  Semana  Peso_Desde  Peso_Hasta  Ganacia _Semanla(g)  \\\n",
       "0           1000       1         1.0         2.0                  1.0   \n",
       "1            970       2         2.0         4.5                  2.5   \n",
       "2             39       3         4.5         8.0                  3.5   \n",
       "3             38       4         8.0        14.0                  6.0   \n",
       "4             37       5        14.0        20.0                  6.0   \n",
       "5             37       6        20.0        28.0                  8.0   \n",
       "6             35       7        28.0        38.0                 10.0   \n",
       "7             35       8        38.0        48.0                 10.0   \n",
       "8             34       9        48.0        58.0                 10.0   \n",
       "9             34      10        58.0        68.0                 10.0   \n",
       "10            34      11        68.0        80.0                 12.0   \n",
       "11            34      12        80.0       100.0                 20.0   \n",
       "12            34      13       100.0       120.0                 20.0   \n",
       "13            32      14       120.0       140.0                 20.0   \n",
       "14            32      15       140.0       160.0                 20.0   \n",
       "15            32      16       160.0       180.0                 20.0   \n",
       "16            32      17       180.0       200.0                 20.0   \n",
       "17            32      18       200.0       220.0                 20.0   \n",
       "18            31      19       220.0       245.0                 25.0   \n",
       "\n",
       "    Tasa_Alimentacion(%)  N_Alimentacion_Dia  Alimento_Semanal  \\\n",
       "0                    8.0                  10              0.84   \n",
       "1                    7.8                  10             40.00   \n",
       "2                    7.5                   9              0.13   \n",
       "3                    7.8                   9              0.23   \n",
       "4                    5.6                   8              0.25   \n",
       "5                    5.3                   8              0.33   \n",
       "6                    5.2                   7              0.42   \n",
       "7                    4.2                   7              0.44   \n",
       "8                    3.6                   6              0.46   \n",
       "9                    3.3                   6              0.50   \n",
       "10                   3.2                   6              0.56   \n",
       "11                   3.0                   6              0.64   \n",
       "12                   2.9                   6              0.75   \n",
       "13                   2.9                   5              0.84   \n",
       "14                   2.6                   5              0.87   \n",
       "15                   2.4                   5              0.91   \n",
       "16                   2.2                   5              0.93   \n",
       "17                   2.1                   5              0.98   \n",
       "18                   1.9                   5              0.97   \n",
       "\n",
       "    Comsumo_Acumulado  Conversion_Acumulada  Bultos  \n",
       "0               0.840                  0.00     0.0  \n",
       "1              40.840                  0.00     0.0  \n",
       "2              40.969                  5.85     2.1  \n",
       "3              40.355                  3.36     0.0  \n",
       "4             600.000                  0.04     0.0  \n",
       "5             797.000                  0.04     1.0  \n",
       "6               1.000                  0.04     0.0  \n",
       "7               1.178                  0.04     0.0  \n",
       "8               1.312                  0.04     0.0  \n",
       "9               1.392                  0.05     0.0  \n",
       "10              1.519                  0.05     0.0  \n",
       "11              1.700                  0.04     0.0  \n",
       "12              1.954                  0.04     0.1  \n",
       "13              2.235                  0.04     0.0  \n",
       "14              2.466                  0.04     0.0  \n",
       "15              2.622                  0.04     0.0  \n",
       "16              2.705                  0.05     0.0  \n",
       "17              2.810                  0.05     0.0  \n",
       "18              2.876                  0.04     0.1  "
      ]
     },
     "execution_count": 28,
     "metadata": {},
     "output_type": "execute_result"
    }
   ],
   "source": [
    "fish[num_cols]"
   ]
  },
  {
   "cell_type": "code",
   "execution_count": 29,
   "metadata": {},
   "outputs": [],
   "source": [
    "fish_num = fish[num_cols]"
   ]
  },
  {
   "cell_type": "code",
   "execution_count": 30,
   "metadata": {},
   "outputs": [
    {
     "data": {
      "text/html": [
       "<div>\n",
       "<style scoped>\n",
       "    .dataframe tbody tr th:only-of-type {\n",
       "        vertical-align: middle;\n",
       "    }\n",
       "\n",
       "    .dataframe tbody tr th {\n",
       "        vertical-align: top;\n",
       "    }\n",
       "\n",
       "    .dataframe thead th {\n",
       "        text-align: right;\n",
       "    }\n",
       "</style>\n",
       "<table border=\"1\" class=\"dataframe\">\n",
       "  <thead>\n",
       "    <tr style=\"text-align: right;\">\n",
       "      <th></th>\n",
       "      <th>Numero_Peces</th>\n",
       "      <th>Semana</th>\n",
       "      <th>Peso_Desde</th>\n",
       "      <th>Peso_Hasta</th>\n",
       "      <th>Ganacia _Semanla(g)</th>\n",
       "      <th>Tasa_Alimentacion(%)</th>\n",
       "      <th>N_Alimentacion_Dia</th>\n",
       "      <th>Alimento_Semanal</th>\n",
       "      <th>Comsumo_Acumulado</th>\n",
       "      <th>Conversion_Acumulada</th>\n",
       "      <th>Bultos</th>\n",
       "    </tr>\n",
       "  </thead>\n",
       "  <tbody>\n",
       "    <tr>\n",
       "      <th>count</th>\n",
       "      <td>19.000000</td>\n",
       "      <td>19.000000</td>\n",
       "      <td>19.000000</td>\n",
       "      <td>19.000000</td>\n",
       "      <td>19.000000</td>\n",
       "      <td>19.000000</td>\n",
       "      <td>19.000000</td>\n",
       "      <td>19.000000</td>\n",
       "      <td>19.000000</td>\n",
       "      <td>19.000000</td>\n",
       "      <td>19.000000</td>\n",
       "    </tr>\n",
       "    <tr>\n",
       "      <th>mean</th>\n",
       "      <td>134.315789</td>\n",
       "      <td>10.000000</td>\n",
       "      <td>78.394737</td>\n",
       "      <td>91.236842</td>\n",
       "      <td>12.842105</td>\n",
       "      <td>4.289474</td>\n",
       "      <td>6.736842</td>\n",
       "      <td>2.686842</td>\n",
       "      <td>81.356474</td>\n",
       "      <td>0.518421</td>\n",
       "      <td>0.173684</td>\n",
       "    </tr>\n",
       "    <tr>\n",
       "      <th>std</th>\n",
       "      <td>299.827738</td>\n",
       "      <td>5.627314</td>\n",
       "      <td>71.970785</td>\n",
       "      <td>78.835336</td>\n",
       "      <td>7.420042</td>\n",
       "      <td>2.131222</td>\n",
       "      <td>1.758854</td>\n",
       "      <td>9.039904</td>\n",
       "      <td>220.414062</td>\n",
       "      <td>1.498763</td>\n",
       "      <td>0.519446</td>\n",
       "    </tr>\n",
       "    <tr>\n",
       "      <th>min</th>\n",
       "      <td>31.000000</td>\n",
       "      <td>1.000000</td>\n",
       "      <td>1.000000</td>\n",
       "      <td>2.000000</td>\n",
       "      <td>1.000000</td>\n",
       "      <td>1.900000</td>\n",
       "      <td>5.000000</td>\n",
       "      <td>0.130000</td>\n",
       "      <td>0.840000</td>\n",
       "      <td>0.000000</td>\n",
       "      <td>0.000000</td>\n",
       "    </tr>\n",
       "    <tr>\n",
       "      <th>25%</th>\n",
       "      <td>32.000000</td>\n",
       "      <td>5.500000</td>\n",
       "      <td>17.000000</td>\n",
       "      <td>24.000000</td>\n",
       "      <td>7.000000</td>\n",
       "      <td>2.750000</td>\n",
       "      <td>5.000000</td>\n",
       "      <td>0.430000</td>\n",
       "      <td>1.455500</td>\n",
       "      <td>0.040000</td>\n",
       "      <td>0.000000</td>\n",
       "    </tr>\n",
       "    <tr>\n",
       "      <th>50%</th>\n",
       "      <td>34.000000</td>\n",
       "      <td>10.000000</td>\n",
       "      <td>58.000000</td>\n",
       "      <td>68.000000</td>\n",
       "      <td>10.000000</td>\n",
       "      <td>3.300000</td>\n",
       "      <td>6.000000</td>\n",
       "      <td>0.640000</td>\n",
       "      <td>2.466000</td>\n",
       "      <td>0.040000</td>\n",
       "      <td>0.000000</td>\n",
       "    </tr>\n",
       "    <tr>\n",
       "      <th>75%</th>\n",
       "      <td>37.000000</td>\n",
       "      <td>14.500000</td>\n",
       "      <td>130.000000</td>\n",
       "      <td>150.000000</td>\n",
       "      <td>20.000000</td>\n",
       "      <td>5.450000</td>\n",
       "      <td>8.000000</td>\n",
       "      <td>0.890000</td>\n",
       "      <td>21.615500</td>\n",
       "      <td>0.050000</td>\n",
       "      <td>0.000000</td>\n",
       "    </tr>\n",
       "    <tr>\n",
       "      <th>max</th>\n",
       "      <td>1000.000000</td>\n",
       "      <td>19.000000</td>\n",
       "      <td>220.000000</td>\n",
       "      <td>245.000000</td>\n",
       "      <td>25.000000</td>\n",
       "      <td>8.000000</td>\n",
       "      <td>10.000000</td>\n",
       "      <td>40.000000</td>\n",
       "      <td>797.000000</td>\n",
       "      <td>5.850000</td>\n",
       "      <td>2.100000</td>\n",
       "    </tr>\n",
       "  </tbody>\n",
       "</table>\n",
       "</div>"
      ],
      "text/plain": [
       "       Numero_Peces     Semana  Peso_Desde  Peso_Hasta  Ganacia _Semanla(g)  \\\n",
       "count     19.000000  19.000000   19.000000   19.000000            19.000000   \n",
       "mean     134.315789  10.000000   78.394737   91.236842            12.842105   \n",
       "std      299.827738   5.627314   71.970785   78.835336             7.420042   \n",
       "min       31.000000   1.000000    1.000000    2.000000             1.000000   \n",
       "25%       32.000000   5.500000   17.000000   24.000000             7.000000   \n",
       "50%       34.000000  10.000000   58.000000   68.000000            10.000000   \n",
       "75%       37.000000  14.500000  130.000000  150.000000            20.000000   \n",
       "max     1000.000000  19.000000  220.000000  245.000000            25.000000   \n",
       "\n",
       "       Tasa_Alimentacion(%)  N_Alimentacion_Dia  Alimento_Semanal  \\\n",
       "count             19.000000           19.000000         19.000000   \n",
       "mean               4.289474            6.736842          2.686842   \n",
       "std                2.131222            1.758854          9.039904   \n",
       "min                1.900000            5.000000          0.130000   \n",
       "25%                2.750000            5.000000          0.430000   \n",
       "50%                3.300000            6.000000          0.640000   \n",
       "75%                5.450000            8.000000          0.890000   \n",
       "max                8.000000           10.000000         40.000000   \n",
       "\n",
       "       Comsumo_Acumulado  Conversion_Acumulada     Bultos  \n",
       "count          19.000000             19.000000  19.000000  \n",
       "mean           81.356474              0.518421   0.173684  \n",
       "std           220.414062              1.498763   0.519446  \n",
       "min             0.840000              0.000000   0.000000  \n",
       "25%             1.455500              0.040000   0.000000  \n",
       "50%             2.466000              0.040000   0.000000  \n",
       "75%            21.615500              0.050000   0.000000  \n",
       "max           797.000000              5.850000   2.100000  "
      ]
     },
     "execution_count": 30,
     "metadata": {},
     "output_type": "execute_result"
    }
   ],
   "source": [
    "# Estadisticas de la columnas numericas\n",
    "fish_num.describe()"
   ]
  },
  {
   "cell_type": "code",
   "execution_count": 31,
   "metadata": {},
   "outputs": [],
   "source": [
    "# Estadisticas de la columnas de texto\n",
    "## Para hacer nuestro primer modelo mas simple para este trabajaremos solo con las columnas numericas"
   ]
  },
  {
   "cell_type": "code",
   "execution_count": 32,
   "metadata": {},
   "outputs": [
    {
     "data": {
      "text/plain": [
       "<AxesSubplot:>"
      ]
     },
     "execution_count": 32,
     "metadata": {},
     "output_type": "execute_result"
    },
    {
     "data": {
      "image/png": "[encoded data removed]",
      "text/plain": [
       "<Figure size 432x288 with 1 Axes>"
      ]
     },
     "metadata": {
      "needs_background": "light"
     },
     "output_type": "display_data"
    }
   ],
   "source": [
    "fish_num['Tasa_Alimentacion(%)'].hist()"
   ]
  },
  {
   "cell_type": "code",
   "execution_count": 33,
   "metadata": {},
   "outputs": [
    {
     "data": {
      "text/plain": [
       "<AxesSubplot:>"
      ]
     },
     "execution_count": 33,
     "metadata": {},
     "output_type": "execute_result"
    },
    {
     "data": {
      "image/png": "[encoded data removed]",
      "text/plain": [
       "<Figure size 432x288 with 1 Axes>"
      ]
     },
     "metadata": {
      "needs_background": "light"
     },
     "output_type": "display_data"
    }
   ],
   "source": [
    "fish_num['Ganacia _Semanla(g)'].hist()"
   ]
  },
  {
   "cell_type": "code",
   "execution_count": 34,
   "metadata": {},
   "outputs": [
    {
     "data": {
      "text/plain": [
       "<AxesSubplot:>"
      ]
     },
     "execution_count": 34,
     "metadata": {},
     "output_type": "execute_result"
    },
    {
     "data": {
      "image/png": "[encoded data removed]",
      "text/plain": [
       "<Figure size 432x288 with 1 Axes>"
      ]
     },
     "metadata": {
      "needs_background": "light"
     },
     "output_type": "display_data"
    }
   ],
   "source": [
    "fish_num['Alimento_Semanal'].hist()"
   ]
  },
  {
   "cell_type": "code",
   "execution_count": 35,
   "metadata": {},
   "outputs": [],
   "source": [
    "## Para poder debuggear esta situacion utilizamos una tecnica muy tipica de pandas que se llaman BOOLEAN FILTERING. Basicamente construimos una serie\n",
    "### de booleanos con el mismo indice que nuestro dataframe (la serie clasicamente la llamaremos mask)"
   ]
  },
  {
   "cell_type": "code",
   "execution_count": 36,
   "metadata": {},
   "outputs": [],
   "source": [
    "mak_fish = fish_num['Alimento_Semanal'] > 10.0"
   ]
  },
  {
   "cell_type": "code",
   "execution_count": 37,
   "metadata": {},
   "outputs": [
    {
     "data": {
      "text/html": [
       "<div>\n",
       "<style scoped>\n",
       "    .dataframe tbody tr th:only-of-type {\n",
       "        vertical-align: middle;\n",
       "    }\n",
       "\n",
       "    .dataframe tbody tr th {\n",
       "        vertical-align: top;\n",
       "    }\n",
       "\n",
       "    .dataframe thead th {\n",
       "        text-align: right;\n",
       "    }\n",
       "</style>\n",
       "<table border=\"1\" class=\"dataframe\">\n",
       "  <thead>\n",
       "    <tr style=\"text-align: right;\">\n",
       "      <th></th>\n",
       "      <th>Producto</th>\n",
       "      <th>Numero_Peces</th>\n",
       "      <th>Semana</th>\n",
       "      <th>Peso_Desde</th>\n",
       "      <th>Peso_Hasta</th>\n",
       "      <th>Ganacia _Semanla(g)</th>\n",
       "      <th>Tasa_Alimentacion(%)</th>\n",
       "      <th>N_Alimentacion_Dia</th>\n",
       "      <th>Alimento_diario(kg/dia)</th>\n",
       "      <th>Alimento_Semanal</th>\n",
       "      <th>Comsumo_Acumulado</th>\n",
       "      <th>Kilos_alimento_Producto</th>\n",
       "      <th>Conversion_Acumulada</th>\n",
       "      <th>Bultos</th>\n",
       "    </tr>\n",
       "  </thead>\n",
       "  <tbody>\n",
       "    <tr>\n",
       "      <th>1</th>\n",
       "      <td>40%Harina</td>\n",
       "      <td>970</td>\n",
       "      <td>2</td>\n",
       "      <td>2.0</td>\n",
       "      <td>4.5</td>\n",
       "      <td>2.5</td>\n",
       "      <td>7.8</td>\n",
       "      <td>10</td>\n",
       "      <td>246</td>\n",
       "      <td>40.0</td>\n",
       "      <td>40.84</td>\n",
       "      <td>41.680,00</td>\n",
       "      <td>0.0</td>\n",
       "      <td>0.0</td>\n",
       "    </tr>\n",
       "  </tbody>\n",
       "</table>\n",
       "</div>"
      ],
      "text/plain": [
       "    Producto  Numero_Peces  Semana  Peso_Desde  Peso_Hasta  \\\n",
       "1  40%Harina           970       2         2.0         4.5   \n",
       "\n",
       "   Ganacia _Semanla(g)  Tasa_Alimentacion(%)  N_Alimentacion_Dia  \\\n",
       "1                  2.5                   7.8                  10   \n",
       "\n",
       "  Alimento_diario(kg/dia)  Alimento_Semanal  Comsumo_Acumulado  \\\n",
       "1                     246              40.0              40.84   \n",
       "\n",
       "  Kilos_alimento_Producto  Conversion_Acumulada  Bultos  \n",
       "1               41.680,00                   0.0     0.0  "
      ]
     },
     "execution_count": 37,
     "metadata": {},
     "output_type": "execute_result"
    }
   ],
   "source": [
    "fish[mak_fish]"
   ]
  },
  {
   "cell_type": "code",
   "execution_count": 38,
   "metadata": {},
   "outputs": [],
   "source": [
    "from sklearn.impute import SimpleImputer"
   ]
  },
  {
   "cell_type": "code",
   "execution_count": 39,
   "metadata": {},
   "outputs": [],
   "source": [
    "imputer = SimpleImputer(missing_values=np.nan, strategy='mean')"
   ]
  },
  {
   "cell_type": "code",
   "execution_count": 40,
   "metadata": {},
   "outputs": [],
   "source": [
    "values = imputer.fit_transform(fish_num)"
   ]
  },
  {
   "cell_type": "code",
   "execution_count": 41,
   "metadata": {},
   "outputs": [
    {
     "data": {
      "text/plain": [
       "array([[1.0000e+03, 1.0000e+00, 1.0000e+00, 2.0000e+00, 1.0000e+00,\n",
       "        8.0000e+00, 1.0000e+01, 8.4000e-01, 8.4000e-01, 0.0000e+00,\n",
       "        0.0000e+00],\n",
       "       [9.7000e+02, 2.0000e+00, 2.0000e+00, 4.5000e+00, 2.5000e+00,\n",
       "        7.8000e+00, 1.0000e+01, 4.0000e+01, 4.0840e+01, 0.0000e+00,\n",
       "        0.0000e+00],\n",
       "       [3.9000e+01, 3.0000e+00, 4.5000e+00, 8.0000e+00, 3.5000e+00,\n",
       "        7.5000e+00, 9.0000e+00, 1.3000e-01, 4.0969e+01, 5.8500e+00,\n",
       "        2.1000e+00],\n",
       "       [3.8000e+01, 4.0000e+00, 8.0000e+00, 1.4000e+01, 6.0000e+00,\n",
       "        7.8000e+00, 9.0000e+00, 2.3000e-01, 4.0355e+01, 3.3600e+00,\n",
       "        0.0000e+00],\n",
       "       [3.7000e+01, 5.0000e+00, 1.4000e+01, 2.0000e+01, 6.0000e+00,\n",
       "        5.6000e+00, 8.0000e+00, 2.5000e-01, 6.0000e+02, 4.0000e-02,\n",
       "        0.0000e+00],\n",
       "       [3.7000e+01, 6.0000e+00, 2.0000e+01, 2.8000e+01, 8.0000e+00,\n",
       "        5.3000e+00, 8.0000e+00, 3.3000e-01, 7.9700e+02, 4.0000e-02,\n",
       "        1.0000e+00],\n",
       "       [3.5000e+01, 7.0000e+00, 2.8000e+01, 3.8000e+01, 1.0000e+01,\n",
       "        5.2000e+00, 7.0000e+00, 4.2000e-01, 1.0000e+00, 4.0000e-02,\n",
       "        0.0000e+00],\n",
       "       [3.5000e+01, 8.0000e+00, 3.8000e+01, 4.8000e+01, 1.0000e+01,\n",
       "        4.2000e+00, 7.0000e+00, 4.4000e-01, 1.1780e+00, 4.0000e-02,\n",
       "        0.0000e+00],\n",
       "       [3.4000e+01, 9.0000e+00, 4.8000e+01, 5.8000e+01, 1.0000e+01,\n",
       "        3.6000e+00, 6.0000e+00, 4.6000e-01, 1.3120e+00, 4.0000e-02,\n",
       "        0.0000e+00],\n",
       "       [3.4000e+01, 1.0000e+01, 5.8000e+01, 6.8000e+01, 1.0000e+01,\n",
       "        3.3000e+00, 6.0000e+00, 5.0000e-01, 1.3920e+00, 5.0000e-02,\n",
       "        0.0000e+00],\n",
       "       [3.4000e+01, 1.1000e+01, 6.8000e+01, 8.0000e+01, 1.2000e+01,\n",
       "        3.2000e+00, 6.0000e+00, 5.6000e-01, 1.5190e+00, 5.0000e-02,\n",
       "        0.0000e+00],\n",
       "       [3.4000e+01, 1.2000e+01, 8.0000e+01, 1.0000e+02, 2.0000e+01,\n",
       "        3.0000e+00, 6.0000e+00, 6.4000e-01, 1.7000e+00, 4.0000e-02,\n",
       "        0.0000e+00],\n",
       "       [3.4000e+01, 1.3000e+01, 1.0000e+02, 1.2000e+02, 2.0000e+01,\n",
       "        2.9000e+00, 6.0000e+00, 7.5000e-01, 1.9540e+00, 4.0000e-02,\n",
       "        1.0000e-01],\n",
       "       [3.2000e+01, 1.4000e+01, 1.2000e+02, 1.4000e+02, 2.0000e+01,\n",
       "        2.9000e+00, 5.0000e+00, 8.4000e-01, 2.2350e+00, 4.0000e-02,\n",
       "        0.0000e+00],\n",
       "       [3.2000e+01, 1.5000e+01, 1.4000e+02, 1.6000e+02, 2.0000e+01,\n",
       "        2.6000e+00, 5.0000e+00, 8.7000e-01, 2.4660e+00, 4.0000e-02,\n",
       "        0.0000e+00],\n",
       "       [3.2000e+01, 1.6000e+01, 1.6000e+02, 1.8000e+02, 2.0000e+01,\n",
       "        2.4000e+00, 5.0000e+00, 9.1000e-01, 2.6220e+00, 4.0000e-02,\n",
       "        0.0000e+00],\n",
       "       [3.2000e+01, 1.7000e+01, 1.8000e+02, 2.0000e+02, 2.0000e+01,\n",
       "        2.2000e+00, 5.0000e+00, 9.3000e-01, 2.7050e+00, 5.0000e-02,\n",
       "        0.0000e+00],\n",
       "       [3.2000e+01, 1.8000e+01, 2.0000e+02, 2.2000e+02, 2.0000e+01,\n",
       "        2.1000e+00, 5.0000e+00, 9.8000e-01, 2.8100e+00, 5.0000e-02,\n",
       "        0.0000e+00],\n",
       "       [3.1000e+01, 1.9000e+01, 2.2000e+02, 2.4500e+02, 2.5000e+01,\n",
       "        1.9000e+00, 5.0000e+00, 9.7000e-01, 2.8760e+00, 4.0000e-02,\n",
       "        1.0000e-01]])"
      ]
     },
     "execution_count": 41,
     "metadata": {},
     "output_type": "execute_result"
    }
   ],
   "source": [
    "values"
   ]
  },
  {
   "cell_type": "code",
   "execution_count": 42,
   "metadata": {},
   "outputs": [],
   "source": [
    "X = pd.DataFrame(fish_num)"
   ]
  },
  {
   "cell_type": "code",
   "execution_count": 43,
   "metadata": {},
   "outputs": [],
   "source": [
    "X.columns = fish_num.columns\n",
    "X.index = fish_num.index"
   ]
  },
  {
   "cell_type": "code",
   "execution_count": 44,
   "metadata": {},
   "outputs": [
    {
     "data": {
      "text/html": [
       "<div>\n",
       "<style scoped>\n",
       "    .dataframe tbody tr th:only-of-type {\n",
       "        vertical-align: middle;\n",
       "    }\n",
       "\n",
       "    .dataframe tbody tr th {\n",
       "        vertical-align: top;\n",
       "    }\n",
       "\n",
       "    .dataframe thead th {\n",
       "        text-align: right;\n",
       "    }\n",
       "</style>\n",
       "<table border=\"1\" class=\"dataframe\">\n",
       "  <thead>\n",
       "    <tr style=\"text-align: right;\">\n",
       "      <th></th>\n",
       "      <th>Numero_Peces</th>\n",
       "      <th>Semana</th>\n",
       "      <th>Peso_Desde</th>\n",
       "      <th>Peso_Hasta</th>\n",
       "      <th>Ganacia _Semanla(g)</th>\n",
       "      <th>Tasa_Alimentacion(%)</th>\n",
       "      <th>N_Alimentacion_Dia</th>\n",
       "      <th>Alimento_Semanal</th>\n",
       "      <th>Comsumo_Acumulado</th>\n",
       "      <th>Conversion_Acumulada</th>\n",
       "      <th>Bultos</th>\n",
       "    </tr>\n",
       "  </thead>\n",
       "  <tbody>\n",
       "    <tr>\n",
       "      <th>0</th>\n",
       "      <td>1000</td>\n",
       "      <td>1</td>\n",
       "      <td>1.0</td>\n",
       "      <td>2.0</td>\n",
       "      <td>1.0</td>\n",
       "      <td>8.0</td>\n",
       "      <td>10</td>\n",
       "      <td>0.84</td>\n",
       "      <td>0.840</td>\n",
       "      <td>0.00</td>\n",
       "      <td>0.0</td>\n",
       "    </tr>\n",
       "    <tr>\n",
       "      <th>1</th>\n",
       "      <td>970</td>\n",
       "      <td>2</td>\n",
       "      <td>2.0</td>\n",
       "      <td>4.5</td>\n",
       "      <td>2.5</td>\n",
       "      <td>7.8</td>\n",
       "      <td>10</td>\n",
       "      <td>40.00</td>\n",
       "      <td>40.840</td>\n",
       "      <td>0.00</td>\n",
       "      <td>0.0</td>\n",
       "    </tr>\n",
       "    <tr>\n",
       "      <th>2</th>\n",
       "      <td>39</td>\n",
       "      <td>3</td>\n",
       "      <td>4.5</td>\n",
       "      <td>8.0</td>\n",
       "      <td>3.5</td>\n",
       "      <td>7.5</td>\n",
       "      <td>9</td>\n",
       "      <td>0.13</td>\n",
       "      <td>40.969</td>\n",
       "      <td>5.85</td>\n",
       "      <td>2.1</td>\n",
       "    </tr>\n",
       "    <tr>\n",
       "      <th>3</th>\n",
       "      <td>38</td>\n",
       "      <td>4</td>\n",
       "      <td>8.0</td>\n",
       "      <td>14.0</td>\n",
       "      <td>6.0</td>\n",
       "      <td>7.8</td>\n",
       "      <td>9</td>\n",
       "      <td>0.23</td>\n",
       "      <td>40.355</td>\n",
       "      <td>3.36</td>\n",
       "      <td>0.0</td>\n",
       "    </tr>\n",
       "    <tr>\n",
       "      <th>4</th>\n",
       "      <td>37</td>\n",
       "      <td>5</td>\n",
       "      <td>14.0</td>\n",
       "      <td>20.0</td>\n",
       "      <td>6.0</td>\n",
       "      <td>5.6</td>\n",
       "      <td>8</td>\n",
       "      <td>0.25</td>\n",
       "      <td>600.000</td>\n",
       "      <td>0.04</td>\n",
       "      <td>0.0</td>\n",
       "    </tr>\n",
       "  </tbody>\n",
       "</table>\n",
       "</div>"
      ],
      "text/plain": [
       "   Numero_Peces  Semana  Peso_Desde  Peso_Hasta  Ganacia _Semanla(g)  \\\n",
       "0          1000       1         1.0         2.0                  1.0   \n",
       "1           970       2         2.0         4.5                  2.5   \n",
       "2            39       3         4.5         8.0                  3.5   \n",
       "3            38       4         8.0        14.0                  6.0   \n",
       "4            37       5        14.0        20.0                  6.0   \n",
       "\n",
       "   Tasa_Alimentacion(%)  N_Alimentacion_Dia  Alimento_Semanal  \\\n",
       "0                   8.0                  10              0.84   \n",
       "1                   7.8                  10             40.00   \n",
       "2                   7.5                   9              0.13   \n",
       "3                   7.8                   9              0.23   \n",
       "4                   5.6                   8              0.25   \n",
       "\n",
       "   Comsumo_Acumulado  Conversion_Acumulada  Bultos  \n",
       "0              0.840                  0.00     0.0  \n",
       "1             40.840                  0.00     0.0  \n",
       "2             40.969                  5.85     2.1  \n",
       "3             40.355                  3.36     0.0  \n",
       "4            600.000                  0.04     0.0  "
      ]
     },
     "execution_count": 44,
     "metadata": {},
     "output_type": "execute_result"
    }
   ],
   "source": [
    "X.head()"
   ]
  },
  {
   "cell_type": "code",
   "execution_count": 45,
   "metadata": {},
   "outputs": [],
   "source": [
    "X.to_csv('../dataset/X_fish.csv', index=False)"
   ]
  },
  {
   "cell_type": "code",
   "execution_count": 46,
   "metadata": {},
   "outputs": [],
   "source": [
    "## Scikit-learn es la libreria mas usada de MACHINE LEARNING tradicional la libreria incluye funcionalidades de:\n",
    "### . Preprocesamiento de datos en SKLEARN.PREPROCESSING\n",
    "### . Algoritmo de Machine Learning SKLEARN.LINEAR_MODEL, SKLEARN.SVM, SKLEARN.ENSEMBLE y muchos mas\n",
    "### . Evaluacion de modelos en SKLEARN.MODEL_SELECTION y SKLEARN.METRICS"
   ]
  },
  {
   "cell_type": "code",
   "execution_count": 47,
   "metadata": {},
   "outputs": [],
   "source": [
    "### Scikit-learn siguen muy de cerca los resultados de la investigacion e implementa los resultados mas maduros y probados en sus modulos.\n",
    "### La documentacion extensa muestra como la libreria es un comprendio en Machine Learning llevando a software"
   ]
  },
  {
   "cell_type": "code",
   "execution_count": 48,
   "metadata": {},
   "outputs": [],
   "source": [
    "### Implementacion un modelo simple de regresion primero"
   ]
  },
  {
   "cell_type": "code",
   "execution_count": 49,
   "metadata": {},
   "outputs": [],
   "source": [
    "X = pd.read_csv('../dataset/X_fish.csv')"
   ]
  },
  {
   "cell_type": "code",
   "execution_count": 50,
   "metadata": {},
   "outputs": [],
   "source": [
    "y = X['Bultos']"
   ]
  },
  {
   "cell_type": "code",
   "execution_count": 51,
   "metadata": {},
   "outputs": [],
   "source": [
    "X = X.drop(columns=['Bultos'], axis=1)"
   ]
  },
  {
   "cell_type": "code",
   "execution_count": 52,
   "metadata": {},
   "outputs": [],
   "source": [
    "from sklearn.model_selection import train_test_split\n",
    "X_train, X_test, y_train, y_test = train_test_split(X,y, test_size=0.4)"
   ]
  },
  {
   "cell_type": "code",
   "execution_count": 53,
   "metadata": {},
   "outputs": [
    {
     "name": "stdout",
     "output_type": "stream",
     "text": [
      "19\n",
      "11\n",
      "8\n"
     ]
    }
   ],
   "source": [
    "print(len(X))\n",
    "print(len(X_train))\n",
    "print(len(X_test))"
   ]
  },
  {
   "cell_type": "code",
   "execution_count": 54,
   "metadata": {},
   "outputs": [
    {
     "data": {
      "text/html": [
       "<div>\n",
       "<style scoped>\n",
       "    .dataframe tbody tr th:only-of-type {\n",
       "        vertical-align: middle;\n",
       "    }\n",
       "\n",
       "    .dataframe tbody tr th {\n",
       "        vertical-align: top;\n",
       "    }\n",
       "\n",
       "    .dataframe thead th {\n",
       "        text-align: right;\n",
       "    }\n",
       "</style>\n",
       "<table border=\"1\" class=\"dataframe\">\n",
       "  <thead>\n",
       "    <tr style=\"text-align: right;\">\n",
       "      <th></th>\n",
       "      <th>Numero_Peces</th>\n",
       "      <th>Semana</th>\n",
       "      <th>Peso_Desde</th>\n",
       "      <th>Peso_Hasta</th>\n",
       "      <th>Ganacia _Semanla(g)</th>\n",
       "      <th>Tasa_Alimentacion(%)</th>\n",
       "      <th>N_Alimentacion_Dia</th>\n",
       "      <th>Alimento_Semanal</th>\n",
       "      <th>Comsumo_Acumulado</th>\n",
       "      <th>Conversion_Acumulada</th>\n",
       "    </tr>\n",
       "  </thead>\n",
       "  <tbody>\n",
       "    <tr>\n",
       "      <th>0</th>\n",
       "      <td>1000</td>\n",
       "      <td>1</td>\n",
       "      <td>1.0</td>\n",
       "      <td>2.0</td>\n",
       "      <td>1.0</td>\n",
       "      <td>8.0</td>\n",
       "      <td>10</td>\n",
       "      <td>0.84</td>\n",
       "      <td>0.84</td>\n",
       "      <td>0.0</td>\n",
       "    </tr>\n",
       "  </tbody>\n",
       "</table>\n",
       "</div>"
      ],
      "text/plain": [
       "   Numero_Peces  Semana  Peso_Desde  Peso_Hasta  Ganacia _Semanla(g)  \\\n",
       "0          1000       1         1.0         2.0                  1.0   \n",
       "\n",
       "   Tasa_Alimentacion(%)  N_Alimentacion_Dia  Alimento_Semanal  \\\n",
       "0                   8.0                  10              0.84   \n",
       "\n",
       "   Comsumo_Acumulado  Conversion_Acumulada  \n",
       "0               0.84                   0.0  "
      ]
     },
     "execution_count": 54,
     "metadata": {},
     "output_type": "execute_result"
    }
   ],
   "source": [
    "X.head(1)"
   ]
  },
  {
   "cell_type": "code",
   "execution_count": 55,
   "metadata": {},
   "outputs": [
    {
     "data": {
      "text/html": [
       "<div>\n",
       "<style scoped>\n",
       "    .dataframe tbody tr th:only-of-type {\n",
       "        vertical-align: middle;\n",
       "    }\n",
       "\n",
       "    .dataframe tbody tr th {\n",
       "        vertical-align: top;\n",
       "    }\n",
       "\n",
       "    .dataframe thead th {\n",
       "        text-align: right;\n",
       "    }\n",
       "</style>\n",
       "<table border=\"1\" class=\"dataframe\">\n",
       "  <thead>\n",
       "    <tr style=\"text-align: right;\">\n",
       "      <th></th>\n",
       "      <th>Numero_Peces</th>\n",
       "      <th>Semana</th>\n",
       "      <th>Peso_Desde</th>\n",
       "      <th>Peso_Hasta</th>\n",
       "      <th>Ganacia _Semanla(g)</th>\n",
       "      <th>Tasa_Alimentacion(%)</th>\n",
       "      <th>N_Alimentacion_Dia</th>\n",
       "      <th>Alimento_Semanal</th>\n",
       "      <th>Comsumo_Acumulado</th>\n",
       "      <th>Conversion_Acumulada</th>\n",
       "    </tr>\n",
       "  </thead>\n",
       "  <tbody>\n",
       "    <tr>\n",
       "      <th>0</th>\n",
       "      <td>1000</td>\n",
       "      <td>1</td>\n",
       "      <td>1.0</td>\n",
       "      <td>2.0</td>\n",
       "      <td>1.0</td>\n",
       "      <td>8.0</td>\n",
       "      <td>10</td>\n",
       "      <td>0.84</td>\n",
       "      <td>0.840</td>\n",
       "      <td>0.00</td>\n",
       "    </tr>\n",
       "    <tr>\n",
       "      <th>1</th>\n",
       "      <td>970</td>\n",
       "      <td>2</td>\n",
       "      <td>2.0</td>\n",
       "      <td>4.5</td>\n",
       "      <td>2.5</td>\n",
       "      <td>7.8</td>\n",
       "      <td>10</td>\n",
       "      <td>40.00</td>\n",
       "      <td>40.840</td>\n",
       "      <td>0.00</td>\n",
       "    </tr>\n",
       "    <tr>\n",
       "      <th>2</th>\n",
       "      <td>39</td>\n",
       "      <td>3</td>\n",
       "      <td>4.5</td>\n",
       "      <td>8.0</td>\n",
       "      <td>3.5</td>\n",
       "      <td>7.5</td>\n",
       "      <td>9</td>\n",
       "      <td>0.13</td>\n",
       "      <td>40.969</td>\n",
       "      <td>5.85</td>\n",
       "    </tr>\n",
       "    <tr>\n",
       "      <th>3</th>\n",
       "      <td>38</td>\n",
       "      <td>4</td>\n",
       "      <td>8.0</td>\n",
       "      <td>14.0</td>\n",
       "      <td>6.0</td>\n",
       "      <td>7.8</td>\n",
       "      <td>9</td>\n",
       "      <td>0.23</td>\n",
       "      <td>40.355</td>\n",
       "      <td>3.36</td>\n",
       "    </tr>\n",
       "    <tr>\n",
       "      <th>4</th>\n",
       "      <td>37</td>\n",
       "      <td>5</td>\n",
       "      <td>14.0</td>\n",
       "      <td>20.0</td>\n",
       "      <td>6.0</td>\n",
       "      <td>5.6</td>\n",
       "      <td>8</td>\n",
       "      <td>0.25</td>\n",
       "      <td>600.000</td>\n",
       "      <td>0.04</td>\n",
       "    </tr>\n",
       "    <tr>\n",
       "      <th>5</th>\n",
       "      <td>37</td>\n",
       "      <td>6</td>\n",
       "      <td>20.0</td>\n",
       "      <td>28.0</td>\n",
       "      <td>8.0</td>\n",
       "      <td>5.3</td>\n",
       "      <td>8</td>\n",
       "      <td>0.33</td>\n",
       "      <td>797.000</td>\n",
       "      <td>0.04</td>\n",
       "    </tr>\n",
       "    <tr>\n",
       "      <th>6</th>\n",
       "      <td>35</td>\n",
       "      <td>7</td>\n",
       "      <td>28.0</td>\n",
       "      <td>38.0</td>\n",
       "      <td>10.0</td>\n",
       "      <td>5.2</td>\n",
       "      <td>7</td>\n",
       "      <td>0.42</td>\n",
       "      <td>1.000</td>\n",
       "      <td>0.04</td>\n",
       "    </tr>\n",
       "    <tr>\n",
       "      <th>7</th>\n",
       "      <td>35</td>\n",
       "      <td>8</td>\n",
       "      <td>38.0</td>\n",
       "      <td>48.0</td>\n",
       "      <td>10.0</td>\n",
       "      <td>4.2</td>\n",
       "      <td>7</td>\n",
       "      <td>0.44</td>\n",
       "      <td>1.178</td>\n",
       "      <td>0.04</td>\n",
       "    </tr>\n",
       "    <tr>\n",
       "      <th>8</th>\n",
       "      <td>34</td>\n",
       "      <td>9</td>\n",
       "      <td>48.0</td>\n",
       "      <td>58.0</td>\n",
       "      <td>10.0</td>\n",
       "      <td>3.6</td>\n",
       "      <td>6</td>\n",
       "      <td>0.46</td>\n",
       "      <td>1.312</td>\n",
       "      <td>0.04</td>\n",
       "    </tr>\n",
       "    <tr>\n",
       "      <th>9</th>\n",
       "      <td>34</td>\n",
       "      <td>10</td>\n",
       "      <td>58.0</td>\n",
       "      <td>68.0</td>\n",
       "      <td>10.0</td>\n",
       "      <td>3.3</td>\n",
       "      <td>6</td>\n",
       "      <td>0.50</td>\n",
       "      <td>1.392</td>\n",
       "      <td>0.05</td>\n",
       "    </tr>\n",
       "    <tr>\n",
       "      <th>10</th>\n",
       "      <td>34</td>\n",
       "      <td>11</td>\n",
       "      <td>68.0</td>\n",
       "      <td>80.0</td>\n",
       "      <td>12.0</td>\n",
       "      <td>3.2</td>\n",
       "      <td>6</td>\n",
       "      <td>0.56</td>\n",
       "      <td>1.519</td>\n",
       "      <td>0.05</td>\n",
       "    </tr>\n",
       "    <tr>\n",
       "      <th>11</th>\n",
       "      <td>34</td>\n",
       "      <td>12</td>\n",
       "      <td>80.0</td>\n",
       "      <td>100.0</td>\n",
       "      <td>20.0</td>\n",
       "      <td>3.0</td>\n",
       "      <td>6</td>\n",
       "      <td>0.64</td>\n",
       "      <td>1.700</td>\n",
       "      <td>0.04</td>\n",
       "    </tr>\n",
       "    <tr>\n",
       "      <th>12</th>\n",
       "      <td>34</td>\n",
       "      <td>13</td>\n",
       "      <td>100.0</td>\n",
       "      <td>120.0</td>\n",
       "      <td>20.0</td>\n",
       "      <td>2.9</td>\n",
       "      <td>6</td>\n",
       "      <td>0.75</td>\n",
       "      <td>1.954</td>\n",
       "      <td>0.04</td>\n",
       "    </tr>\n",
       "    <tr>\n",
       "      <th>13</th>\n",
       "      <td>32</td>\n",
       "      <td>14</td>\n",
       "      <td>120.0</td>\n",
       "      <td>140.0</td>\n",
       "      <td>20.0</td>\n",
       "      <td>2.9</td>\n",
       "      <td>5</td>\n",
       "      <td>0.84</td>\n",
       "      <td>2.235</td>\n",
       "      <td>0.04</td>\n",
       "    </tr>\n",
       "    <tr>\n",
       "      <th>14</th>\n",
       "      <td>32</td>\n",
       "      <td>15</td>\n",
       "      <td>140.0</td>\n",
       "      <td>160.0</td>\n",
       "      <td>20.0</td>\n",
       "      <td>2.6</td>\n",
       "      <td>5</td>\n",
       "      <td>0.87</td>\n",
       "      <td>2.466</td>\n",
       "      <td>0.04</td>\n",
       "    </tr>\n",
       "    <tr>\n",
       "      <th>15</th>\n",
       "      <td>32</td>\n",
       "      <td>16</td>\n",
       "      <td>160.0</td>\n",
       "      <td>180.0</td>\n",
       "      <td>20.0</td>\n",
       "      <td>2.4</td>\n",
       "      <td>5</td>\n",
       "      <td>0.91</td>\n",
       "      <td>2.622</td>\n",
       "      <td>0.04</td>\n",
       "    </tr>\n",
       "    <tr>\n",
       "      <th>16</th>\n",
       "      <td>32</td>\n",
       "      <td>17</td>\n",
       "      <td>180.0</td>\n",
       "      <td>200.0</td>\n",
       "      <td>20.0</td>\n",
       "      <td>2.2</td>\n",
       "      <td>5</td>\n",
       "      <td>0.93</td>\n",
       "      <td>2.705</td>\n",
       "      <td>0.05</td>\n",
       "    </tr>\n",
       "    <tr>\n",
       "      <th>17</th>\n",
       "      <td>32</td>\n",
       "      <td>18</td>\n",
       "      <td>200.0</td>\n",
       "      <td>220.0</td>\n",
       "      <td>20.0</td>\n",
       "      <td>2.1</td>\n",
       "      <td>5</td>\n",
       "      <td>0.98</td>\n",
       "      <td>2.810</td>\n",
       "      <td>0.05</td>\n",
       "    </tr>\n",
       "    <tr>\n",
       "      <th>18</th>\n",
       "      <td>31</td>\n",
       "      <td>19</td>\n",
       "      <td>220.0</td>\n",
       "      <td>245.0</td>\n",
       "      <td>25.0</td>\n",
       "      <td>1.9</td>\n",
       "      <td>5</td>\n",
       "      <td>0.97</td>\n",
       "      <td>2.876</td>\n",
       "      <td>0.04</td>\n",
       "    </tr>\n",
       "  </tbody>\n",
       "</table>\n",
       "</div>"
      ],
      "text/plain": [
       "    Numero_Peces  Semana  Peso_Desde  Peso_Hasta  Ganacia _Semanla(g)  \\\n",
       "0           1000       1         1.0         2.0                  1.0   \n",
       "1            970       2         2.0         4.5                  2.5   \n",
       "2             39       3         4.5         8.0                  3.5   \n",
       "3             38       4         8.0        14.0                  6.0   \n",
       "4             37       5        14.0        20.0                  6.0   \n",
       "5             37       6        20.0        28.0                  8.0   \n",
       "6             35       7        28.0        38.0                 10.0   \n",
       "7             35       8        38.0        48.0                 10.0   \n",
       "8             34       9        48.0        58.0                 10.0   \n",
       "9             34      10        58.0        68.0                 10.0   \n",
       "10            34      11        68.0        80.0                 12.0   \n",
       "11            34      12        80.0       100.0                 20.0   \n",
       "12            34      13       100.0       120.0                 20.0   \n",
       "13            32      14       120.0       140.0                 20.0   \n",
       "14            32      15       140.0       160.0                 20.0   \n",
       "15            32      16       160.0       180.0                 20.0   \n",
       "16            32      17       180.0       200.0                 20.0   \n",
       "17            32      18       200.0       220.0                 20.0   \n",
       "18            31      19       220.0       245.0                 25.0   \n",
       "\n",
       "    Tasa_Alimentacion(%)  N_Alimentacion_Dia  Alimento_Semanal  \\\n",
       "0                    8.0                  10              0.84   \n",
       "1                    7.8                  10             40.00   \n",
       "2                    7.5                   9              0.13   \n",
       "3                    7.8                   9              0.23   \n",
       "4                    5.6                   8              0.25   \n",
       "5                    5.3                   8              0.33   \n",
       "6                    5.2                   7              0.42   \n",
       "7                    4.2                   7              0.44   \n",
       "8                    3.6                   6              0.46   \n",
       "9                    3.3                   6              0.50   \n",
       "10                   3.2                   6              0.56   \n",
       "11                   3.0                   6              0.64   \n",
       "12                   2.9                   6              0.75   \n",
       "13                   2.9                   5              0.84   \n",
       "14                   2.6                   5              0.87   \n",
       "15                   2.4                   5              0.91   \n",
       "16                   2.2                   5              0.93   \n",
       "17                   2.1                   5              0.98   \n",
       "18                   1.9                   5              0.97   \n",
       "\n",
       "    Comsumo_Acumulado  Conversion_Acumulada  \n",
       "0               0.840                  0.00  \n",
       "1              40.840                  0.00  \n",
       "2              40.969                  5.85  \n",
       "3              40.355                  3.36  \n",
       "4             600.000                  0.04  \n",
       "5             797.000                  0.04  \n",
       "6               1.000                  0.04  \n",
       "7               1.178                  0.04  \n",
       "8               1.312                  0.04  \n",
       "9               1.392                  0.05  \n",
       "10              1.519                  0.05  \n",
       "11              1.700                  0.04  \n",
       "12              1.954                  0.04  \n",
       "13              2.235                  0.04  \n",
       "14              2.466                  0.04  \n",
       "15              2.622                  0.04  \n",
       "16              2.705                  0.05  \n",
       "17              2.810                  0.05  \n",
       "18              2.876                  0.04  "
      ]
     },
     "execution_count": 55,
     "metadata": {},
     "output_type": "execute_result"
    }
   ],
   "source": [
    "X"
   ]
  },
  {
   "cell_type": "code",
   "execution_count": null,
   "metadata": {},
   "outputs": [],
   "source": []
  },
  {
   "cell_type": "code",
   "execution_count": 56,
   "metadata": {},
   "outputs": [
    {
     "data": {
      "text/plain": [
       "1.0"
      ]
     },
     "execution_count": 56,
     "metadata": {},
     "output_type": "execute_result"
    }
   ],
   "source": [
    "from sklearn.ensemble import HistGradientBoostingClassifier\n",
    "from sklearn.datasets import load_iris\n",
    "\n",
    "X, y = load_iris(return_X_y=True)\n",
    "clf = HistGradientBoostingClassifier().fit(X,y)\n",
    "clf.score(X,y)"
   ]
  },
  {
   "cell_type": "code",
   "execution_count": 57,
   "metadata": {},
   "outputs": [
    {
     "data": {
      "text/html": [
       "<style>#sk-container-id-1 {color: black;background-color: white;}#sk-container-id-1 pre{padding: 0;}#sk-container-id-1 div.sk-toggleable {background-color: white;}#sk-container-id-1 label.sk-toggleable__label {cursor: pointer;display: block;width: 100%;margin-bottom: 0;padding: 0.3em;box-sizing: border-box;text-align: center;}#sk-container-id-1 label.sk-toggleable__label-arrow:before {content: \"▸\";float: left;margin-right: 0.25em;color: #696969;}#sk-container-id-1 label.sk-toggleable__label-arrow:hover:before {color: black;}#sk-container-id-1 div.sk-estimator:hover label.sk-toggleable__label-arrow:before {color: black;}#sk-container-id-1 div.sk-toggleable__content {max-height: 0;max-width: 0;overflow: hidden;text-align: left;background-color: #f0f8ff;}#sk-container-id-1 div.sk-toggleable__content pre {margin: 0.2em;color: black;border-radius: 0.25em;background-color: #f0f8ff;}#sk-container-id-1 input.sk-toggleable__control:checked~div.sk-toggleable__content {max-height: 200px;max-width: 100%;overflow: auto;}#sk-container-id-1 input.sk-toggleable__control:checked~label.sk-toggleable__label-arrow:before {content: \"▾\";}#sk-container-id-1 div.sk-estimator input.sk-toggleable__control:checked~label.sk-toggleable__label {background-color: #d4ebff;}#sk-container-id-1 div.sk-label input.sk-toggleable__control:checked~label.sk-toggleable__label {background-color: #d4ebff;}#sk-container-id-1 input.sk-hidden--visually {border: 0;clip: rect(1px 1px 1px 1px);clip: rect(1px, 1px, 1px, 1px);height: 1px;margin: -1px;overflow: hidden;padding: 0;position: absolute;width: 1px;}#sk-container-id-1 div.sk-estimator {font-family: monospace;background-color: #f0f8ff;border: 1px dotted black;border-radius: 0.25em;box-sizing: border-box;margin-bottom: 0.5em;}#sk-container-id-1 div.sk-estimator:hover {background-color: #d4ebff;}#sk-container-id-1 div.sk-parallel-item::after {content: \"\";width: 100%;border-bottom: 1px solid gray;flex-grow: 1;}#sk-container-id-1 div.sk-label:hover label.sk-toggleable__label {background-color: #d4ebff;}#sk-container-id-1 div.sk-serial::before {content: \"\";position: absolute;border-left: 1px solid gray;box-sizing: border-box;top: 0;bottom: 0;left: 50%;z-index: 0;}#sk-container-id-1 div.sk-serial {display: flex;flex-direction: column;align-items: center;background-color: white;padding-right: 0.2em;padding-left: 0.2em;position: relative;}#sk-container-id-1 div.sk-item {position: relative;z-index: 1;}#sk-container-id-1 div.sk-parallel {display: flex;align-items: stretch;justify-content: center;background-color: white;position: relative;}#sk-container-id-1 div.sk-item::before, #sk-container-id-1 div.sk-parallel-item::before {content: \"\";position: absolute;border-left: 1px solid gray;box-sizing: border-box;top: 0;bottom: 0;left: 50%;z-index: -1;}#sk-container-id-1 div.sk-parallel-item {display: flex;flex-direction: column;z-index: 1;position: relative;background-color: white;}#sk-container-id-1 div.sk-parallel-item:first-child::after {align-self: flex-end;width: 50%;}#sk-container-id-1 div.sk-parallel-item:last-child::after {align-self: flex-start;width: 50%;}#sk-container-id-1 div.sk-parallel-item:only-child::after {width: 0;}#sk-container-id-1 div.sk-dashed-wrapped {border: 1px dashed gray;margin: 0 0.4em 0.5em 0.4em;box-sizing: border-box;padding-bottom: 0.4em;background-color: white;}#sk-container-id-1 div.sk-label label {font-family: monospace;font-weight: bold;display: inline-block;line-height: 1.2em;}#sk-container-id-1 div.sk-label-container {text-align: center;}#sk-container-id-1 div.sk-container {/* jupyter's `normalize.less` sets `[hidden] { display: none; }` but bootstrap.min.css set `[hidden] { display: none !important; }` so we also need the `!important` here to be able to override the default hidden behavior on the sphinx rendered scikit-learn.org. See: https://github.com/scikit-learn/scikit-learn/issues/21755 */display: inline-block !important;position: relative;}#sk-container-id-1 div.sk-text-repr-fallback {display: none;}</style><div id=\"sk-container-id-1\" class=\"sk-top-container\"><div class=\"sk-text-repr-fallback\"><pre>HistGradientBoostingClassifier()</pre><b>In a Jupyter environment, please rerun this cell to show the HTML representation or trust the notebook. <br />On GitHub, the HTML representation is unable to render, please try loading this page with nbviewer.org.</b></div><div class=\"sk-container\" hidden><div class=\"sk-item\"><div class=\"sk-estimator sk-toggleable\"><input class=\"sk-toggleable__control sk-hidden--visually\" id=\"sk-estimator-id-1\" type=\"checkbox\" checked><label for=\"sk-estimator-id-1\" class=\"sk-toggleable__label sk-toggleable__label-arrow\">HistGradientBoostingClassifier</label><div class=\"sk-toggleable__content\"><pre>HistGradientBoostingClassifier()</pre></div></div></div></div></div>"
      ],
      "text/plain": [
       "HistGradientBoostingClassifier()"
      ]
     },
     "execution_count": 57,
     "metadata": {},
     "output_type": "execute_result"
    }
   ],
   "source": [
    "clf"
   ]
  },
  {
   "cell_type": "code",
   "execution_count": 58,
   "metadata": {},
   "outputs": [],
   "source": [
    "from sklearn.linear_model import Lasso\n",
    "model = Lasso()"
   ]
  },
  {
   "cell_type": "code",
   "execution_count": 59,
   "metadata": {},
   "outputs": [
    {
     "data": {
      "text/html": [
       "<style>#sk-container-id-2 {color: black;background-color: white;}#sk-container-id-2 pre{padding: 0;}#sk-container-id-2 div.sk-toggleable {background-color: white;}#sk-container-id-2 label.sk-toggleable__label {cursor: pointer;display: block;width: 100%;margin-bottom: 0;padding: 0.3em;box-sizing: border-box;text-align: center;}#sk-container-id-2 label.sk-toggleable__label-arrow:before {content: \"▸\";float: left;margin-right: 0.25em;color: #696969;}#sk-container-id-2 label.sk-toggleable__label-arrow:hover:before {color: black;}#sk-container-id-2 div.sk-estimator:hover label.sk-toggleable__label-arrow:before {color: black;}#sk-container-id-2 div.sk-toggleable__content {max-height: 0;max-width: 0;overflow: hidden;text-align: left;background-color: #f0f8ff;}#sk-container-id-2 div.sk-toggleable__content pre {margin: 0.2em;color: black;border-radius: 0.25em;background-color: #f0f8ff;}#sk-container-id-2 input.sk-toggleable__control:checked~div.sk-toggleable__content {max-height: 200px;max-width: 100%;overflow: auto;}#sk-container-id-2 input.sk-toggleable__control:checked~label.sk-toggleable__label-arrow:before {content: \"▾\";}#sk-container-id-2 div.sk-estimator input.sk-toggleable__control:checked~label.sk-toggleable__label {background-color: #d4ebff;}#sk-container-id-2 div.sk-label input.sk-toggleable__control:checked~label.sk-toggleable__label {background-color: #d4ebff;}#sk-container-id-2 input.sk-hidden--visually {border: 0;clip: rect(1px 1px 1px 1px);clip: rect(1px, 1px, 1px, 1px);height: 1px;margin: -1px;overflow: hidden;padding: 0;position: absolute;width: 1px;}#sk-container-id-2 div.sk-estimator {font-family: monospace;background-color: #f0f8ff;border: 1px dotted black;border-radius: 0.25em;box-sizing: border-box;margin-bottom: 0.5em;}#sk-container-id-2 div.sk-estimator:hover {background-color: #d4ebff;}#sk-container-id-2 div.sk-parallel-item::after {content: \"\";width: 100%;border-bottom: 1px solid gray;flex-grow: 1;}#sk-container-id-2 div.sk-label:hover label.sk-toggleable__label {background-color: #d4ebff;}#sk-container-id-2 div.sk-serial::before {content: \"\";position: absolute;border-left: 1px solid gray;box-sizing: border-box;top: 0;bottom: 0;left: 50%;z-index: 0;}#sk-container-id-2 div.sk-serial {display: flex;flex-direction: column;align-items: center;background-color: white;padding-right: 0.2em;padding-left: 0.2em;position: relative;}#sk-container-id-2 div.sk-item {position: relative;z-index: 1;}#sk-container-id-2 div.sk-parallel {display: flex;align-items: stretch;justify-content: center;background-color: white;position: relative;}#sk-container-id-2 div.sk-item::before, #sk-container-id-2 div.sk-parallel-item::before {content: \"\";position: absolute;border-left: 1px solid gray;box-sizing: border-box;top: 0;bottom: 0;left: 50%;z-index: -1;}#sk-container-id-2 div.sk-parallel-item {display: flex;flex-direction: column;z-index: 1;position: relative;background-color: white;}#sk-container-id-2 div.sk-parallel-item:first-child::after {align-self: flex-end;width: 50%;}#sk-container-id-2 div.sk-parallel-item:last-child::after {align-self: flex-start;width: 50%;}#sk-container-id-2 div.sk-parallel-item:only-child::after {width: 0;}#sk-container-id-2 div.sk-dashed-wrapped {border: 1px dashed gray;margin: 0 0.4em 0.5em 0.4em;box-sizing: border-box;padding-bottom: 0.4em;background-color: white;}#sk-container-id-2 div.sk-label label {font-family: monospace;font-weight: bold;display: inline-block;line-height: 1.2em;}#sk-container-id-2 div.sk-label-container {text-align: center;}#sk-container-id-2 div.sk-container {/* jupyter's `normalize.less` sets `[hidden] { display: none; }` but bootstrap.min.css set `[hidden] { display: none !important; }` so we also need the `!important` here to be able to override the default hidden behavior on the sphinx rendered scikit-learn.org. See: https://github.com/scikit-learn/scikit-learn/issues/21755 */display: inline-block !important;position: relative;}#sk-container-id-2 div.sk-text-repr-fallback {display: none;}</style><div id=\"sk-container-id-2\" class=\"sk-top-container\"><div class=\"sk-text-repr-fallback\"><pre>Lasso()</pre><b>In a Jupyter environment, please rerun this cell to show the HTML representation or trust the notebook. <br />On GitHub, the HTML representation is unable to render, please try loading this page with nbviewer.org.</b></div><div class=\"sk-container\" hidden><div class=\"sk-item\"><div class=\"sk-estimator sk-toggleable\"><input class=\"sk-toggleable__control sk-hidden--visually\" id=\"sk-estimator-id-2\" type=\"checkbox\" checked><label for=\"sk-estimator-id-2\" class=\"sk-toggleable__label sk-toggleable__label-arrow\">Lasso</label><div class=\"sk-toggleable__content\"><pre>Lasso()</pre></div></div></div></div></div>"
      ],
      "text/plain": [
       "Lasso()"
      ]
     },
     "execution_count": 59,
     "metadata": {},
     "output_type": "execute_result"
    }
   ],
   "source": [
    "model.fit(X_train, y_train)"
   ]
  },
  {
   "cell_type": "code",
   "execution_count": 60,
   "metadata": {},
   "outputs": [],
   "source": [
    "predicted = model.predict(X_test)"
   ]
  },
  {
   "cell_type": "code",
   "execution_count": 61,
   "metadata": {},
   "outputs": [
    {
     "data": {
      "text/plain": [
       "(8,)"
      ]
     },
     "execution_count": 61,
     "metadata": {},
     "output_type": "execute_result"
    }
   ],
   "source": [
    "predicted.shape"
   ]
  },
  {
   "cell_type": "code",
   "execution_count": 62,
   "metadata": {},
   "outputs": [
    {
     "data": {
      "text/plain": [
       "(array([6., 0., 0., 0., 0., 0., 0., 1., 0., 1.]),\n",
       " array([ 0.0359915 ,  1.69209748,  3.34820347,  5.00430945,  6.66041543,\n",
       "         8.31652142,  9.9726274 , 11.62873338, 13.28483937, 14.94094535,\n",
       "        16.59705133]),\n",
       " <BarContainer object of 10 artists>)"
      ]
     },
     "execution_count": 62,
     "metadata": {},
     "output_type": "execute_result"
    },
    {
     "data": {
      "image/png": "[encoded data removed]",
      "text/plain": [
       "<Figure size 432x288 with 1 Axes>"
      ]
     },
     "metadata": {
      "needs_background": "light"
     },
     "output_type": "display_data"
    }
   ],
   "source": [
    "import matplotlib.pyplot as plt\n",
    "%matplotlib inline\n",
    "\n",
    "plt.hist(predicted)"
   ]
  },
  {
   "cell_type": "code",
   "execution_count": 63,
   "metadata": {},
   "outputs": [
    {
     "data": {
      "image/png": "[encoded data removed]",
      "text/plain": [
       "<Figure size 432x288 with 1 Axes>"
      ]
     },
     "metadata": {
      "needs_background": "light"
     },
     "output_type": "display_data"
    }
   ],
   "source": [
    "import matplotlib.pyplot as plt\n",
    "%matplotlib inline\n",
    "\n",
    "plt.hist([predicted, y_test]);"
   ]
  },
  {
   "cell_type": "code",
   "execution_count": 64,
   "metadata": {},
   "outputs": [
    {
     "data": {
      "text/plain": [
       "-465.71550055326315"
      ]
     },
     "execution_count": 64,
     "metadata": {},
     "output_type": "execute_result"
    }
   ],
   "source": [
    "model.score(X_test, y_test)"
   ]
  },
  {
   "cell_type": "code",
   "execution_count": 65,
   "metadata": {},
   "outputs": [],
   "source": [
    "### Siempre visualiza tus resultados. Aunque tengas un buen score de performance"
   ]
  },
  {
   "cell_type": "code",
   "execution_count": 66,
   "metadata": {},
   "outputs": [],
   "source": [
    "residuals = y_test - predicted"
   ]
  },
  {
   "cell_type": "code",
   "execution_count": 67,
   "metadata": {},
   "outputs": [
    {
     "data": {
      "text/plain": [
       "<matplotlib.collections.PathCollection at 0x7fa5a25a38e0>"
      ]
     },
     "execution_count": 67,
     "metadata": {},
     "output_type": "execute_result"
    },
    {
     "data": {
      "image/png": "[encoded data removed]",
      "text/plain": [
       "<Figure size 432x288 with 1 Axes>"
      ]
     },
     "metadata": {
      "needs_background": "light"
     },
     "output_type": "display_data"
    }
   ],
   "source": [
    "plt.scatter(y_test, residuals)"
   ]
  },
  {
   "cell_type": "code",
   "execution_count": 68,
   "metadata": {},
   "outputs": [],
   "source": [
    "ap_residuals = np.abs(residuals) / y_test"
   ]
  },
  {
   "cell_type": "code",
   "execution_count": 69,
   "metadata": {},
   "outputs": [
    {
     "ename": "NameError",
     "evalue": "name 'lap_residuals' is not defined",
     "output_type": "error",
     "traceback": [
      "\u001b[0;31m---------------------------------------------------------------------------\u001b[0m",
      "\u001b[0;31mNameError\u001b[0m                                 Traceback (most recent call last)",
      "\u001b[1;32m/home/didierarias/Documentos/901_machine_learning/src/index.ipynb Cell 70'\u001b[0m in \u001b[0;36m<cell line: 1>\u001b[0;34m()\u001b[0m\n\u001b[0;32m----> <a href='vscode-notebook-cell:/home/didierarias/Documentos/901_machine_learning/src/index.ipynb#ch0000069?line=0'>1</a>\u001b[0m plt\u001b[39m.\u001b[39mscatter(y_test,lap_residuals)\n",
      "\u001b[0;31mNameError\u001b[0m: name 'lap_residuals' is not defined"
     ]
    }
   ],
   "source": [
    "plt.scatter(y_test,lap_residuals)"
   ]
  },
  {
   "cell_type": "code",
   "execution_count": null,
   "metadata": {},
   "outputs": [
    {
     "name": "stderr",
     "output_type": "stream",
     "text": [
      "/home/didierarias/.local/lib/python3.8/site-packages/pandas/core/arraylike.py:397: RuntimeWarning: divide by zero encountered in log\n",
      "  result = getattr(ufunc, method)(*inputs, **kwargs)\n"
     ]
    },
    {
     "data": {
      "text/plain": [
       "<matplotlib.collections.PathCollection at 0x7fbccad43e80>"
      ]
     },
     "execution_count": 201,
     "metadata": {},
     "output_type": "execute_result"
    },
    {
     "data": {
      "image/png": "[encoded data removed]",
      "text/plain": [
       "<Figure size 432x288 with 1 Axes>"
      ]
     },
     "metadata": {
      "needs_background": "light"
     },
     "output_type": "display_data"
    }
   ],
   "source": [
    "lap_residuals = np.log(y_test,ap_residuals)\n",
    "plt.scatter(y_test, lap_residuals)"
   ]
  },
  {
   "cell_type": "code",
   "execution_count": null,
   "metadata": {},
   "outputs": [
    {
     "ename": "ValueError",
     "evalue": "supplied range of [-inf, 0.7419373447293773] is not finite",
     "output_type": "error",
     "traceback": [
      "\u001b[0;31m---------------------------------------------------------------------------\u001b[0m",
      "\u001b[0;31mValueError\u001b[0m                                Traceback (most recent call last)",
      "\u001b[1;32m/home/didierarias/Documentos/901_machine_learning/src/index.ipynb Cell 72'\u001b[0m in \u001b[0;36m<cell line: 1>\u001b[0;34m()\u001b[0m\n\u001b[0;32m----> <a href='vscode-notebook-cell:/home/didierarias/Documentos/901_machine_learning/src/index.ipynb#ch0000072?line=0'>1</a>\u001b[0m plt\u001b[39m.\u001b[39;49mhist(lap_residuals,bins\u001b[39m=\u001b[39;49m\u001b[39m100\u001b[39;49m, normed\u001b[39m=\u001b[39;49m\u001b[39m1\u001b[39;49m, histtype\u001b[39m=\u001b[39;49m\u001b[39m'\u001b[39;49m\u001b[39mstep\u001b[39;49m\u001b[39m'\u001b[39;49m, cumulative\u001b[39m=\u001b[39;49m\u001b[39mTrue\u001b[39;49;00m)\n",
      "File \u001b[0;32m~/.local/lib/python3.8/site-packages/matplotlib/pyplot.py:2602\u001b[0m, in \u001b[0;36mhist\u001b[0;34m(x, bins, range, density, weights, cumulative, bottom, histtype, align, orientation, rwidth, log, color, label, stacked, data, **kwargs)\u001b[0m\n\u001b[1;32m   2596\u001b[0m \u001b[39m@_copy_docstring_and_deprecators\u001b[39m(Axes\u001b[39m.\u001b[39mhist)\n\u001b[1;32m   2597\u001b[0m \u001b[39mdef\u001b[39;00m \u001b[39mhist\u001b[39m(\n\u001b[1;32m   2598\u001b[0m         x, bins\u001b[39m=\u001b[39m\u001b[39mNone\u001b[39;00m, \u001b[39mrange\u001b[39m\u001b[39m=\u001b[39m\u001b[39mNone\u001b[39;00m, density\u001b[39m=\u001b[39m\u001b[39mFalse\u001b[39;00m, weights\u001b[39m=\u001b[39m\u001b[39mNone\u001b[39;00m,\n\u001b[1;32m   2599\u001b[0m         cumulative\u001b[39m=\u001b[39m\u001b[39mFalse\u001b[39;00m, bottom\u001b[39m=\u001b[39m\u001b[39mNone\u001b[39;00m, histtype\u001b[39m=\u001b[39m\u001b[39m'\u001b[39m\u001b[39mbar\u001b[39m\u001b[39m'\u001b[39m, align\u001b[39m=\u001b[39m\u001b[39m'\u001b[39m\u001b[39mmid\u001b[39m\u001b[39m'\u001b[39m,\n\u001b[1;32m   2600\u001b[0m         orientation\u001b[39m=\u001b[39m\u001b[39m'\u001b[39m\u001b[39mvertical\u001b[39m\u001b[39m'\u001b[39m, rwidth\u001b[39m=\u001b[39m\u001b[39mNone\u001b[39;00m, log\u001b[39m=\u001b[39m\u001b[39mFalse\u001b[39;00m, color\u001b[39m=\u001b[39m\u001b[39mNone\u001b[39;00m,\n\u001b[1;32m   2601\u001b[0m         label\u001b[39m=\u001b[39m\u001b[39mNone\u001b[39;00m, stacked\u001b[39m=\u001b[39m\u001b[39mFalse\u001b[39;00m, \u001b[39m*\u001b[39m, data\u001b[39m=\u001b[39m\u001b[39mNone\u001b[39;00m, \u001b[39m*\u001b[39m\u001b[39m*\u001b[39mkwargs):\n\u001b[0;32m-> 2602\u001b[0m     \u001b[39mreturn\u001b[39;00m gca()\u001b[39m.\u001b[39;49mhist(\n\u001b[1;32m   2603\u001b[0m         x, bins\u001b[39m=\u001b[39;49mbins, \u001b[39mrange\u001b[39;49m\u001b[39m=\u001b[39;49m\u001b[39mrange\u001b[39;49m, density\u001b[39m=\u001b[39;49mdensity, weights\u001b[39m=\u001b[39;49mweights,\n\u001b[1;32m   2604\u001b[0m         cumulative\u001b[39m=\u001b[39;49mcumulative, bottom\u001b[39m=\u001b[39;49mbottom, histtype\u001b[39m=\u001b[39;49mhisttype,\n\u001b[1;32m   2605\u001b[0m         align\u001b[39m=\u001b[39;49malign, orientation\u001b[39m=\u001b[39;49morientation, rwidth\u001b[39m=\u001b[39;49mrwidth, log\u001b[39m=\u001b[39;49mlog,\n\u001b[1;32m   2606\u001b[0m         color\u001b[39m=\u001b[39;49mcolor, label\u001b[39m=\u001b[39;49mlabel, stacked\u001b[39m=\u001b[39;49mstacked,\n\u001b[1;32m   2607\u001b[0m         \u001b[39m*\u001b[39;49m\u001b[39m*\u001b[39;49m({\u001b[39m\"\u001b[39;49m\u001b[39mdata\u001b[39;49m\u001b[39m\"\u001b[39;49m: data} \u001b[39mif\u001b[39;49;00m data \u001b[39mis\u001b[39;49;00m \u001b[39mnot\u001b[39;49;00m \u001b[39mNone\u001b[39;49;00m \u001b[39melse\u001b[39;49;00m {}), \u001b[39m*\u001b[39;49m\u001b[39m*\u001b[39;49mkwargs)\n",
      "File \u001b[0;32m~/.local/lib/python3.8/site-packages/matplotlib/__init__.py:1412\u001b[0m, in \u001b[0;36m_preprocess_data.<locals>.inner\u001b[0;34m(ax, data, *args, **kwargs)\u001b[0m\n\u001b[1;32m   1409\u001b[0m \u001b[39m@functools\u001b[39m\u001b[39m.\u001b[39mwraps(func)\n\u001b[1;32m   1410\u001b[0m \u001b[39mdef\u001b[39;00m \u001b[39minner\u001b[39m(ax, \u001b[39m*\u001b[39margs, data\u001b[39m=\u001b[39m\u001b[39mNone\u001b[39;00m, \u001b[39m*\u001b[39m\u001b[39m*\u001b[39mkwargs):\n\u001b[1;32m   1411\u001b[0m     \u001b[39mif\u001b[39;00m data \u001b[39mis\u001b[39;00m \u001b[39mNone\u001b[39;00m:\n\u001b[0;32m-> 1412\u001b[0m         \u001b[39mreturn\u001b[39;00m func(ax, \u001b[39m*\u001b[39;49m\u001b[39mmap\u001b[39;49m(sanitize_sequence, args), \u001b[39m*\u001b[39;49m\u001b[39m*\u001b[39;49mkwargs)\n\u001b[1;32m   1414\u001b[0m     bound \u001b[39m=\u001b[39m new_sig\u001b[39m.\u001b[39mbind(ax, \u001b[39m*\u001b[39margs, \u001b[39m*\u001b[39m\u001b[39m*\u001b[39mkwargs)\n\u001b[1;32m   1415\u001b[0m     auto_label \u001b[39m=\u001b[39m (bound\u001b[39m.\u001b[39marguments\u001b[39m.\u001b[39mget(label_namer)\n\u001b[1;32m   1416\u001b[0m                   \u001b[39mor\u001b[39;00m bound\u001b[39m.\u001b[39mkwargs\u001b[39m.\u001b[39mget(label_namer))\n",
      "File \u001b[0;32m~/.local/lib/python3.8/site-packages/matplotlib/axes/_axes.py:6635\u001b[0m, in \u001b[0;36mAxes.hist\u001b[0;34m(self, x, bins, range, density, weights, cumulative, bottom, histtype, align, orientation, rwidth, log, color, label, stacked, **kwargs)\u001b[0m\n\u001b[1;32m   6631\u001b[0m \u001b[39m# Loop through datasets\u001b[39;00m\n\u001b[1;32m   6632\u001b[0m \u001b[39mfor\u001b[39;00m i \u001b[39min\u001b[39;00m \u001b[39mrange\u001b[39m(nx):\n\u001b[1;32m   6633\u001b[0m     \u001b[39m# this will automatically overwrite bins,\u001b[39;00m\n\u001b[1;32m   6634\u001b[0m     \u001b[39m# so that each histogram uses the same bins\u001b[39;00m\n\u001b[0;32m-> 6635\u001b[0m     m, bins \u001b[39m=\u001b[39m np\u001b[39m.\u001b[39;49mhistogram(x[i], bins, weights\u001b[39m=\u001b[39;49mw[i], \u001b[39m*\u001b[39;49m\u001b[39m*\u001b[39;49mhist_kwargs)\n\u001b[1;32m   6636\u001b[0m     tops\u001b[39m.\u001b[39mappend(m)\n\u001b[1;32m   6637\u001b[0m tops \u001b[39m=\u001b[39m np\u001b[39m.\u001b[39marray(tops, \u001b[39mfloat\u001b[39m)  \u001b[39m# causes problems later if it's an int\u001b[39;00m\n",
      "File \u001b[0;32m<__array_function__ internals>:180\u001b[0m, in \u001b[0;36mhistogram\u001b[0;34m(*args, **kwargs)\u001b[0m\n",
      "File \u001b[0;32m~/.local/lib/python3.8/site-packages/numpy/lib/histograms.py:793\u001b[0m, in \u001b[0;36mhistogram\u001b[0;34m(a, bins, range, normed, weights, density)\u001b[0m\n\u001b[1;32m    681\u001b[0m \u001b[39mr\u001b[39m\u001b[39m\"\"\"\u001b[39;00m\n\u001b[1;32m    682\u001b[0m \u001b[39mCompute the histogram of a dataset.\u001b[39;00m\n\u001b[1;32m    683\u001b[0m \n\u001b[0;32m   (...)\u001b[0m\n\u001b[1;32m    789\u001b[0m \n\u001b[1;32m    790\u001b[0m \u001b[39m\"\"\"\u001b[39;00m\n\u001b[1;32m    791\u001b[0m a, weights \u001b[39m=\u001b[39m _ravel_and_check_weights(a, weights)\n\u001b[0;32m--> 793\u001b[0m bin_edges, uniform_bins \u001b[39m=\u001b[39m _get_bin_edges(a, bins, \u001b[39mrange\u001b[39;49m, weights)\n\u001b[1;32m    795\u001b[0m \u001b[39m# Histogram is an integer or a float array depending on the weights.\u001b[39;00m\n\u001b[1;32m    796\u001b[0m \u001b[39mif\u001b[39;00m weights \u001b[39mis\u001b[39;00m \u001b[39mNone\u001b[39;00m:\n",
      "File \u001b[0;32m~/.local/lib/python3.8/site-packages/numpy/lib/histograms.py:426\u001b[0m, in \u001b[0;36m_get_bin_edges\u001b[0;34m(a, bins, range, weights)\u001b[0m\n\u001b[1;32m    423\u001b[0m     \u001b[39mif\u001b[39;00m n_equal_bins \u001b[39m<\u001b[39m \u001b[39m1\u001b[39m:\n\u001b[1;32m    424\u001b[0m         \u001b[39mraise\u001b[39;00m \u001b[39mValueError\u001b[39;00m(\u001b[39m'\u001b[39m\u001b[39m`bins` must be positive, when an integer\u001b[39m\u001b[39m'\u001b[39m)\n\u001b[0;32m--> 426\u001b[0m     first_edge, last_edge \u001b[39m=\u001b[39m _get_outer_edges(a, \u001b[39mrange\u001b[39;49m)\n\u001b[1;32m    428\u001b[0m \u001b[39melif\u001b[39;00m np\u001b[39m.\u001b[39mndim(bins) \u001b[39m==\u001b[39m \u001b[39m1\u001b[39m:\n\u001b[1;32m    429\u001b[0m     bin_edges \u001b[39m=\u001b[39m np\u001b[39m.\u001b[39masarray(bins)\n",
      "File \u001b[0;32m~/.local/lib/python3.8/site-packages/numpy/lib/histograms.py:315\u001b[0m, in \u001b[0;36m_get_outer_edges\u001b[0;34m(a, range)\u001b[0m\n\u001b[1;32m    312\u001b[0m         \u001b[39mraise\u001b[39;00m \u001b[39mValueError\u001b[39;00m(\n\u001b[1;32m    313\u001b[0m             \u001b[39m'\u001b[39m\u001b[39mmax must be larger than min in range parameter.\u001b[39m\u001b[39m'\u001b[39m)\n\u001b[1;32m    314\u001b[0m     \u001b[39mif\u001b[39;00m \u001b[39mnot\u001b[39;00m (np\u001b[39m.\u001b[39misfinite(first_edge) \u001b[39mand\u001b[39;00m np\u001b[39m.\u001b[39misfinite(last_edge)):\n\u001b[0;32m--> 315\u001b[0m         \u001b[39mraise\u001b[39;00m \u001b[39mValueError\u001b[39;00m(\n\u001b[1;32m    316\u001b[0m             \u001b[39m\"\u001b[39m\u001b[39msupplied range of [\u001b[39m\u001b[39m{}\u001b[39;00m\u001b[39m, \u001b[39m\u001b[39m{}\u001b[39;00m\u001b[39m] is not finite\u001b[39m\u001b[39m\"\u001b[39m\u001b[39m.\u001b[39mformat(first_edge, last_edge))\n\u001b[1;32m    317\u001b[0m \u001b[39melif\u001b[39;00m a\u001b[39m.\u001b[39msize \u001b[39m==\u001b[39m \u001b[39m0\u001b[39m:\n\u001b[1;32m    318\u001b[0m     \u001b[39m# handle empty arrays. Can't determine range, so use 0-1.\u001b[39;00m\n\u001b[1;32m    319\u001b[0m     first_edge, last_edge \u001b[39m=\u001b[39m \u001b[39m0\u001b[39m, \u001b[39m1\u001b[39m\n",
      "\u001b[0;31mValueError\u001b[0m: supplied range of [-inf, 0.7419373447293773] is not finite"
     ]
    },
    {
     "data": {
      "image/png": "[encoded data removed]",
      "text/plain": [
       "<Figure size 432x288 with 1 Axes>"
      ]
     },
     "metadata": {
      "needs_background": "light"
     },
     "output_type": "display_data"
    }
   ],
   "source": [
    "plt.hist(lap_residuals,bins=100, normed=1, histtype='step', cumulative=True)"
   ]
  },
  {
   "cell_type": "code",
   "execution_count": null,
   "metadata": {},
   "outputs": [
    {
     "ename": "ValueError",
     "evalue": "supplied range of [-inf, 0.7419373447293773] is not finite",
     "output_type": "error",
     "traceback": [
      "\u001b[0;31m---------------------------------------------------------------------------\u001b[0m",
      "\u001b[0;31mValueError\u001b[0m                                Traceback (most recent call last)",
      "\u001b[1;32m/home/didierarias/Documentos/901_machine_learning/src/index.ipynb Cell 73'\u001b[0m in \u001b[0;36m<cell line: 1>\u001b[0;34m()\u001b[0m\n\u001b[0;32m----> <a href='vscode-notebook-cell:/home/didierarias/Documentos/901_machine_learning/src/index.ipynb#ch0000073?line=0'>1</a>\u001b[0m plt\u001b[39m.\u001b[39;49mhist(lap_residuals, bins\u001b[39m=\u001b[39;49m\u001b[39m100\u001b[39;49m, normed\u001b[39m=\u001b[39;49m\u001b[39m1\u001b[39;49m, histtype\u001b[39m=\u001b[39;49m\u001b[39m'\u001b[39;49m\u001b[39mstep\u001b[39;49m\u001b[39m'\u001b[39;49m, cumulative\u001b[39m=\u001b[39;49m\u001b[39mTrue\u001b[39;49;00m);\n\u001b[1;32m      <a href='vscode-notebook-cell:/home/didierarias/Documentos/901_machine_learning/src/index.ipynb#ch0000073?line=1'>2</a>\u001b[0m plt\u001b[39m.\u001b[39maxis([\u001b[39m-\u001b[39m\u001b[39m2\u001b[39m,\u001b[39m0\u001b[39m,\u001b[39m0\u001b[39m,\u001b[39m1\u001b[39m])\n\u001b[1;32m      <a href='vscode-notebook-cell:/home/didierarias/Documentos/901_machine_learning/src/index.ipynb#ch0000073?line=2'>3</a>\u001b[0m np\u001b[39m.\u001b[39mpower(np\u001b[39m.\u001b[39mexp(\u001b[39m1\u001b[39m)\u001b[39m*\u001b[39mnp\u001b[39m.\u001b[39mones(\u001b[39m5\u001b[39m), np\u001b[39m.\u001b[39mlinspace(\u001b[39m-\u001b[39m\u001b[39m2\u001b[39m,\u001b[39m0\u001b[39m,\u001b[39m5\u001b[39m))\n",
      "File \u001b[0;32m~/.local/lib/python3.8/site-packages/matplotlib/pyplot.py:2602\u001b[0m, in \u001b[0;36mhist\u001b[0;34m(x, bins, range, density, weights, cumulative, bottom, histtype, align, orientation, rwidth, log, color, label, stacked, data, **kwargs)\u001b[0m\n\u001b[1;32m   2596\u001b[0m \u001b[39m@_copy_docstring_and_deprecators\u001b[39m(Axes\u001b[39m.\u001b[39mhist)\n\u001b[1;32m   2597\u001b[0m \u001b[39mdef\u001b[39;00m \u001b[39mhist\u001b[39m(\n\u001b[1;32m   2598\u001b[0m         x, bins\u001b[39m=\u001b[39m\u001b[39mNone\u001b[39;00m, \u001b[39mrange\u001b[39m\u001b[39m=\u001b[39m\u001b[39mNone\u001b[39;00m, density\u001b[39m=\u001b[39m\u001b[39mFalse\u001b[39;00m, weights\u001b[39m=\u001b[39m\u001b[39mNone\u001b[39;00m,\n\u001b[1;32m   2599\u001b[0m         cumulative\u001b[39m=\u001b[39m\u001b[39mFalse\u001b[39;00m, bottom\u001b[39m=\u001b[39m\u001b[39mNone\u001b[39;00m, histtype\u001b[39m=\u001b[39m\u001b[39m'\u001b[39m\u001b[39mbar\u001b[39m\u001b[39m'\u001b[39m, align\u001b[39m=\u001b[39m\u001b[39m'\u001b[39m\u001b[39mmid\u001b[39m\u001b[39m'\u001b[39m,\n\u001b[1;32m   2600\u001b[0m         orientation\u001b[39m=\u001b[39m\u001b[39m'\u001b[39m\u001b[39mvertical\u001b[39m\u001b[39m'\u001b[39m, rwidth\u001b[39m=\u001b[39m\u001b[39mNone\u001b[39;00m, log\u001b[39m=\u001b[39m\u001b[39mFalse\u001b[39;00m, color\u001b[39m=\u001b[39m\u001b[39mNone\u001b[39;00m,\n\u001b[1;32m   2601\u001b[0m         label\u001b[39m=\u001b[39m\u001b[39mNone\u001b[39;00m, stacked\u001b[39m=\u001b[39m\u001b[39mFalse\u001b[39;00m, \u001b[39m*\u001b[39m, data\u001b[39m=\u001b[39m\u001b[39mNone\u001b[39;00m, \u001b[39m*\u001b[39m\u001b[39m*\u001b[39mkwargs):\n\u001b[0;32m-> 2602\u001b[0m     \u001b[39mreturn\u001b[39;00m gca()\u001b[39m.\u001b[39;49mhist(\n\u001b[1;32m   2603\u001b[0m         x, bins\u001b[39m=\u001b[39;49mbins, \u001b[39mrange\u001b[39;49m\u001b[39m=\u001b[39;49m\u001b[39mrange\u001b[39;49m, density\u001b[39m=\u001b[39;49mdensity, weights\u001b[39m=\u001b[39;49mweights,\n\u001b[1;32m   2604\u001b[0m         cumulative\u001b[39m=\u001b[39;49mcumulative, bottom\u001b[39m=\u001b[39;49mbottom, histtype\u001b[39m=\u001b[39;49mhisttype,\n\u001b[1;32m   2605\u001b[0m         align\u001b[39m=\u001b[39;49malign, orientation\u001b[39m=\u001b[39;49morientation, rwidth\u001b[39m=\u001b[39;49mrwidth, log\u001b[39m=\u001b[39;49mlog,\n\u001b[1;32m   2606\u001b[0m         color\u001b[39m=\u001b[39;49mcolor, label\u001b[39m=\u001b[39;49mlabel, stacked\u001b[39m=\u001b[39;49mstacked,\n\u001b[1;32m   2607\u001b[0m         \u001b[39m*\u001b[39;49m\u001b[39m*\u001b[39;49m({\u001b[39m\"\u001b[39;49m\u001b[39mdata\u001b[39;49m\u001b[39m\"\u001b[39;49m: data} \u001b[39mif\u001b[39;49;00m data \u001b[39mis\u001b[39;49;00m \u001b[39mnot\u001b[39;49;00m \u001b[39mNone\u001b[39;49;00m \u001b[39melse\u001b[39;49;00m {}), \u001b[39m*\u001b[39;49m\u001b[39m*\u001b[39;49mkwargs)\n",
      "File \u001b[0;32m~/.local/lib/python3.8/site-packages/matplotlib/__init__.py:1412\u001b[0m, in \u001b[0;36m_preprocess_data.<locals>.inner\u001b[0;34m(ax, data, *args, **kwargs)\u001b[0m\n\u001b[1;32m   1409\u001b[0m \u001b[39m@functools\u001b[39m\u001b[39m.\u001b[39mwraps(func)\n\u001b[1;32m   1410\u001b[0m \u001b[39mdef\u001b[39;00m \u001b[39minner\u001b[39m(ax, \u001b[39m*\u001b[39margs, data\u001b[39m=\u001b[39m\u001b[39mNone\u001b[39;00m, \u001b[39m*\u001b[39m\u001b[39m*\u001b[39mkwargs):\n\u001b[1;32m   1411\u001b[0m     \u001b[39mif\u001b[39;00m data \u001b[39mis\u001b[39;00m \u001b[39mNone\u001b[39;00m:\n\u001b[0;32m-> 1412\u001b[0m         \u001b[39mreturn\u001b[39;00m func(ax, \u001b[39m*\u001b[39;49m\u001b[39mmap\u001b[39;49m(sanitize_sequence, args), \u001b[39m*\u001b[39;49m\u001b[39m*\u001b[39;49mkwargs)\n\u001b[1;32m   1414\u001b[0m     bound \u001b[39m=\u001b[39m new_sig\u001b[39m.\u001b[39mbind(ax, \u001b[39m*\u001b[39margs, \u001b[39m*\u001b[39m\u001b[39m*\u001b[39mkwargs)\n\u001b[1;32m   1415\u001b[0m     auto_label \u001b[39m=\u001b[39m (bound\u001b[39m.\u001b[39marguments\u001b[39m.\u001b[39mget(label_namer)\n\u001b[1;32m   1416\u001b[0m                   \u001b[39mor\u001b[39;00m bound\u001b[39m.\u001b[39mkwargs\u001b[39m.\u001b[39mget(label_namer))\n",
      "File \u001b[0;32m~/.local/lib/python3.8/site-packages/matplotlib/axes/_axes.py:6635\u001b[0m, in \u001b[0;36mAxes.hist\u001b[0;34m(self, x, bins, range, density, weights, cumulative, bottom, histtype, align, orientation, rwidth, log, color, label, stacked, **kwargs)\u001b[0m\n\u001b[1;32m   6631\u001b[0m \u001b[39m# Loop through datasets\u001b[39;00m\n\u001b[1;32m   6632\u001b[0m \u001b[39mfor\u001b[39;00m i \u001b[39min\u001b[39;00m \u001b[39mrange\u001b[39m(nx):\n\u001b[1;32m   6633\u001b[0m     \u001b[39m# this will automatically overwrite bins,\u001b[39;00m\n\u001b[1;32m   6634\u001b[0m     \u001b[39m# so that each histogram uses the same bins\u001b[39;00m\n\u001b[0;32m-> 6635\u001b[0m     m, bins \u001b[39m=\u001b[39m np\u001b[39m.\u001b[39;49mhistogram(x[i], bins, weights\u001b[39m=\u001b[39;49mw[i], \u001b[39m*\u001b[39;49m\u001b[39m*\u001b[39;49mhist_kwargs)\n\u001b[1;32m   6636\u001b[0m     tops\u001b[39m.\u001b[39mappend(m)\n\u001b[1;32m   6637\u001b[0m tops \u001b[39m=\u001b[39m np\u001b[39m.\u001b[39marray(tops, \u001b[39mfloat\u001b[39m)  \u001b[39m# causes problems later if it's an int\u001b[39;00m\n",
      "File \u001b[0;32m<__array_function__ internals>:180\u001b[0m, in \u001b[0;36mhistogram\u001b[0;34m(*args, **kwargs)\u001b[0m\n",
      "File \u001b[0;32m~/.local/lib/python3.8/site-packages/numpy/lib/histograms.py:793\u001b[0m, in \u001b[0;36mhistogram\u001b[0;34m(a, bins, range, normed, weights, density)\u001b[0m\n\u001b[1;32m    681\u001b[0m \u001b[39mr\u001b[39m\u001b[39m\"\"\"\u001b[39;00m\n\u001b[1;32m    682\u001b[0m \u001b[39mCompute the histogram of a dataset.\u001b[39;00m\n\u001b[1;32m    683\u001b[0m \n\u001b[0;32m   (...)\u001b[0m\n\u001b[1;32m    789\u001b[0m \n\u001b[1;32m    790\u001b[0m \u001b[39m\"\"\"\u001b[39;00m\n\u001b[1;32m    791\u001b[0m a, weights \u001b[39m=\u001b[39m _ravel_and_check_weights(a, weights)\n\u001b[0;32m--> 793\u001b[0m bin_edges, uniform_bins \u001b[39m=\u001b[39m _get_bin_edges(a, bins, \u001b[39mrange\u001b[39;49m, weights)\n\u001b[1;32m    795\u001b[0m \u001b[39m# Histogram is an integer or a float array depending on the weights.\u001b[39;00m\n\u001b[1;32m    796\u001b[0m \u001b[39mif\u001b[39;00m weights \u001b[39mis\u001b[39;00m \u001b[39mNone\u001b[39;00m:\n",
      "File \u001b[0;32m~/.local/lib/python3.8/site-packages/numpy/lib/histograms.py:426\u001b[0m, in \u001b[0;36m_get_bin_edges\u001b[0;34m(a, bins, range, weights)\u001b[0m\n\u001b[1;32m    423\u001b[0m     \u001b[39mif\u001b[39;00m n_equal_bins \u001b[39m<\u001b[39m \u001b[39m1\u001b[39m:\n\u001b[1;32m    424\u001b[0m         \u001b[39mraise\u001b[39;00m \u001b[39mValueError\u001b[39;00m(\u001b[39m'\u001b[39m\u001b[39m`bins` must be positive, when an integer\u001b[39m\u001b[39m'\u001b[39m)\n\u001b[0;32m--> 426\u001b[0m     first_edge, last_edge \u001b[39m=\u001b[39m _get_outer_edges(a, \u001b[39mrange\u001b[39;49m)\n\u001b[1;32m    428\u001b[0m \u001b[39melif\u001b[39;00m np\u001b[39m.\u001b[39mndim(bins) \u001b[39m==\u001b[39m \u001b[39m1\u001b[39m:\n\u001b[1;32m    429\u001b[0m     bin_edges \u001b[39m=\u001b[39m np\u001b[39m.\u001b[39masarray(bins)\n",
      "File \u001b[0;32m~/.local/lib/python3.8/site-packages/numpy/lib/histograms.py:315\u001b[0m, in \u001b[0;36m_get_outer_edges\u001b[0;34m(a, range)\u001b[0m\n\u001b[1;32m    312\u001b[0m         \u001b[39mraise\u001b[39;00m \u001b[39mValueError\u001b[39;00m(\n\u001b[1;32m    313\u001b[0m             \u001b[39m'\u001b[39m\u001b[39mmax must be larger than min in range parameter.\u001b[39m\u001b[39m'\u001b[39m)\n\u001b[1;32m    314\u001b[0m     \u001b[39mif\u001b[39;00m \u001b[39mnot\u001b[39;00m (np\u001b[39m.\u001b[39misfinite(first_edge) \u001b[39mand\u001b[39;00m np\u001b[39m.\u001b[39misfinite(last_edge)):\n\u001b[0;32m--> 315\u001b[0m         \u001b[39mraise\u001b[39;00m \u001b[39mValueError\u001b[39;00m(\n\u001b[1;32m    316\u001b[0m             \u001b[39m\"\u001b[39m\u001b[39msupplied range of [\u001b[39m\u001b[39m{}\u001b[39;00m\u001b[39m, \u001b[39m\u001b[39m{}\u001b[39;00m\u001b[39m] is not finite\u001b[39m\u001b[39m\"\u001b[39m\u001b[39m.\u001b[39mformat(first_edge, last_edge))\n\u001b[1;32m    317\u001b[0m \u001b[39melif\u001b[39;00m a\u001b[39m.\u001b[39msize \u001b[39m==\u001b[39m \u001b[39m0\u001b[39m:\n\u001b[1;32m    318\u001b[0m     \u001b[39m# handle empty arrays. Can't determine range, so use 0-1.\u001b[39;00m\n\u001b[1;32m    319\u001b[0m     first_edge, last_edge \u001b[39m=\u001b[39m \u001b[39m0\u001b[39m, \u001b[39m1\u001b[39m\n",
      "\u001b[0;31mValueError\u001b[0m: supplied range of [-inf, 0.7419373447293773] is not finite"
     ]
    },
    {
     "data": {
      "image/png": "[encoded data removed]",
      "text/plain": [
       "<Figure size 432x288 with 1 Axes>"
      ]
     },
     "metadata": {
      "needs_background": "light"
     },
     "output_type": "display_data"
    }
   ],
   "source": [
    "plt.hist(lap_residuals, bins=100, normed=1, histtype='step', cumulative=True);\n",
    "plt.axis([-2,0,0,1])\n",
    "np.power(np.exp(1)*np.ones(5), np.linspace(-2,0,5))"
   ]
  },
  {
   "cell_type": "markdown",
   "metadata": {},
   "source": [
    "Disenar tus features es un arte mas que una ciencia (por lo que general te recomendamos ganar experencia leyendo articulos cientificos y viendo soluciones)\n",
    "1. Features informativas: Tus features son mas utiles son mas utiles mientras correlacion tenga tu variable objetivo.\n",
    "2. Features Independientes: Para no tener redudancias tus features deberian ser lo mas independientes posible entre ellas.\n",
    "3. Cantidad de Features controlada: Nuestra intucion nos falla en dimensiones superiores a 3 (ver video maldicion de la dimensionalidad). En la mayoria de los casoa aumentar\n",
    "la cantidad de features afecta negativamente la performance si no contamos con gran cantidad de datos. Por ultimo pocas features aseguran una mejor interpretabilidad de los modelos."
   ]
  },
  {
   "cell_type": "markdown",
   "metadata": {},
   "source": [
    "Predecir el precio de una casa en una funcion de sus metros cuadrados\n",
    "Predecir el precio de una casa en funcion de la temperatura del mar\n",
    "Es importante entender la correlacion entre la feature y la variable objetivo. Mas sobre esto en los siguientes videos."
   ]
  },
  {
   "cell_type": "code",
   "execution_count": 72,
   "metadata": {},
   "outputs": [],
   "source": [
    "X = pd.read_csv('../dataset/X_fish.csv')"
   ]
  },
  {
   "cell_type": "code",
   "execution_count": 73,
   "metadata": {},
   "outputs": [
    {
     "data": {
      "text/html": [
       "<div>\n",
       "<style scoped>\n",
       "    .dataframe tbody tr th:only-of-type {\n",
       "        vertical-align: middle;\n",
       "    }\n",
       "\n",
       "    .dataframe tbody tr th {\n",
       "        vertical-align: top;\n",
       "    }\n",
       "\n",
       "    .dataframe thead th {\n",
       "        text-align: right;\n",
       "    }\n",
       "</style>\n",
       "<table border=\"1\" class=\"dataframe\">\n",
       "  <thead>\n",
       "    <tr style=\"text-align: right;\">\n",
       "      <th></th>\n",
       "      <th>Numero_Peces</th>\n",
       "      <th>Semana</th>\n",
       "      <th>Peso_Desde</th>\n",
       "      <th>Peso_Hasta</th>\n",
       "      <th>Ganacia _Semanla(g)</th>\n",
       "      <th>Tasa_Alimentacion(%)</th>\n",
       "      <th>N_Alimentacion_Dia</th>\n",
       "      <th>Alimento_Semanal</th>\n",
       "      <th>Comsumo_Acumulado</th>\n",
       "      <th>Conversion_Acumulada</th>\n",
       "      <th>Bultos</th>\n",
       "    </tr>\n",
       "  </thead>\n",
       "  <tbody>\n",
       "    <tr>\n",
       "      <th>Numero_Peces</th>\n",
       "      <td>1.000000</td>\n",
       "      <td>-0.538689</td>\n",
       "      <td>-0.382628</td>\n",
       "      <td>-0.399473</td>\n",
       "      <td>-0.532961</td>\n",
       "      <td>0.602832</td>\n",
       "      <td>0.659223</td>\n",
       "      <td>0.678915</td>\n",
       "      <td>-0.093735</td>\n",
       "      <td>-0.116912</td>\n",
       "      <td>-0.113377</td>\n",
       "    </tr>\n",
       "    <tr>\n",
       "      <th>Semana</th>\n",
       "      <td>-0.538689</td>\n",
       "      <td>1.000000</td>\n",
       "      <td>0.966456</td>\n",
       "      <td>0.973156</td>\n",
       "      <td>0.965289</td>\n",
       "      <td>-0.946381</td>\n",
       "      <td>-0.948600</td>\n",
       "      <td>-0.321820</td>\n",
       "      <td>-0.310971</td>\n",
       "      <td>-0.393578</td>\n",
       "      <td>-0.332601</td>\n",
       "    </tr>\n",
       "    <tr>\n",
       "      <th>Peso_Desde</th>\n",
       "      <td>-0.382628</td>\n",
       "      <td>0.966456</td>\n",
       "      <td>1.000000</td>\n",
       "      <td>0.999301</td>\n",
       "      <td>0.917707</td>\n",
       "      <td>-0.846820</td>\n",
       "      <td>-0.848797</td>\n",
       "      <td>-0.232248</td>\n",
       "      <td>-0.325295</td>\n",
       "      <td>-0.337330</td>\n",
       "      <td>-0.293125</td>\n",
       "    </tr>\n",
       "    <tr>\n",
       "      <th>Peso_Hasta</th>\n",
       "      <td>-0.399473</td>\n",
       "      <td>0.973156</td>\n",
       "      <td>0.999301</td>\n",
       "      <td>1.000000</td>\n",
       "      <td>0.931919</td>\n",
       "      <td>-0.858784</td>\n",
       "      <td>-0.860746</td>\n",
       "      <td>-0.241742</td>\n",
       "      <td>-0.325482</td>\n",
       "      <td>-0.343692</td>\n",
       "      <td>-0.298165</td>\n",
       "    </tr>\n",
       "    <tr>\n",
       "      <th>Ganacia _Semanla(g)</th>\n",
       "      <td>-0.532961</td>\n",
       "      <td>0.965289</td>\n",
       "      <td>0.917707</td>\n",
       "      <td>0.931919</td>\n",
       "      <td>1.000000</td>\n",
       "      <td>-0.910535</td>\n",
       "      <td>-0.912205</td>\n",
       "      <td>-0.315730</td>\n",
       "      <td>-0.302926</td>\n",
       "      <td>-0.379665</td>\n",
       "      <td>-0.324729</td>\n",
       "    </tr>\n",
       "    <tr>\n",
       "      <th>Tasa_Alimentacion(%)</th>\n",
       "      <td>0.602832</td>\n",
       "      <td>-0.946381</td>\n",
       "      <td>-0.846820</td>\n",
       "      <td>-0.858784</td>\n",
       "      <td>-0.910535</td>\n",
       "      <td>1.000000</td>\n",
       "      <td>0.980351</td>\n",
       "      <td>0.379812</td>\n",
       "      <td>0.233274</td>\n",
       "      <td>0.521009</td>\n",
       "      <td>0.370088</td>\n",
       "    </tr>\n",
       "    <tr>\n",
       "      <th>N_Alimentacion_Dia</th>\n",
       "      <td>0.659223</td>\n",
       "      <td>-0.948600</td>\n",
       "      <td>-0.848797</td>\n",
       "      <td>-0.860746</td>\n",
       "      <td>-0.912205</td>\n",
       "      <td>0.980351</td>\n",
       "      <td>1.000000</td>\n",
       "      <td>0.430976</td>\n",
       "      <td>0.294084</td>\n",
       "      <td>0.428918</td>\n",
       "      <td>0.350763</td>\n",
       "    </tr>\n",
       "    <tr>\n",
       "      <th>Alimento_Semanal</th>\n",
       "      <td>0.678915</td>\n",
       "      <td>-0.321820</td>\n",
       "      <td>-0.232248</td>\n",
       "      <td>-0.241742</td>\n",
       "      <td>-0.315730</td>\n",
       "      <td>0.379812</td>\n",
       "      <td>0.430976</td>\n",
       "      <td>1.000000</td>\n",
       "      <td>-0.057750</td>\n",
       "      <td>-0.100495</td>\n",
       "      <td>-0.095732</td>\n",
       "    </tr>\n",
       "    <tr>\n",
       "      <th>Comsumo_Acumulado</th>\n",
       "      <td>-0.093735</td>\n",
       "      <td>-0.310971</td>\n",
       "      <td>-0.325295</td>\n",
       "      <td>-0.325482</td>\n",
       "      <td>-0.302926</td>\n",
       "      <td>0.233274</td>\n",
       "      <td>0.294084</td>\n",
       "      <td>-0.057750</td>\n",
       "      <td>1.000000</td>\n",
       "      <td>-0.062073</td>\n",
       "      <td>0.298436</td>\n",
       "    </tr>\n",
       "    <tr>\n",
       "      <th>Conversion_Acumulada</th>\n",
       "      <td>-0.116912</td>\n",
       "      <td>-0.393578</td>\n",
       "      <td>-0.337330</td>\n",
       "      <td>-0.343692</td>\n",
       "      <td>-0.379665</td>\n",
       "      <td>0.521009</td>\n",
       "      <td>0.428918</td>\n",
       "      <td>-0.100495</td>\n",
       "      <td>-0.062073</td>\n",
       "      <td>1.000000</td>\n",
       "      <td>0.757999</td>\n",
       "    </tr>\n",
       "    <tr>\n",
       "      <th>Bultos</th>\n",
       "      <td>-0.113377</td>\n",
       "      <td>-0.332601</td>\n",
       "      <td>-0.293125</td>\n",
       "      <td>-0.298165</td>\n",
       "      <td>-0.324729</td>\n",
       "      <td>0.370088</td>\n",
       "      <td>0.350763</td>\n",
       "      <td>-0.095732</td>\n",
       "      <td>0.298436</td>\n",
       "      <td>0.757999</td>\n",
       "      <td>1.000000</td>\n",
       "    </tr>\n",
       "  </tbody>\n",
       "</table>\n",
       "</div>"
      ],
      "text/plain": [
       "                      Numero_Peces    Semana  Peso_Desde  Peso_Hasta  \\\n",
       "Numero_Peces              1.000000 -0.538689   -0.382628   -0.399473   \n",
       "Semana                   -0.538689  1.000000    0.966456    0.973156   \n",
       "Peso_Desde               -0.382628  0.966456    1.000000    0.999301   \n",
       "Peso_Hasta               -0.399473  0.973156    0.999301    1.000000   \n",
       "Ganacia _Semanla(g)      -0.532961  0.965289    0.917707    0.931919   \n",
       "Tasa_Alimentacion(%)      0.602832 -0.946381   -0.846820   -0.858784   \n",
       "N_Alimentacion_Dia        0.659223 -0.948600   -0.848797   -0.860746   \n",
       "Alimento_Semanal          0.678915 -0.321820   -0.232248   -0.241742   \n",
       "Comsumo_Acumulado        -0.093735 -0.310971   -0.325295   -0.325482   \n",
       "Conversion_Acumulada     -0.116912 -0.393578   -0.337330   -0.343692   \n",
       "Bultos                   -0.113377 -0.332601   -0.293125   -0.298165   \n",
       "\n",
       "                      Ganacia _Semanla(g)  Tasa_Alimentacion(%)  \\\n",
       "Numero_Peces                    -0.532961              0.602832   \n",
       "Semana                           0.965289             -0.946381   \n",
       "Peso_Desde                       0.917707             -0.846820   \n",
       "Peso_Hasta                       0.931919             -0.858784   \n",
       "Ganacia _Semanla(g)              1.000000             -0.910535   \n",
       "Tasa_Alimentacion(%)            -0.910535              1.000000   \n",
       "N_Alimentacion_Dia              -0.912205              0.980351   \n",
       "Alimento_Semanal                -0.315730              0.379812   \n",
       "Comsumo_Acumulado               -0.302926              0.233274   \n",
       "Conversion_Acumulada            -0.379665              0.521009   \n",
       "Bultos                          -0.324729              0.370088   \n",
       "\n",
       "                      N_Alimentacion_Dia  Alimento_Semanal  Comsumo_Acumulado  \\\n",
       "Numero_Peces                    0.659223          0.678915          -0.093735   \n",
       "Semana                         -0.948600         -0.321820          -0.310971   \n",
       "Peso_Desde                     -0.848797         -0.232248          -0.325295   \n",
       "Peso_Hasta                     -0.860746         -0.241742          -0.325482   \n",
       "Ganacia _Semanla(g)            -0.912205         -0.315730          -0.302926   \n",
       "Tasa_Alimentacion(%)            0.980351          0.379812           0.233274   \n",
       "N_Alimentacion_Dia              1.000000          0.430976           0.294084   \n",
       "Alimento_Semanal                0.430976          1.000000          -0.057750   \n",
       "Comsumo_Acumulado               0.294084         -0.057750           1.000000   \n",
       "Conversion_Acumulada            0.428918         -0.100495          -0.062073   \n",
       "Bultos                          0.350763         -0.095732           0.298436   \n",
       "\n",
       "                      Conversion_Acumulada    Bultos  \n",
       "Numero_Peces                     -0.116912 -0.113377  \n",
       "Semana                           -0.393578 -0.332601  \n",
       "Peso_Desde                       -0.337330 -0.293125  \n",
       "Peso_Hasta                       -0.343692 -0.298165  \n",
       "Ganacia _Semanla(g)              -0.379665 -0.324729  \n",
       "Tasa_Alimentacion(%)              0.521009  0.370088  \n",
       "N_Alimentacion_Dia                0.428918  0.350763  \n",
       "Alimento_Semanal                 -0.100495 -0.095732  \n",
       "Comsumo_Acumulado                -0.062073  0.298436  \n",
       "Conversion_Acumulada              1.000000  0.757999  \n",
       "Bultos                            0.757999  1.000000  "
      ]
     },
     "execution_count": 73,
     "metadata": {},
     "output_type": "execute_result"
    }
   ],
   "source": [
    "import seaborn as sns\n",
    "%matplotlib inline\n",
    "\n",
    "X.corr()"
   ]
  },
  {
   "cell_type": "code",
   "execution_count": 74,
   "metadata": {},
   "outputs": [
    {
     "data": {
      "text/plain": [
       "<AxesSubplot:>"
      ]
     },
     "execution_count": 74,
     "metadata": {},
     "output_type": "execute_result"
    },
    {
     "data": {
      "image/png": "[encoded data removed]",
      "text/plain": [
       "<Figure size 432x288 with 2 Axes>"
      ]
     },
     "metadata": {
      "needs_background": "light"
     },
     "output_type": "display_data"
    }
   ],
   "source": [
    "import seaborn as sns\n",
    "%matplotlib inline\n",
    "\n",
    "sns.heatmap(X.corr())"
   ]
  },
  {
   "cell_type": "markdown",
   "metadata": {},
   "source": [
    "La maldicion de la dimension\n",
    "\n",
    "Datasaurs Dozen y Anscombe's quartel:\n",
    "Utilidad de la capacidad de antender los datos en 1,2 y 3 dimensiones del ojo humano.\n",
    "Maldicion de la dimensiones\n",
    "En dimension superior o igual a 4, nuestra capacidad de entender los datos se pierder, y aun peor fenomenos extranos/contraproducentes ocurren"
   ]
  },
  {
   "cell_type": "code",
   "execution_count": 75,
   "metadata": {},
   "outputs": [
    {
     "data": {
      "text/plain": [
       "[<matplotlib.lines.Line2D at 0x7fa5a19fe7c0>]"
      ]
     },
     "execution_count": 75,
     "metadata": {},
     "output_type": "execute_result"
    },
    {
     "data": {
      "image/png": "[encoded data removed]",
      "text/plain": [
       "<Figure size 432x288 with 1 Axes>"
      ]
     },
     "metadata": {
      "needs_background": "light"
     },
     "output_type": "display_data"
    }
   ],
   "source": [
    "import matplotlib.pyplot as plt\n",
    "import numpy as np\n",
    "\n",
    "x = np.arange(1, 15)\n",
    "y = np.power(0.1,1/x)\n",
    "plt.plot(x,y)\n"
   ]
  },
  {
   "cell_type": "markdown",
   "metadata": {},
   "source": [
    "Feedback de tus modelos\n",
    "\n",
    "Ciertos modelos como la regresion o los arboles de dicen \"interpretables\". Esto quien decir que de los resultados de los modelos podemos sacar conclusiones o \"insights\"\n",
    "\n",
    ". Mientras mas grande el coeficiente para una feature, mas esta para la regresion.\n",
    ". La regresion Lasso trata de seleccionar un pequeno numero de features relevantes."
   ]
  },
  {
   "cell_type": "code",
   "execution_count": 76,
   "metadata": {},
   "outputs": [],
   "source": [
    "X = pd.read_csv('../dataset/X_fish.csv')\n",
    "y = X['Bultos']\n",
    "x = X.drop('Bultos', axis=1)"
   ]
  },
  {
   "cell_type": "code",
   "execution_count": 77,
   "metadata": {},
   "outputs": [],
   "source": [
    "from sklearn.linear_model import Lasso\n",
    "model = Lasso()"
   ]
  },
  {
   "cell_type": "code",
   "execution_count": 78,
   "metadata": {},
   "outputs": [],
   "source": [
    "from sklearn.model_selection import train_test_split\n",
    "X_train, X_test, y_train, y_test = train_test_split(X,y)"
   ]
  },
  {
   "cell_type": "code",
   "execution_count": 80,
   "metadata": {},
   "outputs": [
    {
     "data": {
      "text/plain": [
       "0.7368421052631579"
      ]
     },
     "execution_count": 80,
     "metadata": {},
     "output_type": "execute_result"
    }
   ],
   "source": [
    "len(X_train)/len(X)"
   ]
  },
  {
   "cell_type": "code",
   "execution_count": 81,
   "metadata": {},
   "outputs": [
    {
     "data": {
      "text/html": [
       "<style>#sk-container-id-3 {color: black;background-color: white;}#sk-container-id-3 pre{padding: 0;}#sk-container-id-3 div.sk-toggleable {background-color: white;}#sk-container-id-3 label.sk-toggleable__label {cursor: pointer;display: block;width: 100%;margin-bottom: 0;padding: 0.3em;box-sizing: border-box;text-align: center;}#sk-container-id-3 label.sk-toggleable__label-arrow:before {content: \"▸\";float: left;margin-right: 0.25em;color: #696969;}#sk-container-id-3 label.sk-toggleable__label-arrow:hover:before {color: black;}#sk-container-id-3 div.sk-estimator:hover label.sk-toggleable__label-arrow:before {color: black;}#sk-container-id-3 div.sk-toggleable__content {max-height: 0;max-width: 0;overflow: hidden;text-align: left;background-color: #f0f8ff;}#sk-container-id-3 div.sk-toggleable__content pre {margin: 0.2em;color: black;border-radius: 0.25em;background-color: #f0f8ff;}#sk-container-id-3 input.sk-toggleable__control:checked~div.sk-toggleable__content {max-height: 200px;max-width: 100%;overflow: auto;}#sk-container-id-3 input.sk-toggleable__control:checked~label.sk-toggleable__label-arrow:before {content: \"▾\";}#sk-container-id-3 div.sk-estimator input.sk-toggleable__control:checked~label.sk-toggleable__label {background-color: #d4ebff;}#sk-container-id-3 div.sk-label input.sk-toggleable__control:checked~label.sk-toggleable__label {background-color: #d4ebff;}#sk-container-id-3 input.sk-hidden--visually {border: 0;clip: rect(1px 1px 1px 1px);clip: rect(1px, 1px, 1px, 1px);height: 1px;margin: -1px;overflow: hidden;padding: 0;position: absolute;width: 1px;}#sk-container-id-3 div.sk-estimator {font-family: monospace;background-color: #f0f8ff;border: 1px dotted black;border-radius: 0.25em;box-sizing: border-box;margin-bottom: 0.5em;}#sk-container-id-3 div.sk-estimator:hover {background-color: #d4ebff;}#sk-container-id-3 div.sk-parallel-item::after {content: \"\";width: 100%;border-bottom: 1px solid gray;flex-grow: 1;}#sk-container-id-3 div.sk-label:hover label.sk-toggleable__label {background-color: #d4ebff;}#sk-container-id-3 div.sk-serial::before {content: \"\";position: absolute;border-left: 1px solid gray;box-sizing: border-box;top: 0;bottom: 0;left: 50%;z-index: 0;}#sk-container-id-3 div.sk-serial {display: flex;flex-direction: column;align-items: center;background-color: white;padding-right: 0.2em;padding-left: 0.2em;position: relative;}#sk-container-id-3 div.sk-item {position: relative;z-index: 1;}#sk-container-id-3 div.sk-parallel {display: flex;align-items: stretch;justify-content: center;background-color: white;position: relative;}#sk-container-id-3 div.sk-item::before, #sk-container-id-3 div.sk-parallel-item::before {content: \"\";position: absolute;border-left: 1px solid gray;box-sizing: border-box;top: 0;bottom: 0;left: 50%;z-index: -1;}#sk-container-id-3 div.sk-parallel-item {display: flex;flex-direction: column;z-index: 1;position: relative;background-color: white;}#sk-container-id-3 div.sk-parallel-item:first-child::after {align-self: flex-end;width: 50%;}#sk-container-id-3 div.sk-parallel-item:last-child::after {align-self: flex-start;width: 50%;}#sk-container-id-3 div.sk-parallel-item:only-child::after {width: 0;}#sk-container-id-3 div.sk-dashed-wrapped {border: 1px dashed gray;margin: 0 0.4em 0.5em 0.4em;box-sizing: border-box;padding-bottom: 0.4em;background-color: white;}#sk-container-id-3 div.sk-label label {font-family: monospace;font-weight: bold;display: inline-block;line-height: 1.2em;}#sk-container-id-3 div.sk-label-container {text-align: center;}#sk-container-id-3 div.sk-container {/* jupyter's `normalize.less` sets `[hidden] { display: none; }` but bootstrap.min.css set `[hidden] { display: none !important; }` so we also need the `!important` here to be able to override the default hidden behavior on the sphinx rendered scikit-learn.org. See: https://github.com/scikit-learn/scikit-learn/issues/21755 */display: inline-block !important;position: relative;}#sk-container-id-3 div.sk-text-repr-fallback {display: none;}</style><div id=\"sk-container-id-3\" class=\"sk-top-container\"><div class=\"sk-text-repr-fallback\"><pre>Lasso()</pre><b>In a Jupyter environment, please rerun this cell to show the HTML representation or trust the notebook. <br />On GitHub, the HTML representation is unable to render, please try loading this page with nbviewer.org.</b></div><div class=\"sk-container\" hidden><div class=\"sk-item\"><div class=\"sk-estimator sk-toggleable\"><input class=\"sk-toggleable__control sk-hidden--visually\" id=\"sk-estimator-id-3\" type=\"checkbox\" checked><label for=\"sk-estimator-id-3\" class=\"sk-toggleable__label sk-toggleable__label-arrow\">Lasso</label><div class=\"sk-toggleable__content\"><pre>Lasso()</pre></div></div></div></div></div>"
      ],
      "text/plain": [
       "Lasso()"
      ]
     },
     "execution_count": 81,
     "metadata": {},
     "output_type": "execute_result"
    }
   ],
   "source": [
    "model.fit(X_train,y_train)"
   ]
  },
  {
   "cell_type": "code",
   "execution_count": 83,
   "metadata": {},
   "outputs": [
    {
     "data": {
      "text/plain": [
       "-0.926030401207508"
      ]
     },
     "execution_count": 83,
     "metadata": {},
     "output_type": "execute_result"
    }
   ],
   "source": [
    "model.score(X_test, y_test)"
   ]
  },
  {
   "cell_type": "code",
   "execution_count": 84,
   "metadata": {},
   "outputs": [
    {
     "data": {
      "text/plain": [
       "array([-0.00057641, -0.        , -0.        , -0.00324386, -0.        ,\n",
       "        0.        ,  0.        , -0.        , -0.00064921,  0.        ,\n",
       "        0.        ])"
      ]
     },
     "execution_count": 84,
     "metadata": {},
     "output_type": "execute_result"
    }
   ],
   "source": [
    "model.coef_"
   ]
  },
  {
   "cell_type": "code",
   "execution_count": 85,
   "metadata": {},
   "outputs": [
    {
     "name": "stderr",
     "output_type": "stream",
     "text": [
      "/tmp/ipykernel_10568/2424132848.py:1: RuntimeWarning: divide by zero encountered in log10\n",
      "  np.log10(np.abs(model.coef_))\n"
     ]
    },
    {
     "data": {
      "text/plain": [
       "array([-3.23926565,        -inf,        -inf, -2.48893732,        -inf,\n",
       "              -inf,        -inf,        -inf, -3.18761465,        -inf,\n",
       "              -inf])"
      ]
     },
     "execution_count": 85,
     "metadata": {},
     "output_type": "execute_result"
    }
   ],
   "source": [
    "np.log10(np.abs(model.coef_))"
   ]
  },
  {
   "cell_type": "code",
   "execution_count": 87,
   "metadata": {},
   "outputs": [
    {
     "name": "stderr",
     "output_type": "stream",
     "text": [
      "/tmp/ipykernel_10568/3282099586.py:1: RuntimeWarning: divide by zero encountered in log10\n",
      "  np.floor(np.log10(np.abs(model.coef_)))\n"
     ]
    },
    {
     "data": {
      "text/plain": [
       "array([ -4., -inf, -inf,  -3., -inf, -inf, -inf, -inf,  -4., -inf, -inf])"
      ]
     },
     "execution_count": 87,
     "metadata": {},
     "output_type": "execute_result"
    }
   ],
   "source": [
    "np.floor(np.log10(np.abs(model.coef_)))"
   ]
  },
  {
   "cell_type": "code",
   "execution_count": 88,
   "metadata": {},
   "outputs": [
    {
     "name": "stderr",
     "output_type": "stream",
     "text": [
      "/tmp/ipykernel_10568/3276774777.py:1: RuntimeWarning: divide by zero encountered in log10\n",
      "  var = np.floor(np.log10(np.abs(model.coef_)))\n"
     ]
    }
   ],
   "source": [
    "var = np.floor(np.log10(np.abs(model.coef_)))"
   ]
  },
  {
   "cell_type": "code",
   "execution_count": 95,
   "metadata": {},
   "outputs": [
    {
     "data": {
      "text/plain": [
       "([<matplotlib.axis.XTick at 0x7fa59969b880>,\n",
       "  <matplotlib.axis.XTick at 0x7fa59969b850>,\n",
       "  <matplotlib.axis.XTick at 0x7fa599715d30>,\n",
       "  <matplotlib.axis.XTick at 0x7fa59969e490>,\n",
       "  <matplotlib.axis.XTick at 0x7fa59969e460>,\n",
       "  <matplotlib.axis.XTick at 0x7fa5996a20a0>,\n",
       "  <matplotlib.axis.XTick at 0x7fa5996a26d0>,\n",
       "  <matplotlib.axis.XTick at 0x7fa5996a2e20>,\n",
       "  <matplotlib.axis.XTick at 0x7fa5996a55b0>,\n",
       "  <matplotlib.axis.XTick at 0x7fa5996a5d00>,\n",
       "  <matplotlib.axis.XTick at 0x7fa5996a5df0>],\n",
       " [Text(0, 0, 'Numero_Peces'),\n",
       "  Text(1, 0, 'Semana'),\n",
       "  Text(2, 0, 'Peso_Desde'),\n",
       "  Text(3, 0, 'Peso_Hasta'),\n",
       "  Text(4, 0, 'Ganacia _Semanla(g)'),\n",
       "  Text(5, 0, 'Tasa_Alimentacion(%)'),\n",
       "  Text(6, 0, 'N_Alimentacion_Dia'),\n",
       "  Text(7, 0, 'Alimento_Semanal'),\n",
       "  Text(8, 0, 'Comsumo_Acumulado'),\n",
       "  Text(9, 0, 'Conversion_Acumulada'),\n",
       "  Text(10, 0, 'Bultos')])"
      ]
     },
     "execution_count": 95,
     "metadata": {},
     "output_type": "execute_result"
    },
    {
     "data": {
      "image/png": "[encoded data removed]",
      "text/plain": [
       "<Figure size 864x576 with 1 Axes>"
      ]
     },
     "metadata": {
      "needs_background": "light"
     },
     "output_type": "display_data"
    }
   ],
   "source": [
    "plt.rcParams['figure.figsize'] = [12,8]\n",
    "plt.plot(var)\n",
    "plt.xticks(np.arange(11), list(X.columns))"
   ]
  },
  {
   "cell_type": "markdown",
   "metadata": {},
   "source": [
    "Estos nos guia a guardar unicamente\n",
    "\n",
    ".Numero de peces\n",
    ". Semena\n",
    ". Peso Desde\n",
    ". Peso Hasta\n",
    ". Ganancia_Semanal(g)\n",
    ". Tasa Alimentacion(%)\n",
    ". N Alimentacion Dia\n",
    ". Alimentacion Diario(kg/dia)\n",
    ". Alimento Semanal\n",
    ". Consumo Acumulado\n",
    ". Kilos Alimento\n",
    ". Conversion Acumulado\n",
    ". Bultos"
   ]
  },
  {
   "cell_type": "markdown",
   "metadata": {},
   "source": [
    "Correlacion entre variabes"
   ]
  },
  {
   "cell_type": "code",
   "execution_count": 96,
   "metadata": {},
   "outputs": [
    {
     "data": {
      "text/plain": [
       "<seaborn.axisgrid.PairGrid at 0x7fa5a0e81250>"
      ]
     },
     "execution_count": 96,
     "metadata": {},
     "output_type": "execute_result"
    },
    {
     "data": {
      "image/png": "[encoded data removed]",
      "text/plain": [
       "<Figure size 2160x2160 with 156 Axes>"
      ]
     },
     "metadata": {
      "needs_background": "light"
     },
     "output_type": "display_data"
    }
   ],
   "source": [
    "import seaborn as sns\n",
    "Z = pd.concat([X,y])\n",
    "sns.pairplot(Z)"
   ]
  },
  {
   "cell_type": "code",
   "execution_count": 104,
   "metadata": {},
   "outputs": [],
   "source": [
    "clases = pd.cut(X['Tasa_Alimentacion(%)'],8).cat.codes.rename('class')\n",
    "z2 =    pd.concat([X,clases], axis=1).head(2)"
   ]
  },
  {
   "cell_type": "code",
   "execution_count": 105,
   "metadata": {},
   "outputs": [
    {
     "data": {
      "text/plain": [
       "<seaborn.axisgrid.PairGrid at 0x7fa5895b8fa0>"
      ]
     },
     "execution_count": 105,
     "metadata": {},
     "output_type": "execute_result"
    },
    {
     "data": {
      "image/png": "[encoded data removed]",
      "text/plain": [
       "<Figure size 2022.38x1980 with 132 Axes>"
      ]
     },
     "metadata": {
      "needs_background": "light"
     },
     "output_type": "display_data"
    }
   ],
   "source": [
    "sns.pairplot(z2, hue='class')"
   ]
  },
  {
   "cell_type": "code",
   "execution_count": 106,
   "metadata": {},
   "outputs": [
    {
     "data": {
      "text/plain": [
       "<AxesSubplot:>"
      ]
     },
     "execution_count": 106,
     "metadata": {},
     "output_type": "execute_result"
    },
    {
     "data": {
      "image/png": "[encoded data removed]",
      "text/plain": [
       "<Figure size 864x576 with 2 Axes>"
      ]
     },
     "metadata": {
      "needs_background": "light"
     },
     "output_type": "display_data"
    }
   ],
   "source": [
    "Z3 = pd.concat([X,y], axis=1)\n",
    "sns.heatmap(Z3.corr())"
   ]
  },
  {
   "cell_type": "markdown",
   "metadata": {},
   "source": [
    "Metodos de seleccion automatica de feature\n",
    "\n",
    "Sklearn posee una serie de metodos para seleccionar las mejoras features.Estos metodos"
   ]
  },
  {
   "cell_type": "code",
   "execution_count": 107,
   "metadata": {},
   "outputs": [
    {
     "data": {
      "text/html": [
       "<style>#sk-container-id-4 {color: black;background-color: white;}#sk-container-id-4 pre{padding: 0;}#sk-container-id-4 div.sk-toggleable {background-color: white;}#sk-container-id-4 label.sk-toggleable__label {cursor: pointer;display: block;width: 100%;margin-bottom: 0;padding: 0.3em;box-sizing: border-box;text-align: center;}#sk-container-id-4 label.sk-toggleable__label-arrow:before {content: \"▸\";float: left;margin-right: 0.25em;color: #696969;}#sk-container-id-4 label.sk-toggleable__label-arrow:hover:before {color: black;}#sk-container-id-4 div.sk-estimator:hover label.sk-toggleable__label-arrow:before {color: black;}#sk-container-id-4 div.sk-toggleable__content {max-height: 0;max-width: 0;overflow: hidden;text-align: left;background-color: #f0f8ff;}#sk-container-id-4 div.sk-toggleable__content pre {margin: 0.2em;color: black;border-radius: 0.25em;background-color: #f0f8ff;}#sk-container-id-4 input.sk-toggleable__control:checked~div.sk-toggleable__content {max-height: 200px;max-width: 100%;overflow: auto;}#sk-container-id-4 input.sk-toggleable__control:checked~label.sk-toggleable__label-arrow:before {content: \"▾\";}#sk-container-id-4 div.sk-estimator input.sk-toggleable__control:checked~label.sk-toggleable__label {background-color: #d4ebff;}#sk-container-id-4 div.sk-label input.sk-toggleable__control:checked~label.sk-toggleable__label {background-color: #d4ebff;}#sk-container-id-4 input.sk-hidden--visually {border: 0;clip: rect(1px 1px 1px 1px);clip: rect(1px, 1px, 1px, 1px);height: 1px;margin: -1px;overflow: hidden;padding: 0;position: absolute;width: 1px;}#sk-container-id-4 div.sk-estimator {font-family: monospace;background-color: #f0f8ff;border: 1px dotted black;border-radius: 0.25em;box-sizing: border-box;margin-bottom: 0.5em;}#sk-container-id-4 div.sk-estimator:hover {background-color: #d4ebff;}#sk-container-id-4 div.sk-parallel-item::after {content: \"\";width: 100%;border-bottom: 1px solid gray;flex-grow: 1;}#sk-container-id-4 div.sk-label:hover label.sk-toggleable__label {background-color: #d4ebff;}#sk-container-id-4 div.sk-serial::before {content: \"\";position: absolute;border-left: 1px solid gray;box-sizing: border-box;top: 0;bottom: 0;left: 50%;z-index: 0;}#sk-container-id-4 div.sk-serial {display: flex;flex-direction: column;align-items: center;background-color: white;padding-right: 0.2em;padding-left: 0.2em;position: relative;}#sk-container-id-4 div.sk-item {position: relative;z-index: 1;}#sk-container-id-4 div.sk-parallel {display: flex;align-items: stretch;justify-content: center;background-color: white;position: relative;}#sk-container-id-4 div.sk-item::before, #sk-container-id-4 div.sk-parallel-item::before {content: \"\";position: absolute;border-left: 1px solid gray;box-sizing: border-box;top: 0;bottom: 0;left: 50%;z-index: -1;}#sk-container-id-4 div.sk-parallel-item {display: flex;flex-direction: column;z-index: 1;position: relative;background-color: white;}#sk-container-id-4 div.sk-parallel-item:first-child::after {align-self: flex-end;width: 50%;}#sk-container-id-4 div.sk-parallel-item:last-child::after {align-self: flex-start;width: 50%;}#sk-container-id-4 div.sk-parallel-item:only-child::after {width: 0;}#sk-container-id-4 div.sk-dashed-wrapped {border: 1px dashed gray;margin: 0 0.4em 0.5em 0.4em;box-sizing: border-box;padding-bottom: 0.4em;background-color: white;}#sk-container-id-4 div.sk-label label {font-family: monospace;font-weight: bold;display: inline-block;line-height: 1.2em;}#sk-container-id-4 div.sk-label-container {text-align: center;}#sk-container-id-4 div.sk-container {/* jupyter's `normalize.less` sets `[hidden] { display: none; }` but bootstrap.min.css set `[hidden] { display: none !important; }` so we also need the `!important` here to be able to override the default hidden behavior on the sphinx rendered scikit-learn.org. See: https://github.com/scikit-learn/scikit-learn/issues/21755 */display: inline-block !important;position: relative;}#sk-container-id-4 div.sk-text-repr-fallback {display: none;}</style><div id=\"sk-container-id-4\" class=\"sk-top-container\"><div class=\"sk-text-repr-fallback\"><pre>SelectKBest(k=4, score_func=&lt;function mutual_info_regression at 0x7fa5806b3ca0&gt;)</pre><b>In a Jupyter environment, please rerun this cell to show the HTML representation or trust the notebook. <br />On GitHub, the HTML representation is unable to render, please try loading this page with nbviewer.org.</b></div><div class=\"sk-container\" hidden><div class=\"sk-item\"><div class=\"sk-estimator sk-toggleable\"><input class=\"sk-toggleable__control sk-hidden--visually\" id=\"sk-estimator-id-4\" type=\"checkbox\" checked><label for=\"sk-estimator-id-4\" class=\"sk-toggleable__label sk-toggleable__label-arrow\">SelectKBest</label><div class=\"sk-toggleable__content\"><pre>SelectKBest(k=4, score_func=&lt;function mutual_info_regression at 0x7fa5806b3ca0&gt;)</pre></div></div></div></div></div>"
      ],
      "text/plain": [
       "SelectKBest(k=4, score_func=<function mutual_info_regression at 0x7fa5806b3ca0>)"
      ]
     },
     "execution_count": 107,
     "metadata": {},
     "output_type": "execute_result"
    }
   ],
   "source": [
    "from sklearn.feature_selection import SelectKBest\n",
    "from sklearn.feature_selection import mutual_info_regression\n",
    "\n",
    "selector = SelectKBest(mutual_info_regression, k=4)\n",
    "selector.fit(X,y)"
   ]
  },
  {
   "cell_type": "code",
   "execution_count": 113,
   "metadata": {},
   "outputs": [
    {
     "data": {
      "text/plain": [
       "(array([0, 1, 2, 3, 4, 5, 6]),\n",
       " ['Numero_Peces',\n",
       "  'Semana',\n",
       "  'Peso_Desde',\n",
       "  'Peso_Hasta',\n",
       "  'Ganacia _Semanla(g)',\n",
       "  'Tasa_Alimentacion(%)',\n",
       "  'N_Alimentacion_Dia',\n",
       "  'Alimento_Semanal',\n",
       "  'Comsumo_Acumulado',\n",
       "  'Conversion_Acumulada',\n",
       "  'Bultos'])"
      ]
     },
     "execution_count": 113,
     "metadata": {},
     "output_type": "execute_result"
    },
    {
     "data": {
      "image/png": "[encoded data removed]",
      "text/plain": [
       "<Figure size 864x576 with 1 Axes>"
      ]
     },
     "metadata": {
      "needs_background": "light"
     },
     "output_type": "display_data"
    }
   ],
   "source": [
    "scores = selector.scores_\n",
    "plt.rcParams[\"figure.figsize\"] = [12, 8]\n",
    "plt.plot(scores)\n",
    "plt.np.arange(7),list(X.columns)"
   ]
  },
  {
   "cell_type": "markdown",
   "metadata": {},
   "source": [
    "Guardaremos las features entregados por la interpretacion de nuestra regresion Lasso"
   ]
  },
  {
   "cell_type": "code",
   "execution_count": 117,
   "metadata": {},
   "outputs": [
    {
     "data": {
      "text/html": [
       "<div>\n",
       "<style scoped>\n",
       "    .dataframe tbody tr th:only-of-type {\n",
       "        vertical-align: middle;\n",
       "    }\n",
       "\n",
       "    .dataframe tbody tr th {\n",
       "        vertical-align: top;\n",
       "    }\n",
       "\n",
       "    .dataframe thead th {\n",
       "        text-align: right;\n",
       "    }\n",
       "</style>\n",
       "<table border=\"1\" class=\"dataframe\">\n",
       "  <thead>\n",
       "    <tr style=\"text-align: right;\">\n",
       "      <th></th>\n",
       "      <th>Numero_Peces</th>\n",
       "      <th>Semana</th>\n",
       "      <th>Peso_Desde</th>\n",
       "      <th>Peso_Hasta</th>\n",
       "      <th>Ganacia _Semanla(g)</th>\n",
       "      <th>Tasa_Alimentacion(%)</th>\n",
       "      <th>N_Alimentacion_Dia</th>\n",
       "      <th>Alimento_Semanal</th>\n",
       "      <th>Comsumo_Acumulado</th>\n",
       "      <th>Conversion_Acumulada</th>\n",
       "      <th>Bultos</th>\n",
       "    </tr>\n",
       "  </thead>\n",
       "  <tbody>\n",
       "    <tr>\n",
       "      <th>0</th>\n",
       "      <td>1000</td>\n",
       "      <td>1</td>\n",
       "      <td>1.0</td>\n",
       "      <td>2.0</td>\n",
       "      <td>1.0</td>\n",
       "      <td>8.0</td>\n",
       "      <td>10</td>\n",
       "      <td>0.84</td>\n",
       "      <td>0.840</td>\n",
       "      <td>0.00</td>\n",
       "      <td>0.0</td>\n",
       "    </tr>\n",
       "    <tr>\n",
       "      <th>1</th>\n",
       "      <td>970</td>\n",
       "      <td>2</td>\n",
       "      <td>2.0</td>\n",
       "      <td>4.5</td>\n",
       "      <td>2.5</td>\n",
       "      <td>7.8</td>\n",
       "      <td>10</td>\n",
       "      <td>40.00</td>\n",
       "      <td>40.840</td>\n",
       "      <td>0.00</td>\n",
       "      <td>0.0</td>\n",
       "    </tr>\n",
       "    <tr>\n",
       "      <th>2</th>\n",
       "      <td>39</td>\n",
       "      <td>3</td>\n",
       "      <td>4.5</td>\n",
       "      <td>8.0</td>\n",
       "      <td>3.5</td>\n",
       "      <td>7.5</td>\n",
       "      <td>9</td>\n",
       "      <td>0.13</td>\n",
       "      <td>40.969</td>\n",
       "      <td>5.85</td>\n",
       "      <td>2.1</td>\n",
       "    </tr>\n",
       "    <tr>\n",
       "      <th>3</th>\n",
       "      <td>38</td>\n",
       "      <td>4</td>\n",
       "      <td>8.0</td>\n",
       "      <td>14.0</td>\n",
       "      <td>6.0</td>\n",
       "      <td>7.8</td>\n",
       "      <td>9</td>\n",
       "      <td>0.23</td>\n",
       "      <td>40.355</td>\n",
       "      <td>3.36</td>\n",
       "      <td>0.0</td>\n",
       "    </tr>\n",
       "    <tr>\n",
       "      <th>4</th>\n",
       "      <td>37</td>\n",
       "      <td>5</td>\n",
       "      <td>14.0</td>\n",
       "      <td>20.0</td>\n",
       "      <td>6.0</td>\n",
       "      <td>5.6</td>\n",
       "      <td>8</td>\n",
       "      <td>0.25</td>\n",
       "      <td>600.000</td>\n",
       "      <td>0.04</td>\n",
       "      <td>0.0</td>\n",
       "    </tr>\n",
       "    <tr>\n",
       "      <th>5</th>\n",
       "      <td>37</td>\n",
       "      <td>6</td>\n",
       "      <td>20.0</td>\n",
       "      <td>28.0</td>\n",
       "      <td>8.0</td>\n",
       "      <td>5.3</td>\n",
       "      <td>8</td>\n",
       "      <td>0.33</td>\n",
       "      <td>797.000</td>\n",
       "      <td>0.04</td>\n",
       "      <td>1.0</td>\n",
       "    </tr>\n",
       "    <tr>\n",
       "      <th>6</th>\n",
       "      <td>35</td>\n",
       "      <td>7</td>\n",
       "      <td>28.0</td>\n",
       "      <td>38.0</td>\n",
       "      <td>10.0</td>\n",
       "      <td>5.2</td>\n",
       "      <td>7</td>\n",
       "      <td>0.42</td>\n",
       "      <td>1.000</td>\n",
       "      <td>0.04</td>\n",
       "      <td>0.0</td>\n",
       "    </tr>\n",
       "    <tr>\n",
       "      <th>7</th>\n",
       "      <td>35</td>\n",
       "      <td>8</td>\n",
       "      <td>38.0</td>\n",
       "      <td>48.0</td>\n",
       "      <td>10.0</td>\n",
       "      <td>4.2</td>\n",
       "      <td>7</td>\n",
       "      <td>0.44</td>\n",
       "      <td>1.178</td>\n",
       "      <td>0.04</td>\n",
       "      <td>0.0</td>\n",
       "    </tr>\n",
       "    <tr>\n",
       "      <th>8</th>\n",
       "      <td>34</td>\n",
       "      <td>9</td>\n",
       "      <td>48.0</td>\n",
       "      <td>58.0</td>\n",
       "      <td>10.0</td>\n",
       "      <td>3.6</td>\n",
       "      <td>6</td>\n",
       "      <td>0.46</td>\n",
       "      <td>1.312</td>\n",
       "      <td>0.04</td>\n",
       "      <td>0.0</td>\n",
       "    </tr>\n",
       "    <tr>\n",
       "      <th>9</th>\n",
       "      <td>34</td>\n",
       "      <td>10</td>\n",
       "      <td>58.0</td>\n",
       "      <td>68.0</td>\n",
       "      <td>10.0</td>\n",
       "      <td>3.3</td>\n",
       "      <td>6</td>\n",
       "      <td>0.50</td>\n",
       "      <td>1.392</td>\n",
       "      <td>0.05</td>\n",
       "      <td>0.0</td>\n",
       "    </tr>\n",
       "    <tr>\n",
       "      <th>10</th>\n",
       "      <td>34</td>\n",
       "      <td>11</td>\n",
       "      <td>68.0</td>\n",
       "      <td>80.0</td>\n",
       "      <td>12.0</td>\n",
       "      <td>3.2</td>\n",
       "      <td>6</td>\n",
       "      <td>0.56</td>\n",
       "      <td>1.519</td>\n",
       "      <td>0.05</td>\n",
       "      <td>0.0</td>\n",
       "    </tr>\n",
       "    <tr>\n",
       "      <th>11</th>\n",
       "      <td>34</td>\n",
       "      <td>12</td>\n",
       "      <td>80.0</td>\n",
       "      <td>100.0</td>\n",
       "      <td>20.0</td>\n",
       "      <td>3.0</td>\n",
       "      <td>6</td>\n",
       "      <td>0.64</td>\n",
       "      <td>1.700</td>\n",
       "      <td>0.04</td>\n",
       "      <td>0.0</td>\n",
       "    </tr>\n",
       "    <tr>\n",
       "      <th>12</th>\n",
       "      <td>34</td>\n",
       "      <td>13</td>\n",
       "      <td>100.0</td>\n",
       "      <td>120.0</td>\n",
       "      <td>20.0</td>\n",
       "      <td>2.9</td>\n",
       "      <td>6</td>\n",
       "      <td>0.75</td>\n",
       "      <td>1.954</td>\n",
       "      <td>0.04</td>\n",
       "      <td>0.1</td>\n",
       "    </tr>\n",
       "    <tr>\n",
       "      <th>13</th>\n",
       "      <td>32</td>\n",
       "      <td>14</td>\n",
       "      <td>120.0</td>\n",
       "      <td>140.0</td>\n",
       "      <td>20.0</td>\n",
       "      <td>2.9</td>\n",
       "      <td>5</td>\n",
       "      <td>0.84</td>\n",
       "      <td>2.235</td>\n",
       "      <td>0.04</td>\n",
       "      <td>0.0</td>\n",
       "    </tr>\n",
       "    <tr>\n",
       "      <th>14</th>\n",
       "      <td>32</td>\n",
       "      <td>15</td>\n",
       "      <td>140.0</td>\n",
       "      <td>160.0</td>\n",
       "      <td>20.0</td>\n",
       "      <td>2.6</td>\n",
       "      <td>5</td>\n",
       "      <td>0.87</td>\n",
       "      <td>2.466</td>\n",
       "      <td>0.04</td>\n",
       "      <td>0.0</td>\n",
       "    </tr>\n",
       "    <tr>\n",
       "      <th>15</th>\n",
       "      <td>32</td>\n",
       "      <td>16</td>\n",
       "      <td>160.0</td>\n",
       "      <td>180.0</td>\n",
       "      <td>20.0</td>\n",
       "      <td>2.4</td>\n",
       "      <td>5</td>\n",
       "      <td>0.91</td>\n",
       "      <td>2.622</td>\n",
       "      <td>0.04</td>\n",
       "      <td>0.0</td>\n",
       "    </tr>\n",
       "    <tr>\n",
       "      <th>16</th>\n",
       "      <td>32</td>\n",
       "      <td>17</td>\n",
       "      <td>180.0</td>\n",
       "      <td>200.0</td>\n",
       "      <td>20.0</td>\n",
       "      <td>2.2</td>\n",
       "      <td>5</td>\n",
       "      <td>0.93</td>\n",
       "      <td>2.705</td>\n",
       "      <td>0.05</td>\n",
       "      <td>0.0</td>\n",
       "    </tr>\n",
       "    <tr>\n",
       "      <th>17</th>\n",
       "      <td>32</td>\n",
       "      <td>18</td>\n",
       "      <td>200.0</td>\n",
       "      <td>220.0</td>\n",
       "      <td>20.0</td>\n",
       "      <td>2.1</td>\n",
       "      <td>5</td>\n",
       "      <td>0.98</td>\n",
       "      <td>2.810</td>\n",
       "      <td>0.05</td>\n",
       "      <td>0.0</td>\n",
       "    </tr>\n",
       "    <tr>\n",
       "      <th>18</th>\n",
       "      <td>31</td>\n",
       "      <td>19</td>\n",
       "      <td>220.0</td>\n",
       "      <td>245.0</td>\n",
       "      <td>25.0</td>\n",
       "      <td>1.9</td>\n",
       "      <td>5</td>\n",
       "      <td>0.97</td>\n",
       "      <td>2.876</td>\n",
       "      <td>0.04</td>\n",
       "      <td>0.1</td>\n",
       "    </tr>\n",
       "  </tbody>\n",
       "</table>\n",
       "</div>"
      ],
      "text/plain": [
       "    Numero_Peces  Semana  Peso_Desde  Peso_Hasta  Ganacia _Semanla(g)  \\\n",
       "0           1000       1         1.0         2.0                  1.0   \n",
       "1            970       2         2.0         4.5                  2.5   \n",
       "2             39       3         4.5         8.0                  3.5   \n",
       "3             38       4         8.0        14.0                  6.0   \n",
       "4             37       5        14.0        20.0                  6.0   \n",
       "5             37       6        20.0        28.0                  8.0   \n",
       "6             35       7        28.0        38.0                 10.0   \n",
       "7             35       8        38.0        48.0                 10.0   \n",
       "8             34       9        48.0        58.0                 10.0   \n",
       "9             34      10        58.0        68.0                 10.0   \n",
       "10            34      11        68.0        80.0                 12.0   \n",
       "11            34      12        80.0       100.0                 20.0   \n",
       "12            34      13       100.0       120.0                 20.0   \n",
       "13            32      14       120.0       140.0                 20.0   \n",
       "14            32      15       140.0       160.0                 20.0   \n",
       "15            32      16       160.0       180.0                 20.0   \n",
       "16            32      17       180.0       200.0                 20.0   \n",
       "17            32      18       200.0       220.0                 20.0   \n",
       "18            31      19       220.0       245.0                 25.0   \n",
       "\n",
       "    Tasa_Alimentacion(%)  N_Alimentacion_Dia  Alimento_Semanal  \\\n",
       "0                    8.0                  10              0.84   \n",
       "1                    7.8                  10             40.00   \n",
       "2                    7.5                   9              0.13   \n",
       "3                    7.8                   9              0.23   \n",
       "4                    5.6                   8              0.25   \n",
       "5                    5.3                   8              0.33   \n",
       "6                    5.2                   7              0.42   \n",
       "7                    4.2                   7              0.44   \n",
       "8                    3.6                   6              0.46   \n",
       "9                    3.3                   6              0.50   \n",
       "10                   3.2                   6              0.56   \n",
       "11                   3.0                   6              0.64   \n",
       "12                   2.9                   6              0.75   \n",
       "13                   2.9                   5              0.84   \n",
       "14                   2.6                   5              0.87   \n",
       "15                   2.4                   5              0.91   \n",
       "16                   2.2                   5              0.93   \n",
       "17                   2.1                   5              0.98   \n",
       "18                   1.9                   5              0.97   \n",
       "\n",
       "    Comsumo_Acumulado  Conversion_Acumulada  Bultos  \n",
       "0               0.840                  0.00     0.0  \n",
       "1              40.840                  0.00     0.0  \n",
       "2              40.969                  5.85     2.1  \n",
       "3              40.355                  3.36     0.0  \n",
       "4             600.000                  0.04     0.0  \n",
       "5             797.000                  0.04     1.0  \n",
       "6               1.000                  0.04     0.0  \n",
       "7               1.178                  0.04     0.0  \n",
       "8               1.312                  0.04     0.0  \n",
       "9               1.392                  0.05     0.0  \n",
       "10              1.519                  0.05     0.0  \n",
       "11              1.700                  0.04     0.0  \n",
       "12              1.954                  0.04     0.1  \n",
       "13              2.235                  0.04     0.0  \n",
       "14              2.466                  0.04     0.0  \n",
       "15              2.622                  0.04     0.0  \n",
       "16              2.705                  0.05     0.0  \n",
       "17              2.810                  0.05     0.0  \n",
       "18              2.876                  0.04     0.1  "
      ]
     },
     "execution_count": 117,
     "metadata": {},
     "output_type": "execute_result"
    }
   ],
   "source": [
    "X"
   ]
  },
  {
   "cell_type": "code",
   "execution_count": 121,
   "metadata": {},
   "outputs": [],
   "source": [
    "X2 = X[['Numero_Peces', 'Tasa_Alimentacion(%)', 'N_Alimentacion_Dia','Alimento_Semanal']]\n",
    "X3 = X[['Numero_Peces','Semana','Peso_Desde', 'Peso_Hasta', 'Ganacia _Semanla(g)']]"
   ]
  },
  {
   "cell_type": "markdown",
   "metadata": {},
   "source": [
    "Veamos los resultados del modelo con estas features"
   ]
  },
  {
   "cell_type": "code",
   "execution_count": 120,
   "metadata": {},
   "outputs": [],
   "source": [
    "X_train, X_test, y_train, y_test = train_test_split(X,y)"
   ]
  },
  {
   "cell_type": "code",
   "execution_count": 123,
   "metadata": {},
   "outputs": [],
   "source": [
    "cols2 = ['Numero_Peces','Tasa_Alimentacion(%)','N_Alimentacion_Dia', 'Alimento_Semanal']\n",
    "X2_train, X2_test, y2_train, y2_test = X_train[cols2], X_test[cols2], y_train, y_test\n",
    "\n",
    "cols3 = ['Numero_Peces','Semana', 'Peso_Desde','Peso_Hasta', 'Ganacia _Semanla(g)']\n",
    "X3_train, X3_test, y3_train, y3_test, = X_train[cols3], X_test[cols3], y_train, y_test"
   ]
  },
  {
   "cell_type": "code",
   "execution_count": 124,
   "metadata": {},
   "outputs": [
    {
     "data": {
      "text/html": [
       "<style>#sk-container-id-5 {color: black;background-color: white;}#sk-container-id-5 pre{padding: 0;}#sk-container-id-5 div.sk-toggleable {background-color: white;}#sk-container-id-5 label.sk-toggleable__label {cursor: pointer;display: block;width: 100%;margin-bottom: 0;padding: 0.3em;box-sizing: border-box;text-align: center;}#sk-container-id-5 label.sk-toggleable__label-arrow:before {content: \"▸\";float: left;margin-right: 0.25em;color: #696969;}#sk-container-id-5 label.sk-toggleable__label-arrow:hover:before {color: black;}#sk-container-id-5 div.sk-estimator:hover label.sk-toggleable__label-arrow:before {color: black;}#sk-container-id-5 div.sk-toggleable__content {max-height: 0;max-width: 0;overflow: hidden;text-align: left;background-color: #f0f8ff;}#sk-container-id-5 div.sk-toggleable__content pre {margin: 0.2em;color: black;border-radius: 0.25em;background-color: #f0f8ff;}#sk-container-id-5 input.sk-toggleable__control:checked~div.sk-toggleable__content {max-height: 200px;max-width: 100%;overflow: auto;}#sk-container-id-5 input.sk-toggleable__control:checked~label.sk-toggleable__label-arrow:before {content: \"▾\";}#sk-container-id-5 div.sk-estimator input.sk-toggleable__control:checked~label.sk-toggleable__label {background-color: #d4ebff;}#sk-container-id-5 div.sk-label input.sk-toggleable__control:checked~label.sk-toggleable__label {background-color: #d4ebff;}#sk-container-id-5 input.sk-hidden--visually {border: 0;clip: rect(1px 1px 1px 1px);clip: rect(1px, 1px, 1px, 1px);height: 1px;margin: -1px;overflow: hidden;padding: 0;position: absolute;width: 1px;}#sk-container-id-5 div.sk-estimator {font-family: monospace;background-color: #f0f8ff;border: 1px dotted black;border-radius: 0.25em;box-sizing: border-box;margin-bottom: 0.5em;}#sk-container-id-5 div.sk-estimator:hover {background-color: #d4ebff;}#sk-container-id-5 div.sk-parallel-item::after {content: \"\";width: 100%;border-bottom: 1px solid gray;flex-grow: 1;}#sk-container-id-5 div.sk-label:hover label.sk-toggleable__label {background-color: #d4ebff;}#sk-container-id-5 div.sk-serial::before {content: \"\";position: absolute;border-left: 1px solid gray;box-sizing: border-box;top: 0;bottom: 0;left: 50%;z-index: 0;}#sk-container-id-5 div.sk-serial {display: flex;flex-direction: column;align-items: center;background-color: white;padding-right: 0.2em;padding-left: 0.2em;position: relative;}#sk-container-id-5 div.sk-item {position: relative;z-index: 1;}#sk-container-id-5 div.sk-parallel {display: flex;align-items: stretch;justify-content: center;background-color: white;position: relative;}#sk-container-id-5 div.sk-item::before, #sk-container-id-5 div.sk-parallel-item::before {content: \"\";position: absolute;border-left: 1px solid gray;box-sizing: border-box;top: 0;bottom: 0;left: 50%;z-index: -1;}#sk-container-id-5 div.sk-parallel-item {display: flex;flex-direction: column;z-index: 1;position: relative;background-color: white;}#sk-container-id-5 div.sk-parallel-item:first-child::after {align-self: flex-end;width: 50%;}#sk-container-id-5 div.sk-parallel-item:last-child::after {align-self: flex-start;width: 50%;}#sk-container-id-5 div.sk-parallel-item:only-child::after {width: 0;}#sk-container-id-5 div.sk-dashed-wrapped {border: 1px dashed gray;margin: 0 0.4em 0.5em 0.4em;box-sizing: border-box;padding-bottom: 0.4em;background-color: white;}#sk-container-id-5 div.sk-label label {font-family: monospace;font-weight: bold;display: inline-block;line-height: 1.2em;}#sk-container-id-5 div.sk-label-container {text-align: center;}#sk-container-id-5 div.sk-container {/* jupyter's `normalize.less` sets `[hidden] { display: none; }` but bootstrap.min.css set `[hidden] { display: none !important; }` so we also need the `!important` here to be able to override the default hidden behavior on the sphinx rendered scikit-learn.org. See: https://github.com/scikit-learn/scikit-learn/issues/21755 */display: inline-block !important;position: relative;}#sk-container-id-5 div.sk-text-repr-fallback {display: none;}</style><div id=\"sk-container-id-5\" class=\"sk-top-container\"><div class=\"sk-text-repr-fallback\"><pre>Lasso()</pre><b>In a Jupyter environment, please rerun this cell to show the HTML representation or trust the notebook. <br />On GitHub, the HTML representation is unable to render, please try loading this page with nbviewer.org.</b></div><div class=\"sk-container\" hidden><div class=\"sk-item\"><div class=\"sk-estimator sk-toggleable\"><input class=\"sk-toggleable__control sk-hidden--visually\" id=\"sk-estimator-id-5\" type=\"checkbox\" checked><label for=\"sk-estimator-id-5\" class=\"sk-toggleable__label sk-toggleable__label-arrow\">Lasso</label><div class=\"sk-toggleable__content\"><pre>Lasso()</pre></div></div></div></div></div>"
      ],
      "text/plain": [
       "Lasso()"
      ]
     },
     "execution_count": 124,
     "metadata": {},
     "output_type": "execute_result"
    }
   ],
   "source": [
    "from sklearn.linear_model import Lasso\n",
    "model1 = Lasso()\n",
    "model2 = Lasso()\n",
    "model3 = Lasso()\n",
    "\n",
    "model1.fit(X_train, y_train)\n",
    "model2.fit(X2_train, y2_train)\n",
    "model3.fit(X3_train,y3_train)"
   ]
  },
  {
   "cell_type": "code",
   "execution_count": 125,
   "metadata": {},
   "outputs": [
    {
     "name": "stdout",
     "output_type": "stream",
     "text": [
      "0.0\n",
      "0.0\n",
      "0.0\n"
     ]
    }
   ],
   "source": [
    "print(model1.score(X_test,y_test))\n",
    "print(model2.score(X2_test, y2_test))\n",
    "print(model3.score(X3_test,y3_test))"
   ]
  },
  {
   "cell_type": "markdown",
   "metadata": {},
   "source": [
    "Escalamiento de los datos"
   ]
  },
  {
   "cell_type": "code",
   "execution_count": 128,
   "metadata": {},
   "outputs": [],
   "source": [
    "%matplotlib inline\n",
    "import numpy as np\n",
    "import pandas as pd\n",
    "import matplotlib.pyplot as plt"
   ]
  },
  {
   "cell_type": "markdown",
   "metadata": {},
   "source": [
    "Diversos algoritmo son sensible a la escala en la que viene cada feature. Re-escalarlos puede traer significativas mejoras de rendimiento.\n",
    "\n",
    "Existen distintas estrategias de escalamiento de tus features. pero lo mas comun es la estandarizacion donde convertimos la variable para que la distribucion de esta siga una distribucion que es Gaussiana\n",
    "de media de esta siga una distribucion que es Gaussiana de media 0 y de desviacion estandar 1."
   ]
  },
  {
   "cell_type": "code",
   "execution_count": 131,
   "metadata": {},
   "outputs": [],
   "source": [
    "from sklearn.model_selection import train_test_split\n",
    "\n",
    "X = pd.read_csv('../dataset/X_fish.csv')\n",
    "y = X['Bultos']\n",
    "X = X.drop('Bultos', axis=1)\n",
    "X_train, X_test, y_train, y_test = train_test_split(X,y)"
   ]
  },
  {
   "cell_type": "code",
   "execution_count": 132,
   "metadata": {},
   "outputs": [
    {
     "data": {
      "text/html": [
       "<style>#sk-container-id-6 {color: black;background-color: white;}#sk-container-id-6 pre{padding: 0;}#sk-container-id-6 div.sk-toggleable {background-color: white;}#sk-container-id-6 label.sk-toggleable__label {cursor: pointer;display: block;width: 100%;margin-bottom: 0;padding: 0.3em;box-sizing: border-box;text-align: center;}#sk-container-id-6 label.sk-toggleable__label-arrow:before {content: \"▸\";float: left;margin-right: 0.25em;color: #696969;}#sk-container-id-6 label.sk-toggleable__label-arrow:hover:before {color: black;}#sk-container-id-6 div.sk-estimator:hover label.sk-toggleable__label-arrow:before {color: black;}#sk-container-id-6 div.sk-toggleable__content {max-height: 0;max-width: 0;overflow: hidden;text-align: left;background-color: #f0f8ff;}#sk-container-id-6 div.sk-toggleable__content pre {margin: 0.2em;color: black;border-radius: 0.25em;background-color: #f0f8ff;}#sk-container-id-6 input.sk-toggleable__control:checked~div.sk-toggleable__content {max-height: 200px;max-width: 100%;overflow: auto;}#sk-container-id-6 input.sk-toggleable__control:checked~label.sk-toggleable__label-arrow:before {content: \"▾\";}#sk-container-id-6 div.sk-estimator input.sk-toggleable__control:checked~label.sk-toggleable__label {background-color: #d4ebff;}#sk-container-id-6 div.sk-label input.sk-toggleable__control:checked~label.sk-toggleable__label {background-color: #d4ebff;}#sk-container-id-6 input.sk-hidden--visually {border: 0;clip: rect(1px 1px 1px 1px);clip: rect(1px, 1px, 1px, 1px);height: 1px;margin: -1px;overflow: hidden;padding: 0;position: absolute;width: 1px;}#sk-container-id-6 div.sk-estimator {font-family: monospace;background-color: #f0f8ff;border: 1px dotted black;border-radius: 0.25em;box-sizing: border-box;margin-bottom: 0.5em;}#sk-container-id-6 div.sk-estimator:hover {background-color: #d4ebff;}#sk-container-id-6 div.sk-parallel-item::after {content: \"\";width: 100%;border-bottom: 1px solid gray;flex-grow: 1;}#sk-container-id-6 div.sk-label:hover label.sk-toggleable__label {background-color: #d4ebff;}#sk-container-id-6 div.sk-serial::before {content: \"\";position: absolute;border-left: 1px solid gray;box-sizing: border-box;top: 0;bottom: 0;left: 50%;z-index: 0;}#sk-container-id-6 div.sk-serial {display: flex;flex-direction: column;align-items: center;background-color: white;padding-right: 0.2em;padding-left: 0.2em;position: relative;}#sk-container-id-6 div.sk-item {position: relative;z-index: 1;}#sk-container-id-6 div.sk-parallel {display: flex;align-items: stretch;justify-content: center;background-color: white;position: relative;}#sk-container-id-6 div.sk-item::before, #sk-container-id-6 div.sk-parallel-item::before {content: \"\";position: absolute;border-left: 1px solid gray;box-sizing: border-box;top: 0;bottom: 0;left: 50%;z-index: -1;}#sk-container-id-6 div.sk-parallel-item {display: flex;flex-direction: column;z-index: 1;position: relative;background-color: white;}#sk-container-id-6 div.sk-parallel-item:first-child::after {align-self: flex-end;width: 50%;}#sk-container-id-6 div.sk-parallel-item:last-child::after {align-self: flex-start;width: 50%;}#sk-container-id-6 div.sk-parallel-item:only-child::after {width: 0;}#sk-container-id-6 div.sk-dashed-wrapped {border: 1px dashed gray;margin: 0 0.4em 0.5em 0.4em;box-sizing: border-box;padding-bottom: 0.4em;background-color: white;}#sk-container-id-6 div.sk-label label {font-family: monospace;font-weight: bold;display: inline-block;line-height: 1.2em;}#sk-container-id-6 div.sk-label-container {text-align: center;}#sk-container-id-6 div.sk-container {/* jupyter's `normalize.less` sets `[hidden] { display: none; }` but bootstrap.min.css set `[hidden] { display: none !important; }` so we also need the `!important` here to be able to override the default hidden behavior on the sphinx rendered scikit-learn.org. See: https://github.com/scikit-learn/scikit-learn/issues/21755 */display: inline-block !important;position: relative;}#sk-container-id-6 div.sk-text-repr-fallback {display: none;}</style><div id=\"sk-container-id-6\" class=\"sk-top-container\"><div class=\"sk-text-repr-fallback\"><pre>StandardScaler()</pre><b>In a Jupyter environment, please rerun this cell to show the HTML representation or trust the notebook. <br />On GitHub, the HTML representation is unable to render, please try loading this page with nbviewer.org.</b></div><div class=\"sk-container\" hidden><div class=\"sk-item\"><div class=\"sk-estimator sk-toggleable\"><input class=\"sk-toggleable__control sk-hidden--visually\" id=\"sk-estimator-id-6\" type=\"checkbox\" checked><label for=\"sk-estimator-id-6\" class=\"sk-toggleable__label sk-toggleable__label-arrow\">StandardScaler</label><div class=\"sk-toggleable__content\"><pre>StandardScaler()</pre></div></div></div></div></div>"
      ],
      "text/plain": [
       "StandardScaler()"
      ]
     },
     "execution_count": 132,
     "metadata": {},
     "output_type": "execute_result"
    }
   ],
   "source": [
    "from sklearn.preprocessing import StandardScaler\n",
    "\n",
    "scaler = StandardScaler()\n",
    "scaler.fit(X_train)"
   ]
  },
  {
   "cell_type": "code",
   "execution_count": 133,
   "metadata": {},
   "outputs": [
    {
     "data": {
      "text/plain": [
       "array([169.92857143,  10.14285714,  83.96428571,  97.10714286,\n",
       "        13.14285714,   4.37142857,   6.78571429,   3.45642857,\n",
       "        53.03242857,   0.68857143])"
      ]
     },
     "execution_count": 133,
     "metadata": {},
     "output_type": "execute_result"
    }
   ],
   "source": [
    "scaler.mean_"
   ]
  },
  {
   "cell_type": "code",
   "execution_count": 135,
   "metadata": {},
   "outputs": [
    {
     "data": {
      "text/plain": [
       "array([332.80785196,   5.99829908,  74.85854858,  82.23663126,\n",
       "         8.0098791 ,   2.3152996 ,   1.89655972,  10.13918749,\n",
       "       152.51378988,   1.66675415])"
      ]
     },
     "execution_count": 135,
     "metadata": {},
     "output_type": "execute_result"
    }
   ],
   "source": [
    "scaler.scale_"
   ]
  },
  {
   "cell_type": "code",
   "execution_count": 136,
   "metadata": {},
   "outputs": [
    {
     "data": {
      "text/plain": [
       "array([[-0.41744379,  1.47660908,  1.81723687,  1.79838175,  1.48031483,\n",
       "        -1.06743359, -0.94155447, -0.24522957, -0.32886488, -0.38912243],\n",
       "       [-0.40842958,  0.30961158, -0.05295702,  0.03517723,  0.85608569,\n",
       "        -0.59233309, -0.41428397, -0.27777655, -0.33657565, -0.38912243],\n",
       "       [-0.41443905,  0.80975336,  0.74855465,  0.7647791 ,  0.85608569,\n",
       "        -0.76509691, -0.94155447, -0.25509229, -0.33155316, -0.38912243],\n",
       "       [ 2.49414617, -1.52424163, -1.10828071, -1.15650582, -1.51598507,\n",
       "         1.56721464,  1.69479805, -0.25805111, -0.34221449, -0.41312117],\n",
       "       [-0.39941537, -0.85738591, -0.93461985, -0.93762526, -0.89175592,\n",
       "         0.53063173,  0.64025704, -0.31624118,  3.5863483 , -0.38912243],\n",
       "       [-0.3934059 , -1.19081377, -1.06152587, -1.08354564, -1.2038705 ,\n",
       "         1.35125987,  1.16752754, -0.32807644, -0.0790973 ,  3.0966946 ],\n",
       "       [-0.41443905,  0.64303944,  0.48138409,  0.52157848,  0.85608569,\n",
       "        -0.63552405, -0.94155447, -0.25805111, -0.33306777, -0.38912243],\n",
       "       [-0.40842958, -0.02381628, -0.34684463, -0.35394376, -0.39237261,\n",
       "        -0.46276023, -0.41428397, -0.29158437, -0.33859514, -0.38312275],\n",
       "       [-0.39641063, -1.02409984, -1.01477102, -1.01058545, -0.89175592,\n",
       "         1.48083273,  1.16752754, -0.31821372, -0.08312316,  1.60277302],\n",
       "       [-0.41443905,  1.30989515,  1.55006631,  1.49438097,  0.85608569,\n",
       "        -0.98105168, -0.94155447, -0.2442433 , -0.32929762, -0.38312275],\n",
       "       [-0.40842958,  0.47632551,  0.21421353,  0.27837786,  0.85608569,\n",
       "        -0.63552405, -0.41428397, -0.26692756, -0.33491023, -0.38912243],\n",
       "       [-0.40842958, -0.1905302 , -0.48042991, -0.47554408, -0.39237261,\n",
       "        -0.33318736, -0.41428397, -0.29552946, -0.33911969, -0.38912243],\n",
       "       [-0.41443905,  1.14318122,  1.28289576,  1.25118035,  0.85608569,\n",
       "        -0.93786073, -0.94155447, -0.24917466, -0.32998609, -0.38312275],\n",
       "       [ 2.40400406, -1.3575277 , -1.09492219, -1.12610574, -1.32871633,\n",
       "         1.48083273,  1.69479805,  3.60419131, -0.07994312, -0.41312117]])"
      ]
     },
     "execution_count": 136,
     "metadata": {},
     "output_type": "execute_result"
    }
   ],
   "source": [
    "scaler.transform(X_train)"
   ]
  },
  {
   "cell_type": "code",
   "execution_count": 137,
   "metadata": {},
   "outputs": [],
   "source": [
    "X_train_scaled, X_test_scaled = (scaler.transform(X_train), scaler.transform(X_test))"
   ]
  },
  {
   "cell_type": "code",
   "execution_count": 138,
   "metadata": {},
   "outputs": [
    {
     "data": {
      "text/html": [
       "<style>#sk-container-id-7 {color: black;background-color: white;}#sk-container-id-7 pre{padding: 0;}#sk-container-id-7 div.sk-toggleable {background-color: white;}#sk-container-id-7 label.sk-toggleable__label {cursor: pointer;display: block;width: 100%;margin-bottom: 0;padding: 0.3em;box-sizing: border-box;text-align: center;}#sk-container-id-7 label.sk-toggleable__label-arrow:before {content: \"▸\";float: left;margin-right: 0.25em;color: #696969;}#sk-container-id-7 label.sk-toggleable__label-arrow:hover:before {color: black;}#sk-container-id-7 div.sk-estimator:hover label.sk-toggleable__label-arrow:before {color: black;}#sk-container-id-7 div.sk-toggleable__content {max-height: 0;max-width: 0;overflow: hidden;text-align: left;background-color: #f0f8ff;}#sk-container-id-7 div.sk-toggleable__content pre {margin: 0.2em;color: black;border-radius: 0.25em;background-color: #f0f8ff;}#sk-container-id-7 input.sk-toggleable__control:checked~div.sk-toggleable__content {max-height: 200px;max-width: 100%;overflow: auto;}#sk-container-id-7 input.sk-toggleable__control:checked~label.sk-toggleable__label-arrow:before {content: \"▾\";}#sk-container-id-7 div.sk-estimator input.sk-toggleable__control:checked~label.sk-toggleable__label {background-color: #d4ebff;}#sk-container-id-7 div.sk-label input.sk-toggleable__control:checked~label.sk-toggleable__label {background-color: #d4ebff;}#sk-container-id-7 input.sk-hidden--visually {border: 0;clip: rect(1px 1px 1px 1px);clip: rect(1px, 1px, 1px, 1px);height: 1px;margin: -1px;overflow: hidden;padding: 0;position: absolute;width: 1px;}#sk-container-id-7 div.sk-estimator {font-family: monospace;background-color: #f0f8ff;border: 1px dotted black;border-radius: 0.25em;box-sizing: border-box;margin-bottom: 0.5em;}#sk-container-id-7 div.sk-estimator:hover {background-color: #d4ebff;}#sk-container-id-7 div.sk-parallel-item::after {content: \"\";width: 100%;border-bottom: 1px solid gray;flex-grow: 1;}#sk-container-id-7 div.sk-label:hover label.sk-toggleable__label {background-color: #d4ebff;}#sk-container-id-7 div.sk-serial::before {content: \"\";position: absolute;border-left: 1px solid gray;box-sizing: border-box;top: 0;bottom: 0;left: 50%;z-index: 0;}#sk-container-id-7 div.sk-serial {display: flex;flex-direction: column;align-items: center;background-color: white;padding-right: 0.2em;padding-left: 0.2em;position: relative;}#sk-container-id-7 div.sk-item {position: relative;z-index: 1;}#sk-container-id-7 div.sk-parallel {display: flex;align-items: stretch;justify-content: center;background-color: white;position: relative;}#sk-container-id-7 div.sk-item::before, #sk-container-id-7 div.sk-parallel-item::before {content: \"\";position: absolute;border-left: 1px solid gray;box-sizing: border-box;top: 0;bottom: 0;left: 50%;z-index: -1;}#sk-container-id-7 div.sk-parallel-item {display: flex;flex-direction: column;z-index: 1;position: relative;background-color: white;}#sk-container-id-7 div.sk-parallel-item:first-child::after {align-self: flex-end;width: 50%;}#sk-container-id-7 div.sk-parallel-item:last-child::after {align-self: flex-start;width: 50%;}#sk-container-id-7 div.sk-parallel-item:only-child::after {width: 0;}#sk-container-id-7 div.sk-dashed-wrapped {border: 1px dashed gray;margin: 0 0.4em 0.5em 0.4em;box-sizing: border-box;padding-bottom: 0.4em;background-color: white;}#sk-container-id-7 div.sk-label label {font-family: monospace;font-weight: bold;display: inline-block;line-height: 1.2em;}#sk-container-id-7 div.sk-label-container {text-align: center;}#sk-container-id-7 div.sk-container {/* jupyter's `normalize.less` sets `[hidden] { display: none; }` but bootstrap.min.css set `[hidden] { display: none !important; }` so we also need the `!important` here to be able to override the default hidden behavior on the sphinx rendered scikit-learn.org. See: https://github.com/scikit-learn/scikit-learn/issues/21755 */display: inline-block !important;position: relative;}#sk-container-id-7 div.sk-text-repr-fallback {display: none;}</style><div id=\"sk-container-id-7\" class=\"sk-top-container\"><div class=\"sk-text-repr-fallback\"><pre>Lasso()</pre><b>In a Jupyter environment, please rerun this cell to show the HTML representation or trust the notebook. <br />On GitHub, the HTML representation is unable to render, please try loading this page with nbviewer.org.</b></div><div class=\"sk-container\" hidden><div class=\"sk-item\"><div class=\"sk-estimator sk-toggleable\"><input class=\"sk-toggleable__control sk-hidden--visually\" id=\"sk-estimator-id-7\" type=\"checkbox\" checked><label for=\"sk-estimator-id-7\" class=\"sk-toggleable__label sk-toggleable__label-arrow\">Lasso</label><div class=\"sk-toggleable__content\"><pre>Lasso()</pre></div></div></div></div></div>"
      ],
      "text/plain": [
       "Lasso()"
      ]
     },
     "execution_count": 138,
     "metadata": {},
     "output_type": "execute_result"
    }
   ],
   "source": [
    "from sklearn.linear_model import Lasso\n",
    "\n",
    "model = Lasso()\n",
    "model_scaled = Lasso()\n",
    "\n",
    "model.fit(X_train, y_train)\n",
    "model_scaled.fit(X_train_scaled,y_train)"
   ]
  },
  {
   "cell_type": "code",
   "execution_count": null,
   "metadata": {},
   "outputs": [],
   "source": [
    "print(model.score(X_test, y_test))\n",
    "print(model_scaled.score(X_test_scaled,y_test))"
   ]
  }
 ],
 "metadata": {
  "kernelspec": {
   "display_name": "Python 3.8.10 64-bit",
   "language": "python",
   "name": "python3"
  },
  "language_info": {
   "codemirror_mode": {
    "name": "ipython",
    "version": 3
   },
   "file_extension": ".py",
   "mimetype": "text/x-python",
   "name": "python",
   "nbconvert_exporter": "python",
   "pygments_lexer": "ipython3",
   "version": "3.8.10"
  },
  "orig_nbformat": 4,
  "vscode": {
   "interpreter": {
    "hash": "916dbcbb3f70747c44a77c7bcd40155683ae19c65e1c03b4aa3499c5328201f1"
   }
  }
 },
 "nbformat": 4,
 "nbformat_minor": 2
}
